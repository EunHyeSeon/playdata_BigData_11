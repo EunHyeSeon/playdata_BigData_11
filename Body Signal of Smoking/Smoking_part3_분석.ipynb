{
 "cells": [
  {
   "cell_type": "code",
   "execution_count": 12,
   "id": "fcff60f4",
   "metadata": {
    "ExecuteTime": {
     "end_time": "2022-07-21T13:04:21.525775Z",
     "start_time": "2022-07-21T13:04:21.502801Z"
    }
   },
   "outputs": [
    {
     "name": "stderr",
     "output_type": "stream",
     "text": [
      "C:\\Users\\Playdata\\AppData\\Local\\Temp\\ipykernel_13916\\999676280.py:1: DeprecationWarning: Importing display from IPython.core.display is deprecated since IPython 7.14, please import from IPython display\n",
      "  from IPython.core.display import display, HTML\n"
     ]
    },
    {
     "data": {
      "text/html": [
       "<style>.container{ width:95%!important; }</style>"
      ],
      "text/plain": [
       "<IPython.core.display.HTML object>"
      ]
     },
     "metadata": {},
     "output_type": "display_data"
    }
   ],
   "source": [
    "from IPython.core.display import display, HTML\n",
    "display(HTML(\"<style>.container{ width:95%!important; }</style>\"))"
   ]
  },
  {
   "cell_type": "code",
   "execution_count": 2,
   "id": "3221c1fb",
   "metadata": {
    "ExecuteTime": {
     "end_time": "2022-07-21T12:40:56.720178Z",
     "start_time": "2022-07-21T12:40:53.562280Z"
    }
   },
   "outputs": [],
   "source": [
    "import pandas as pd\n",
    "import numpy as np\n",
    "import pandas as pd\n",
    "import seaborn as sns\n",
    "import matplotlib.pyplot as plt"
   ]
  },
  {
   "cell_type": "code",
   "execution_count": 14,
   "id": "7cfb122c",
   "metadata": {
    "ExecuteTime": {
     "end_time": "2022-07-21T00:54:05.529506Z",
     "start_time": "2022-07-21T00:54:05.521527Z"
    }
   },
   "outputs": [],
   "source": [
    "pd.set_option('display.max_columns', None)"
   ]
  },
  {
   "cell_type": "code",
   "execution_count": 15,
   "id": "4400b634",
   "metadata": {
    "ExecuteTime": {
     "end_time": "2022-07-21T00:54:07.780730Z",
     "start_time": "2022-07-21T00:54:07.578272Z"
    }
   },
   "outputs": [
    {
     "data": {
      "text/plain": [
       "(55692, 26)"
      ]
     },
     "execution_count": 15,
     "metadata": {},
     "output_type": "execute_result"
    }
   ],
   "source": [
    "data = pd.read_csv('archive/smoking.csv', index_col=0)\n",
    "data.shape"
   ]
  },
  {
   "cell_type": "code",
   "execution_count": 7,
   "id": "fba79dcc",
   "metadata": {
    "ExecuteTime": {
     "end_time": "2022-07-21T00:50:53.796833Z",
     "start_time": "2022-07-21T00:50:53.778881Z"
    }
   },
   "outputs": [
    {
     "data": {
      "text/plain": [
       "Index(['gender', 'age', 'height(cm)', 'weight(kg)', 'waist(cm)',\n",
       "       'eyesight(left)', 'eyesight(right)', 'hearing(left)', 'hearing(right)',\n",
       "       'systolic', 'relaxation', 'fasting blood sugar', 'Cholesterol',\n",
       "       'triglyceride', 'HDL', 'LDL', 'hemoglobin', 'Urine protein',\n",
       "       'serum creatinine', 'AST', 'ALT', 'Gtp', 'oral', 'dental caries',\n",
       "       'tartar', 'smoking'],\n",
       "      dtype='object')"
      ]
     },
     "execution_count": 7,
     "metadata": {},
     "output_type": "execute_result"
    }
   ],
   "source": [
    "data.columns"
   ]
  },
  {
   "cell_type": "code",
   "execution_count": 16,
   "id": "6138a6d0",
   "metadata": {
    "ExecuteTime": {
     "end_time": "2022-07-21T00:54:11.031675Z",
     "start_time": "2022-07-21T00:54:11.017711Z"
    }
   },
   "outputs": [],
   "source": [
    "X = data.drop('smoking', axis=1)\n",
    "y = data['smoking']"
   ]
  },
  {
   "cell_type": "code",
   "execution_count": 17,
   "id": "1412ca82",
   "metadata": {
    "ExecuteTime": {
     "end_time": "2022-07-21T00:54:12.807631Z",
     "start_time": "2022-07-21T00:54:12.785688Z"
    }
   },
   "outputs": [
    {
     "data": {
      "text/plain": [
       "((55692, 25), (55692,))"
      ]
     },
     "execution_count": 17,
     "metadata": {},
     "output_type": "execute_result"
    }
   ],
   "source": [
    "X.shape, y.shape"
   ]
  },
  {
   "cell_type": "code",
   "execution_count": 18,
   "id": "e4541285",
   "metadata": {
    "ExecuteTime": {
     "end_time": "2022-07-21T00:54:18.752467Z",
     "start_time": "2022-07-21T00:54:18.698604Z"
    }
   },
   "outputs": [
    {
     "name": "stdout",
     "output_type": "stream",
     "text": [
      "(41769, 25) (13923, 25) (41769,) (13923,)\n"
     ]
    }
   ],
   "source": [
    "from sklearn.model_selection import train_test_split\n",
    "X_train, X_test, y_train, y_test = train_test_split(X, y, stratify=y, random_state=0)\n",
    "print(X_train.shape, X_test.shape, y_train.shape, y_test.shape)"
   ]
  },
  {
   "cell_type": "code",
   "execution_count": 11,
   "id": "1e22b90f",
   "metadata": {
    "ExecuteTime": {
     "end_time": "2022-07-21T00:52:53.110159Z",
     "start_time": "2022-07-21T00:52:53.066276Z"
    }
   },
   "outputs": [
    {
     "name": "stdout",
     "output_type": "stream",
     "text": [
      "(31326, 25) (10443, 25) (31326,) (10443,)\n"
     ]
    }
   ],
   "source": [
    "X_train, X_val, y_train, y_val = train_test_split(X_train, y_train, stratify=y_train, random_state=0)\n",
    "print(X_train.shape, X_val.shape, y_train.shape, y_val.shape)"
   ]
  },
  {
   "cell_type": "markdown",
   "id": "ff6e847e",
   "metadata": {},
   "source": [
    "## Data 전처리"
   ]
  },
  {
   "cell_type": "code",
   "execution_count": 3,
   "id": "9e0c2426",
   "metadata": {
    "ExecuteTime": {
     "end_time": "2022-07-21T12:41:17.456971Z",
     "start_time": "2022-07-21T12:41:17.178231Z"
    }
   },
   "outputs": [
    {
     "name": "stdout",
     "output_type": "stream",
     "text": [
      "(44553, 25) (11139, 25) (44553, 1) (11139, 1)\n"
     ]
    }
   ],
   "source": [
    "#데이터 불러오기\n",
    "X_train = pd.read_csv('archive/competition_format/x_train.csv', index_col=0)\n",
    "X_test = pd.read_csv('archive/competition_format/x_test.csv', index_col=0)\n",
    "y_train = pd.read_csv('archive/competition_format/y_train.csv', index_col=0)\n",
    "y_test = pd.read_csv('archive/competition_format/y_test.csv', index_col=0)\n",
    "print(X_train.shape, X_test.shape, y_train.shape, y_test.shape)"
   ]
  },
  {
   "cell_type": "code",
   "execution_count": 4,
   "id": "82e89028",
   "metadata": {
    "ExecuteTime": {
     "end_time": "2022-07-21T12:41:19.954163Z",
     "start_time": "2022-07-21T12:41:19.938202Z"
    }
   },
   "outputs": [],
   "source": [
    "# 'oral' column drop\n",
    "X_train.drop('oral', axis=1, inplace=True)\n",
    "X_test.drop('oral', axis=1, inplace=True)"
   ]
  },
  {
   "cell_type": "code",
   "execution_count": 5,
   "id": "6c59a977",
   "metadata": {
    "ExecuteTime": {
     "end_time": "2022-07-21T12:41:22.630297Z",
     "start_time": "2022-07-21T12:41:22.492337Z"
    }
   },
   "outputs": [
    {
     "data": {
      "text/html": [
       "<div>\n",
       "<style scoped>\n",
       "    .dataframe tbody tr th:only-of-type {\n",
       "        vertical-align: middle;\n",
       "    }\n",
       "\n",
       "    .dataframe tbody tr th {\n",
       "        vertical-align: top;\n",
       "    }\n",
       "\n",
       "    .dataframe thead th {\n",
       "        text-align: right;\n",
       "    }\n",
       "</style>\n",
       "<table border=\"1\" class=\"dataframe\">\n",
       "  <thead>\n",
       "    <tr style=\"text-align: right;\">\n",
       "      <th></th>\n",
       "      <th>age</th>\n",
       "      <th>height(cm)</th>\n",
       "      <th>weight(kg)</th>\n",
       "      <th>waist(cm)</th>\n",
       "      <th>eyesight(left)</th>\n",
       "      <th>eyesight(right)</th>\n",
       "      <th>hearing(left)</th>\n",
       "      <th>hearing(right)</th>\n",
       "      <th>systolic</th>\n",
       "      <th>relaxation</th>\n",
       "      <th>...</th>\n",
       "      <th>triglyceride</th>\n",
       "      <th>HDL</th>\n",
       "      <th>LDL</th>\n",
       "      <th>hemoglobin</th>\n",
       "      <th>Urine protein</th>\n",
       "      <th>serum creatinine</th>\n",
       "      <th>AST</th>\n",
       "      <th>ALT</th>\n",
       "      <th>Gtp</th>\n",
       "      <th>dental caries</th>\n",
       "    </tr>\n",
       "  </thead>\n",
       "  <tbody>\n",
       "    <tr>\n",
       "      <th>count</th>\n",
       "      <td>44553.000000</td>\n",
       "      <td>44553.000000</td>\n",
       "      <td>44553.000000</td>\n",
       "      <td>44553.000000</td>\n",
       "      <td>44553.000000</td>\n",
       "      <td>44553.000000</td>\n",
       "      <td>44553.00000</td>\n",
       "      <td>44553.000000</td>\n",
       "      <td>44553.000000</td>\n",
       "      <td>44553.000000</td>\n",
       "      <td>...</td>\n",
       "      <td>44553.000000</td>\n",
       "      <td>44553.000000</td>\n",
       "      <td>44553.000000</td>\n",
       "      <td>44553.000000</td>\n",
       "      <td>44553.000000</td>\n",
       "      <td>44553.000000</td>\n",
       "      <td>44553.000000</td>\n",
       "      <td>44553.000000</td>\n",
       "      <td>44553.000000</td>\n",
       "      <td>44553.000000</td>\n",
       "    </tr>\n",
       "    <tr>\n",
       "      <th>mean</th>\n",
       "      <td>44.210603</td>\n",
       "      <td>164.657038</td>\n",
       "      <td>65.883442</td>\n",
       "      <td>82.077247</td>\n",
       "      <td>1.011734</td>\n",
       "      <td>1.008134</td>\n",
       "      <td>1.02561</td>\n",
       "      <td>1.026036</td>\n",
       "      <td>121.529055</td>\n",
       "      <td>76.043454</td>\n",
       "      <td>...</td>\n",
       "      <td>126.721770</td>\n",
       "      <td>57.288421</td>\n",
       "      <td>115.037663</td>\n",
       "      <td>14.622194</td>\n",
       "      <td>1.087020</td>\n",
       "      <td>0.886097</td>\n",
       "      <td>26.213678</td>\n",
       "      <td>27.084731</td>\n",
       "      <td>40.065517</td>\n",
       "      <td>0.213521</td>\n",
       "    </tr>\n",
       "    <tr>\n",
       "      <th>std</th>\n",
       "      <td>12.089077</td>\n",
       "      <td>9.198571</td>\n",
       "      <td>12.823676</td>\n",
       "      <td>9.278288</td>\n",
       "      <td>0.488131</td>\n",
       "      <td>0.488762</td>\n",
       "      <td>0.15797</td>\n",
       "      <td>0.159245</td>\n",
       "      <td>13.688748</td>\n",
       "      <td>9.695288</td>\n",
       "      <td>...</td>\n",
       "      <td>71.611991</td>\n",
       "      <td>14.795235</td>\n",
       "      <td>40.937878</td>\n",
       "      <td>1.564872</td>\n",
       "      <td>0.404944</td>\n",
       "      <td>0.226092</td>\n",
       "      <td>19.087106</td>\n",
       "      <td>31.754805</td>\n",
       "      <td>50.723521</td>\n",
       "      <td>0.409797</td>\n",
       "    </tr>\n",
       "    <tr>\n",
       "      <th>min</th>\n",
       "      <td>20.000000</td>\n",
       "      <td>130.000000</td>\n",
       "      <td>30.000000</td>\n",
       "      <td>51.000000</td>\n",
       "      <td>0.100000</td>\n",
       "      <td>0.100000</td>\n",
       "      <td>1.00000</td>\n",
       "      <td>1.000000</td>\n",
       "      <td>71.000000</td>\n",
       "      <td>40.000000</td>\n",
       "      <td>...</td>\n",
       "      <td>8.000000</td>\n",
       "      <td>4.000000</td>\n",
       "      <td>1.000000</td>\n",
       "      <td>4.900000</td>\n",
       "      <td>1.000000</td>\n",
       "      <td>0.100000</td>\n",
       "      <td>6.000000</td>\n",
       "      <td>1.000000</td>\n",
       "      <td>1.000000</td>\n",
       "      <td>0.000000</td>\n",
       "    </tr>\n",
       "    <tr>\n",
       "      <th>25%</th>\n",
       "      <td>40.000000</td>\n",
       "      <td>160.000000</td>\n",
       "      <td>55.000000</td>\n",
       "      <td>76.000000</td>\n",
       "      <td>0.800000</td>\n",
       "      <td>0.800000</td>\n",
       "      <td>1.00000</td>\n",
       "      <td>1.000000</td>\n",
       "      <td>112.000000</td>\n",
       "      <td>70.000000</td>\n",
       "      <td>...</td>\n",
       "      <td>74.000000</td>\n",
       "      <td>47.000000</td>\n",
       "      <td>92.000000</td>\n",
       "      <td>13.600000</td>\n",
       "      <td>1.000000</td>\n",
       "      <td>0.800000</td>\n",
       "      <td>19.000000</td>\n",
       "      <td>15.000000</td>\n",
       "      <td>17.000000</td>\n",
       "      <td>0.000000</td>\n",
       "    </tr>\n",
       "    <tr>\n",
       "      <th>50%</th>\n",
       "      <td>40.000000</td>\n",
       "      <td>165.000000</td>\n",
       "      <td>65.000000</td>\n",
       "      <td>82.000000</td>\n",
       "      <td>1.000000</td>\n",
       "      <td>1.000000</td>\n",
       "      <td>1.00000</td>\n",
       "      <td>1.000000</td>\n",
       "      <td>120.000000</td>\n",
       "      <td>76.000000</td>\n",
       "      <td>...</td>\n",
       "      <td>108.000000</td>\n",
       "      <td>55.000000</td>\n",
       "      <td>113.000000</td>\n",
       "      <td>14.800000</td>\n",
       "      <td>1.000000</td>\n",
       "      <td>0.900000</td>\n",
       "      <td>23.000000</td>\n",
       "      <td>21.000000</td>\n",
       "      <td>26.000000</td>\n",
       "      <td>0.000000</td>\n",
       "    </tr>\n",
       "    <tr>\n",
       "      <th>75%</th>\n",
       "      <td>55.000000</td>\n",
       "      <td>170.000000</td>\n",
       "      <td>75.000000</td>\n",
       "      <td>88.000000</td>\n",
       "      <td>1.200000</td>\n",
       "      <td>1.200000</td>\n",
       "      <td>1.00000</td>\n",
       "      <td>1.000000</td>\n",
       "      <td>130.000000</td>\n",
       "      <td>82.000000</td>\n",
       "      <td>...</td>\n",
       "      <td>160.000000</td>\n",
       "      <td>66.000000</td>\n",
       "      <td>136.000000</td>\n",
       "      <td>15.700000</td>\n",
       "      <td>1.000000</td>\n",
       "      <td>1.000000</td>\n",
       "      <td>29.000000</td>\n",
       "      <td>31.000000</td>\n",
       "      <td>44.000000</td>\n",
       "      <td>0.000000</td>\n",
       "    </tr>\n",
       "    <tr>\n",
       "      <th>max</th>\n",
       "      <td>85.000000</td>\n",
       "      <td>190.000000</td>\n",
       "      <td>135.000000</td>\n",
       "      <td>129.000000</td>\n",
       "      <td>9.900000</td>\n",
       "      <td>9.900000</td>\n",
       "      <td>2.00000</td>\n",
       "      <td>2.000000</td>\n",
       "      <td>240.000000</td>\n",
       "      <td>146.000000</td>\n",
       "      <td>...</td>\n",
       "      <td>999.000000</td>\n",
       "      <td>618.000000</td>\n",
       "      <td>1860.000000</td>\n",
       "      <td>21.100000</td>\n",
       "      <td>6.000000</td>\n",
       "      <td>11.600000</td>\n",
       "      <td>1311.000000</td>\n",
       "      <td>2914.000000</td>\n",
       "      <td>999.000000</td>\n",
       "      <td>1.000000</td>\n",
       "    </tr>\n",
       "  </tbody>\n",
       "</table>\n",
       "<p>8 rows × 22 columns</p>\n",
       "</div>"
      ],
      "text/plain": [
       "                age    height(cm)    weight(kg)     waist(cm)  eyesight(left)  \\\n",
       "count  44553.000000  44553.000000  44553.000000  44553.000000    44553.000000   \n",
       "mean      44.210603    164.657038     65.883442     82.077247        1.011734   \n",
       "std       12.089077      9.198571     12.823676      9.278288        0.488131   \n",
       "min       20.000000    130.000000     30.000000     51.000000        0.100000   \n",
       "25%       40.000000    160.000000     55.000000     76.000000        0.800000   \n",
       "50%       40.000000    165.000000     65.000000     82.000000        1.000000   \n",
       "75%       55.000000    170.000000     75.000000     88.000000        1.200000   \n",
       "max       85.000000    190.000000    135.000000    129.000000        9.900000   \n",
       "\n",
       "       eyesight(right)  hearing(left)  hearing(right)      systolic  \\\n",
       "count     44553.000000    44553.00000    44553.000000  44553.000000   \n",
       "mean          1.008134        1.02561        1.026036    121.529055   \n",
       "std           0.488762        0.15797        0.159245     13.688748   \n",
       "min           0.100000        1.00000        1.000000     71.000000   \n",
       "25%           0.800000        1.00000        1.000000    112.000000   \n",
       "50%           1.000000        1.00000        1.000000    120.000000   \n",
       "75%           1.200000        1.00000        1.000000    130.000000   \n",
       "max           9.900000        2.00000        2.000000    240.000000   \n",
       "\n",
       "         relaxation  ...  triglyceride           HDL           LDL  \\\n",
       "count  44553.000000  ...  44553.000000  44553.000000  44553.000000   \n",
       "mean      76.043454  ...    126.721770     57.288421    115.037663   \n",
       "std        9.695288  ...     71.611991     14.795235     40.937878   \n",
       "min       40.000000  ...      8.000000      4.000000      1.000000   \n",
       "25%       70.000000  ...     74.000000     47.000000     92.000000   \n",
       "50%       76.000000  ...    108.000000     55.000000    113.000000   \n",
       "75%       82.000000  ...    160.000000     66.000000    136.000000   \n",
       "max      146.000000  ...    999.000000    618.000000   1860.000000   \n",
       "\n",
       "         hemoglobin  Urine protein  serum creatinine           AST  \\\n",
       "count  44553.000000   44553.000000      44553.000000  44553.000000   \n",
       "mean      14.622194       1.087020          0.886097     26.213678   \n",
       "std        1.564872       0.404944          0.226092     19.087106   \n",
       "min        4.900000       1.000000          0.100000      6.000000   \n",
       "25%       13.600000       1.000000          0.800000     19.000000   \n",
       "50%       14.800000       1.000000          0.900000     23.000000   \n",
       "75%       15.700000       1.000000          1.000000     29.000000   \n",
       "max       21.100000       6.000000         11.600000   1311.000000   \n",
       "\n",
       "                ALT           Gtp  dental caries  \n",
       "count  44553.000000  44553.000000   44553.000000  \n",
       "mean      27.084731     40.065517       0.213521  \n",
       "std       31.754805     50.723521       0.409797  \n",
       "min        1.000000      1.000000       0.000000  \n",
       "25%       15.000000     17.000000       0.000000  \n",
       "50%       21.000000     26.000000       0.000000  \n",
       "75%       31.000000     44.000000       0.000000  \n",
       "max     2914.000000    999.000000       1.000000  \n",
       "\n",
       "[8 rows x 22 columns]"
      ]
     },
     "execution_count": 5,
     "metadata": {},
     "output_type": "execute_result"
    }
   ],
   "source": [
    "# 백분위 값 확인\n",
    "X_train.describe()"
   ]
  },
  {
   "cell_type": "code",
   "execution_count": 9,
   "id": "d8ff0390",
   "metadata": {
    "ExecuteTime": {
     "end_time": "2022-07-21T12:42:36.141526Z",
     "start_time": "2022-07-21T12:42:36.124182Z"
    }
   },
   "outputs": [],
   "source": [
    "# 이상치 변환 함수 , 특정컬럼\n",
    "\n",
    "def outHigh(df, a):\n",
    "    to_75 = df[a].quantile(0.75)\n",
    "    target = df[a].quantile(0.90)\n",
    "    df[a] = df[a].apply(lambda x: to_75 if x >= target else x)"
   ]
  },
  {
   "cell_type": "code",
   "execution_count": 145,
   "id": "1a15a933",
   "metadata": {
    "ExecuteTime": {
     "end_time": "2022-07-20T09:33:10.237783Z",
     "start_time": "2022-07-20T09:33:10.227812Z"
    }
   },
   "outputs": [],
   "source": [
    "def outHigh2(df, a):\n",
    "    to_75 = df[a].quantile(0.75)\n",
    "    target = df[a].quantile(0.75)\n",
    "    df[a] = df[a].apply(lambda x: to_75 if x >= target else x)"
   ]
  },
  {
   "cell_type": "code",
   "execution_count": 183,
   "id": "de765511",
   "metadata": {
    "ExecuteTime": {
     "end_time": "2022-07-20T09:48:15.736738Z",
     "start_time": "2022-07-20T09:48:15.721744Z"
    }
   },
   "outputs": [],
   "source": [
    "def outLow(df, a):\n",
    "    to_75 = df[a].quantile(0.25)\n",
    "    target = df[a].quantile(0.05)\n",
    "    df[a] = df[a].apply(lambda x: to_75 if x <= target else x)"
   ]
  },
  {
   "cell_type": "code",
   "execution_count": 59,
   "id": "39fa89bf",
   "metadata": {
    "ExecuteTime": {
     "end_time": "2022-07-21T01:18:37.935561Z",
     "start_time": "2022-07-21T01:18:37.278377Z"
    }
   },
   "outputs": [],
   "source": [
    "# 이상치 변환 함수 , DataFrame\n",
    "outcols = ['age', 'height(cm)', 'weight(kg)', 'waist(cm)',\n",
    "       'eyesight(left)', 'eyesight(right)', 'hearing(left)', 'hearing(right)',\n",
    "       'systolic', 'relaxation', 'fasting blood sugar', 'Cholesterol',\n",
    "        'HDL', 'LDL', 'hemoglobin', 'Urine protein',\n",
    "       'serum creatinine', 'AST', 'ALT', 'dental caries']\n",
    "for col in outcols:\n",
    "    outHigh(X_train, str(col))\n",
    "    outHigh(X_test, str(col))\n",
    "    outHigh(X_val, str(col))"
   ]
  },
  {
   "cell_type": "code",
   "execution_count": 161,
   "id": "e1802efc",
   "metadata": {
    "ExecuteTime": {
     "end_time": "2022-07-20T09:38:13.765910Z",
     "start_time": "2022-07-20T09:38:13.609020Z"
    }
   },
   "outputs": [],
   "source": [
    "for col in outcols:\n",
    "    outHigh(X_test, str(col))"
   ]
  },
  {
   "cell_type": "code",
   "execution_count": 15,
   "id": "cd750a2e",
   "metadata": {
    "ExecuteTime": {
     "end_time": "2022-07-20T00:31:17.731671Z",
     "start_time": "2022-07-20T00:31:17.609038Z"
    }
   },
   "outputs": [],
   "source": [
    "# 'Gtp', 'triglyceride' ,'eyesight'이상치 상위 90% 이상 75% 값으로 변환\n",
    "outcols = []\n",
    "outHigh(X_train, 'Gtp')\n",
    "outHigh(X_train, 'triglyceride')\n",
    "outHigh(X_train, 'eyesight(right)')\n",
    "outHigh(X_train, 'eyesight(left)')\n",
    "\n",
    "outHigh(X_test, 'Gtp')\n",
    "outHigh(X_test, 'triglyceride')\n",
    "outHigh(X_test, 'eyesight(right)')\n",
    "outHigh(X_test, 'eyesight(left)')"
   ]
  },
  {
   "cell_type": "code",
   "execution_count": 10,
   "id": "34d74913",
   "metadata": {
    "ExecuteTime": {
     "end_time": "2022-07-21T12:42:43.794603Z",
     "start_time": "2022-07-21T12:42:43.738458Z"
    }
   },
   "outputs": [],
   "source": [
    "# ['Gtp','triglyceride' ] 컬럼만 이상치변환\n",
    "cols = ['Gtp','triglyceride' ]\n",
    "for col in cols:\n",
    "    outHigh(X_train, str(col))\n",
    "    outHigh(X_test, str(col))"
   ]
  },
  {
   "cell_type": "code",
   "execution_count": 184,
   "id": "0755d46d",
   "metadata": {
    "ExecuteTime": {
     "end_time": "2022-07-20T09:48:49.173203Z",
     "start_time": "2022-07-20T09:48:49.097369Z"
    }
   },
   "outputs": [],
   "source": [
    "cols = ['Gtp','triglyceride' ]\n",
    "for col in cols:\n",
    "    outLow(X_train, str(col))\n",
    "    outLow(X_test, str(col))"
   ]
  },
  {
   "cell_type": "code",
   "execution_count": 8,
   "id": "c67ac5fa",
   "metadata": {
    "ExecuteTime": {
     "end_time": "2022-07-21T12:41:46.879453Z",
     "start_time": "2022-07-21T12:41:46.850573Z"
    }
   },
   "outputs": [
    {
     "data": {
      "text/html": [
       "<div>\n",
       "<style scoped>\n",
       "    .dataframe tbody tr th:only-of-type {\n",
       "        vertical-align: middle;\n",
       "    }\n",
       "\n",
       "    .dataframe tbody tr th {\n",
       "        vertical-align: top;\n",
       "    }\n",
       "\n",
       "    .dataframe thead th {\n",
       "        text-align: right;\n",
       "    }\n",
       "</style>\n",
       "<table border=\"1\" class=\"dataframe\">\n",
       "  <thead>\n",
       "    <tr style=\"text-align: right;\">\n",
       "      <th></th>\n",
       "      <th>Gtp</th>\n",
       "      <th>triglyceride</th>\n",
       "    </tr>\n",
       "  </thead>\n",
       "  <tbody>\n",
       "    <tr>\n",
       "      <th>count</th>\n",
       "      <td>31187.000000</td>\n",
       "      <td>31187.000000</td>\n",
       "    </tr>\n",
       "    <tr>\n",
       "      <th>mean</th>\n",
       "      <td>40.226857</td>\n",
       "      <td>126.306281</td>\n",
       "    </tr>\n",
       "    <tr>\n",
       "      <th>std</th>\n",
       "      <td>51.575895</td>\n",
       "      <td>71.364020</td>\n",
       "    </tr>\n",
       "    <tr>\n",
       "      <th>min</th>\n",
       "      <td>2.000000</td>\n",
       "      <td>15.000000</td>\n",
       "    </tr>\n",
       "    <tr>\n",
       "      <th>25%</th>\n",
       "      <td>17.000000</td>\n",
       "      <td>74.000000</td>\n",
       "    </tr>\n",
       "    <tr>\n",
       "      <th>50%</th>\n",
       "      <td>25.000000</td>\n",
       "      <td>108.000000</td>\n",
       "    </tr>\n",
       "    <tr>\n",
       "      <th>75%</th>\n",
       "      <td>44.000000</td>\n",
       "      <td>160.000000</td>\n",
       "    </tr>\n",
       "    <tr>\n",
       "      <th>max</th>\n",
       "      <td>999.000000</td>\n",
       "      <td>466.000000</td>\n",
       "    </tr>\n",
       "  </tbody>\n",
       "</table>\n",
       "</div>"
      ],
      "text/plain": [
       "                Gtp  triglyceride\n",
       "count  31187.000000  31187.000000\n",
       "mean      40.226857    126.306281\n",
       "std       51.575895     71.364020\n",
       "min        2.000000     15.000000\n",
       "25%       17.000000     74.000000\n",
       "50%       25.000000    108.000000\n",
       "75%       44.000000    160.000000\n",
       "max      999.000000    466.000000"
      ]
     },
     "execution_count": 8,
     "metadata": {},
     "output_type": "execute_result"
    }
   ],
   "source": [
    "# 처리 전 ['Gtp', 'triglyceride'] 백분위 값 확인\n",
    "X_train[['Gtp', 'triglyceride']].describe()"
   ]
  },
  {
   "cell_type": "code",
   "execution_count": 11,
   "id": "094f002c",
   "metadata": {
    "ExecuteTime": {
     "end_time": "2022-07-21T12:43:02.718689Z",
     "start_time": "2022-07-21T12:43:02.686739Z"
    }
   },
   "outputs": [
    {
     "data": {
      "text/html": [
       "<div>\n",
       "<style scoped>\n",
       "    .dataframe tbody tr th:only-of-type {\n",
       "        vertical-align: middle;\n",
       "    }\n",
       "\n",
       "    .dataframe tbody tr th {\n",
       "        vertical-align: top;\n",
       "    }\n",
       "\n",
       "    .dataframe thead th {\n",
       "        text-align: right;\n",
       "    }\n",
       "</style>\n",
       "<table border=\"1\" class=\"dataframe\">\n",
       "  <thead>\n",
       "    <tr style=\"text-align: right;\">\n",
       "      <th></th>\n",
       "      <th>Gtp</th>\n",
       "      <th>triglyceride</th>\n",
       "    </tr>\n",
       "  </thead>\n",
       "  <tbody>\n",
       "    <tr>\n",
       "      <th>count</th>\n",
       "      <td>31187.000000</td>\n",
       "      <td>31187.000000</td>\n",
       "    </tr>\n",
       "    <tr>\n",
       "      <th>mean</th>\n",
       "      <td>29.729471</td>\n",
       "      <td>113.591496</td>\n",
       "    </tr>\n",
       "    <tr>\n",
       "      <th>std</th>\n",
       "      <td>15.544283</td>\n",
       "      <td>47.395482</td>\n",
       "    </tr>\n",
       "    <tr>\n",
       "      <th>min</th>\n",
       "      <td>2.000000</td>\n",
       "      <td>15.000000</td>\n",
       "    </tr>\n",
       "    <tr>\n",
       "      <th>25%</th>\n",
       "      <td>17.000000</td>\n",
       "      <td>74.000000</td>\n",
       "    </tr>\n",
       "    <tr>\n",
       "      <th>50%</th>\n",
       "      <td>25.000000</td>\n",
       "      <td>108.000000</td>\n",
       "    </tr>\n",
       "    <tr>\n",
       "      <th>75%</th>\n",
       "      <td>44.000000</td>\n",
       "      <td>160.000000</td>\n",
       "    </tr>\n",
       "    <tr>\n",
       "      <th>max</th>\n",
       "      <td>77.000000</td>\n",
       "      <td>226.000000</td>\n",
       "    </tr>\n",
       "  </tbody>\n",
       "</table>\n",
       "</div>"
      ],
      "text/plain": [
       "                Gtp  triglyceride\n",
       "count  31187.000000  31187.000000\n",
       "mean      29.729471    113.591496\n",
       "std       15.544283     47.395482\n",
       "min        2.000000     15.000000\n",
       "25%       17.000000     74.000000\n",
       "50%       25.000000    108.000000\n",
       "75%       44.000000    160.000000\n",
       "max       77.000000    226.000000"
      ]
     },
     "execution_count": 11,
     "metadata": {},
     "output_type": "execute_result"
    }
   ],
   "source": [
    "# 처리 후 ['Gtp', 'triglyceride'] 백분위 값 확인\n",
    "X_train[['Gtp', 'triglyceride']].describe()"
   ]
  },
  {
   "cell_type": "code",
   "execution_count": 27,
   "id": "58aebed9",
   "metadata": {
    "ExecuteTime": {
     "end_time": "2022-07-19T11:18:00.418662Z",
     "start_time": "2022-07-19T11:18:00.371789Z"
    },
    "collapsed": true
   },
   "outputs": [
    {
     "data": {
      "text/html": [
       "<div>\n",
       "<style scoped>\n",
       "    .dataframe tbody tr th:only-of-type {\n",
       "        vertical-align: middle;\n",
       "    }\n",
       "\n",
       "    .dataframe tbody tr th {\n",
       "        vertical-align: top;\n",
       "    }\n",
       "\n",
       "    .dataframe thead th {\n",
       "        text-align: right;\n",
       "    }\n",
       "</style>\n",
       "<table border=\"1\" class=\"dataframe\">\n",
       "  <thead>\n",
       "    <tr style=\"text-align: right;\">\n",
       "      <th></th>\n",
       "      <th>Gtp</th>\n",
       "      <th>triglyceride</th>\n",
       "      <th>eyesight(right)</th>\n",
       "      <th>eyesight(left)</th>\n",
       "    </tr>\n",
       "  </thead>\n",
       "  <tbody>\n",
       "    <tr>\n",
       "      <th>count</th>\n",
       "      <td>33414.000000</td>\n",
       "      <td>33414.000000</td>\n",
       "      <td>33414.000000</td>\n",
       "      <td>33414.000000</td>\n",
       "    </tr>\n",
       "    <tr>\n",
       "      <th>mean</th>\n",
       "      <td>29.725325</td>\n",
       "      <td>113.689531</td>\n",
       "      <td>0.948282</td>\n",
       "      <td>0.949758</td>\n",
       "    </tr>\n",
       "    <tr>\n",
       "      <th>std</th>\n",
       "      <td>15.542169</td>\n",
       "      <td>47.388993</td>\n",
       "      <td>0.259571</td>\n",
       "      <td>0.259891</td>\n",
       "    </tr>\n",
       "    <tr>\n",
       "      <th>min</th>\n",
       "      <td>2.000000</td>\n",
       "      <td>15.000000</td>\n",
       "      <td>0.100000</td>\n",
       "      <td>0.100000</td>\n",
       "    </tr>\n",
       "    <tr>\n",
       "      <th>25%</th>\n",
       "      <td>17.000000</td>\n",
       "      <td>74.000000</td>\n",
       "      <td>0.800000</td>\n",
       "      <td>0.800000</td>\n",
       "    </tr>\n",
       "    <tr>\n",
       "      <th>50%</th>\n",
       "      <td>25.000000</td>\n",
       "      <td>108.000000</td>\n",
       "      <td>1.000000</td>\n",
       "      <td>1.000000</td>\n",
       "    </tr>\n",
       "    <tr>\n",
       "      <th>75%</th>\n",
       "      <td>44.000000</td>\n",
       "      <td>160.000000</td>\n",
       "      <td>1.200000</td>\n",
       "      <td>1.200000</td>\n",
       "    </tr>\n",
       "    <tr>\n",
       "      <th>max</th>\n",
       "      <td>77.000000</td>\n",
       "      <td>226.000000</td>\n",
       "      <td>1.300000</td>\n",
       "      <td>1.300000</td>\n",
       "    </tr>\n",
       "  </tbody>\n",
       "</table>\n",
       "</div>"
      ],
      "text/plain": [
       "                Gtp  triglyceride  eyesight(right)  eyesight(left)\n",
       "count  33414.000000  33414.000000     33414.000000    33414.000000\n",
       "mean      29.725325    113.689531         0.948282        0.949758\n",
       "std       15.542169     47.388993         0.259571        0.259891\n",
       "min        2.000000     15.000000         0.100000        0.100000\n",
       "25%       17.000000     74.000000         0.800000        0.800000\n",
       "50%       25.000000    108.000000         1.000000        1.000000\n",
       "75%       44.000000    160.000000         1.200000        1.200000\n",
       "max       77.000000    226.000000         1.300000        1.300000"
      ]
     },
     "execution_count": 27,
     "metadata": {},
     "output_type": "execute_result"
    }
   ],
   "source": [
    "# ['Gtp', 'triglyceride', 'eyesight(right)', 'eyesight(left)'] 백분위 값 확인\n",
    "X_train[['Gtp', 'triglyceride', 'eyesight(right)', 'eyesight(left)']].describe()"
   ]
  },
  {
   "cell_type": "code",
   "execution_count": 191,
   "id": "7c35c29c",
   "metadata": {
    "ExecuteTime": {
     "end_time": "2022-07-20T09:50:17.989784Z",
     "start_time": "2022-07-20T09:50:17.825235Z"
    }
   },
   "outputs": [
    {
     "data": {
      "text/html": [
       "<div>\n",
       "<style scoped>\n",
       "    .dataframe tbody tr th:only-of-type {\n",
       "        vertical-align: middle;\n",
       "    }\n",
       "\n",
       "    .dataframe tbody tr th {\n",
       "        vertical-align: top;\n",
       "    }\n",
       "\n",
       "    .dataframe thead th {\n",
       "        text-align: right;\n",
       "    }\n",
       "</style>\n",
       "<table border=\"1\" class=\"dataframe\">\n",
       "  <thead>\n",
       "    <tr style=\"text-align: right;\">\n",
       "      <th></th>\n",
       "      <th>gender</th>\n",
       "      <th>age</th>\n",
       "      <th>height(cm)</th>\n",
       "      <th>weight(kg)</th>\n",
       "      <th>waist(cm)</th>\n",
       "      <th>eyesight(left)</th>\n",
       "      <th>eyesight(right)</th>\n",
       "      <th>hearing(left)</th>\n",
       "      <th>hearing(right)</th>\n",
       "      <th>systolic</th>\n",
       "      <th>...</th>\n",
       "      <th>HDL</th>\n",
       "      <th>LDL</th>\n",
       "      <th>hemoglobin</th>\n",
       "      <th>Urine protein</th>\n",
       "      <th>serum creatinine</th>\n",
       "      <th>AST</th>\n",
       "      <th>ALT</th>\n",
       "      <th>Gtp</th>\n",
       "      <th>dental caries</th>\n",
       "      <th>tartar</th>\n",
       "    </tr>\n",
       "  </thead>\n",
       "  <tbody>\n",
       "    <tr>\n",
       "      <th>count</th>\n",
       "      <td>33414.000000</td>\n",
       "      <td>3.341400e+04</td>\n",
       "      <td>3.341400e+04</td>\n",
       "      <td>33414.00000</td>\n",
       "      <td>3.341400e+04</td>\n",
       "      <td>33414.000000</td>\n",
       "      <td>33414.000000</td>\n",
       "      <td>33414.000000</td>\n",
       "      <td>33414.000000</td>\n",
       "      <td>3.341400e+04</td>\n",
       "      <td>...</td>\n",
       "      <td>33414.0</td>\n",
       "      <td>33414.0</td>\n",
       "      <td>3.341400e+04</td>\n",
       "      <td>33414.000000</td>\n",
       "      <td>33414.000000</td>\n",
       "      <td>33414.0</td>\n",
       "      <td>33414.0</td>\n",
       "      <td>33414.000000</td>\n",
       "      <td>33414.000000</td>\n",
       "      <td>33414.000000</td>\n",
       "    </tr>\n",
       "    <tr>\n",
       "      <th>mean</th>\n",
       "      <td>0.636709</td>\n",
       "      <td>inf</td>\n",
       "      <td>inf</td>\n",
       "      <td>inf</td>\n",
       "      <td>inf</td>\n",
       "      <td>1.013672</td>\n",
       "      <td>1.009766</td>\n",
       "      <td>1.025391</td>\n",
       "      <td>1.026367</td>\n",
       "      <td>inf</td>\n",
       "      <td>...</td>\n",
       "      <td>inf</td>\n",
       "      <td>inf</td>\n",
       "      <td>inf</td>\n",
       "      <td>1.085938</td>\n",
       "      <td>0.886719</td>\n",
       "      <td>inf</td>\n",
       "      <td>inf</td>\n",
       "      <td>28.210570</td>\n",
       "      <td>0.213135</td>\n",
       "      <td>0.554588</td>\n",
       "    </tr>\n",
       "    <tr>\n",
       "      <th>std</th>\n",
       "      <td>0.480955</td>\n",
       "      <td>1.213281e+01</td>\n",
       "      <td>9.195312e+00</td>\n",
       "      <td>12.84375</td>\n",
       "      <td>9.273438e+00</td>\n",
       "      <td>0.491455</td>\n",
       "      <td>0.480713</td>\n",
       "      <td>0.158813</td>\n",
       "      <td>0.159424</td>\n",
       "      <td>1.361719e+01</td>\n",
       "      <td>...</td>\n",
       "      <td>inf</td>\n",
       "      <td>inf</td>\n",
       "      <td>1.563477e+00</td>\n",
       "      <td>0.400391</td>\n",
       "      <td>0.230347</td>\n",
       "      <td>inf</td>\n",
       "      <td>inf</td>\n",
       "      <td>11.587303</td>\n",
       "      <td>0.409668</td>\n",
       "      <td>0.497019</td>\n",
       "    </tr>\n",
       "    <tr>\n",
       "      <th>min</th>\n",
       "      <td>0.000000</td>\n",
       "      <td>2.000000e+01</td>\n",
       "      <td>1.300000e+02</td>\n",
       "      <td>30.00000</td>\n",
       "      <td>5.100000e+01</td>\n",
       "      <td>0.099976</td>\n",
       "      <td>0.099976</td>\n",
       "      <td>1.000000</td>\n",
       "      <td>1.000000</td>\n",
       "      <td>7.100000e+01</td>\n",
       "      <td>...</td>\n",
       "      <td>11.0</td>\n",
       "      <td>1.0</td>\n",
       "      <td>4.898438e+00</td>\n",
       "      <td>1.000000</td>\n",
       "      <td>0.099976</td>\n",
       "      <td>6.0</td>\n",
       "      <td>1.0</td>\n",
       "      <td>12.000000</td>\n",
       "      <td>0.000000</td>\n",
       "      <td>0.000000</td>\n",
       "    </tr>\n",
       "    <tr>\n",
       "      <th>25%</th>\n",
       "      <td>0.000000</td>\n",
       "      <td>4.000000e+01</td>\n",
       "      <td>1.600000e+02</td>\n",
       "      <td>55.00000</td>\n",
       "      <td>7.600000e+01</td>\n",
       "      <td>0.799805</td>\n",
       "      <td>0.799805</td>\n",
       "      <td>1.000000</td>\n",
       "      <td>1.000000</td>\n",
       "      <td>1.120000e+02</td>\n",
       "      <td>...</td>\n",
       "      <td>47.0</td>\n",
       "      <td>92.0</td>\n",
       "      <td>1.360156e+01</td>\n",
       "      <td>1.000000</td>\n",
       "      <td>0.799805</td>\n",
       "      <td>19.0</td>\n",
       "      <td>15.0</td>\n",
       "      <td>17.000000</td>\n",
       "      <td>0.000000</td>\n",
       "      <td>0.000000</td>\n",
       "    </tr>\n",
       "    <tr>\n",
       "      <th>50%</th>\n",
       "      <td>1.000000</td>\n",
       "      <td>4.000000e+01</td>\n",
       "      <td>1.650000e+02</td>\n",
       "      <td>65.00000</td>\n",
       "      <td>8.200000e+01</td>\n",
       "      <td>1.000000</td>\n",
       "      <td>1.000000</td>\n",
       "      <td>1.000000</td>\n",
       "      <td>1.000000</td>\n",
       "      <td>1.200000e+02</td>\n",
       "      <td>...</td>\n",
       "      <td>55.0</td>\n",
       "      <td>113.0</td>\n",
       "      <td>1.479688e+01</td>\n",
       "      <td>1.000000</td>\n",
       "      <td>0.899902</td>\n",
       "      <td>23.0</td>\n",
       "      <td>21.0</td>\n",
       "      <td>25.000000</td>\n",
       "      <td>0.000000</td>\n",
       "      <td>1.000000</td>\n",
       "    </tr>\n",
       "    <tr>\n",
       "      <th>75%</th>\n",
       "      <td>1.000000</td>\n",
       "      <td>5.500000e+01</td>\n",
       "      <td>1.700000e+02</td>\n",
       "      <td>75.00000</td>\n",
       "      <td>8.800000e+01</td>\n",
       "      <td>1.200195</td>\n",
       "      <td>1.200195</td>\n",
       "      <td>1.000000</td>\n",
       "      <td>1.000000</td>\n",
       "      <td>1.300000e+02</td>\n",
       "      <td>...</td>\n",
       "      <td>66.0</td>\n",
       "      <td>136.0</td>\n",
       "      <td>1.570312e+01</td>\n",
       "      <td>1.000000</td>\n",
       "      <td>1.000000</td>\n",
       "      <td>28.0</td>\n",
       "      <td>31.0</td>\n",
       "      <td>44.000000</td>\n",
       "      <td>0.000000</td>\n",
       "      <td>1.000000</td>\n",
       "    </tr>\n",
       "    <tr>\n",
       "      <th>max</th>\n",
       "      <td>1.000000</td>\n",
       "      <td>8.500000e+01</td>\n",
       "      <td>1.900000e+02</td>\n",
       "      <td>135.00000</td>\n",
       "      <td>1.290000e+02</td>\n",
       "      <td>9.898438</td>\n",
       "      <td>9.898438</td>\n",
       "      <td>2.000000</td>\n",
       "      <td>2.000000</td>\n",
       "      <td>2.400000e+02</td>\n",
       "      <td>...</td>\n",
       "      <td>618.0</td>\n",
       "      <td>1860.0</td>\n",
       "      <td>2.109375e+01</td>\n",
       "      <td>6.000000</td>\n",
       "      <td>11.601562</td>\n",
       "      <td>1090.0</td>\n",
       "      <td>2914.0</td>\n",
       "      <td>44.000000</td>\n",
       "      <td>1.000000</td>\n",
       "      <td>1.000000</td>\n",
       "    </tr>\n",
       "  </tbody>\n",
       "</table>\n",
       "<p>8 rows × 24 columns</p>\n",
       "</div>"
      ],
      "text/plain": [
       "             gender           age    height(cm)   weight(kg)     waist(cm)  \\\n",
       "count  33414.000000  3.341400e+04  3.341400e+04  33414.00000  3.341400e+04   \n",
       "mean       0.636709           inf           inf          inf           inf   \n",
       "std        0.480955  1.213281e+01  9.195312e+00     12.84375  9.273438e+00   \n",
       "min        0.000000  2.000000e+01  1.300000e+02     30.00000  5.100000e+01   \n",
       "25%        0.000000  4.000000e+01  1.600000e+02     55.00000  7.600000e+01   \n",
       "50%        1.000000  4.000000e+01  1.650000e+02     65.00000  8.200000e+01   \n",
       "75%        1.000000  5.500000e+01  1.700000e+02     75.00000  8.800000e+01   \n",
       "max        1.000000  8.500000e+01  1.900000e+02    135.00000  1.290000e+02   \n",
       "\n",
       "       eyesight(left)  eyesight(right)  hearing(left)  hearing(right)  \\\n",
       "count    33414.000000     33414.000000   33414.000000    33414.000000   \n",
       "mean         1.013672         1.009766       1.025391        1.026367   \n",
       "std          0.491455         0.480713       0.158813        0.159424   \n",
       "min          0.099976         0.099976       1.000000        1.000000   \n",
       "25%          0.799805         0.799805       1.000000        1.000000   \n",
       "50%          1.000000         1.000000       1.000000        1.000000   \n",
       "75%          1.200195         1.200195       1.000000        1.000000   \n",
       "max          9.898438         9.898438       2.000000        2.000000   \n",
       "\n",
       "           systolic  ...      HDL      LDL    hemoglobin  Urine protein  \\\n",
       "count  3.341400e+04  ...  33414.0  33414.0  3.341400e+04   33414.000000   \n",
       "mean            inf  ...      inf      inf           inf       1.085938   \n",
       "std    1.361719e+01  ...      inf      inf  1.563477e+00       0.400391   \n",
       "min    7.100000e+01  ...     11.0      1.0  4.898438e+00       1.000000   \n",
       "25%    1.120000e+02  ...     47.0     92.0  1.360156e+01       1.000000   \n",
       "50%    1.200000e+02  ...     55.0    113.0  1.479688e+01       1.000000   \n",
       "75%    1.300000e+02  ...     66.0    136.0  1.570312e+01       1.000000   \n",
       "max    2.400000e+02  ...    618.0   1860.0  2.109375e+01       6.000000   \n",
       "\n",
       "       serum creatinine      AST      ALT           Gtp  dental caries  \\\n",
       "count      33414.000000  33414.0  33414.0  33414.000000   33414.000000   \n",
       "mean           0.886719      inf      inf     28.210570       0.213135   \n",
       "std            0.230347      inf      inf     11.587303       0.409668   \n",
       "min            0.099976      6.0      1.0     12.000000       0.000000   \n",
       "25%            0.799805     19.0     15.0     17.000000       0.000000   \n",
       "50%            0.899902     23.0     21.0     25.000000       0.000000   \n",
       "75%            1.000000     28.0     31.0     44.000000       0.000000   \n",
       "max           11.601562   1090.0   2914.0     44.000000       1.000000   \n",
       "\n",
       "             tartar  \n",
       "count  33414.000000  \n",
       "mean       0.554588  \n",
       "std        0.497019  \n",
       "min        0.000000  \n",
       "25%        0.000000  \n",
       "50%        1.000000  \n",
       "75%        1.000000  \n",
       "max        1.000000  \n",
       "\n",
       "[8 rows x 24 columns]"
      ]
     },
     "execution_count": 191,
     "metadata": {},
     "output_type": "execute_result"
    }
   ],
   "source": [
    "# 전체 백분위 값 확인\n",
    "X_train.describe()"
   ]
  },
  {
   "cell_type": "code",
   "execution_count": 7,
   "id": "76ee03bd",
   "metadata": {
    "ExecuteTime": {
     "end_time": "2022-07-21T12:41:43.859548Z",
     "start_time": "2022-07-21T12:41:43.272472Z"
    }
   },
   "outputs": [
    {
     "name": "stdout",
     "output_type": "stream",
     "text": [
      "(31187, 24) (13366, 24) (31187, 1) (13366, 1)\n"
     ]
    }
   ],
   "source": [
    "# 데이터 분리\n",
    "from sklearn.model_selection import train_test_split\n",
    "X_train, X_val, y_train, y_val = train_test_split(X_train, y_train, test_size=0.3, stratify=y_train, random_state=0)\n",
    "print(X_train.shape, X_val.shape, y_train.shape, y_val.shape)"
   ]
  },
  {
   "cell_type": "code",
   "execution_count": 25,
   "id": "7159d375",
   "metadata": {
    "ExecuteTime": {
     "end_time": "2022-07-21T00:54:54.819791Z",
     "start_time": "2022-07-21T00:54:54.800876Z"
    }
   },
   "outputs": [],
   "source": [
    "# label encoder\n",
    "from sklearn.preprocessing import LabelEncoder\n",
    "\n",
    "def label(df, a):\n",
    "    laencoder = LabelEncoder()\n",
    "    afterEn = laencoder.fit_transform(df[[a]])\n",
    "    return afterEn"
   ]
  },
  {
   "cell_type": "code",
   "execution_count": 26,
   "id": "1d4ceb03",
   "metadata": {
    "ExecuteTime": {
     "end_time": "2022-07-21T00:54:58.172711Z",
     "start_time": "2022-07-21T00:54:58.108917Z"
    },
    "collapsed": true
   },
   "outputs": [
    {
     "name": "stdout",
     "output_type": "stream",
     "text": [
      "<class 'pandas.core.frame.DataFrame'>\n",
      "Int64Index: 29238 entries, 31624 to 47711\n",
      "Data columns (total 24 columns):\n",
      " #   Column               Non-Null Count  Dtype  \n",
      "---  ------               --------------  -----  \n",
      " 0   gender               29238 non-null  int32  \n",
      " 1   age                  29238 non-null  int64  \n",
      " 2   height(cm)           29238 non-null  int64  \n",
      " 3   weight(kg)           29238 non-null  int64  \n",
      " 4   waist(cm)            29238 non-null  float64\n",
      " 5   eyesight(left)       29238 non-null  float64\n",
      " 6   eyesight(right)      29238 non-null  float64\n",
      " 7   hearing(left)        29238 non-null  float64\n",
      " 8   hearing(right)       29238 non-null  float64\n",
      " 9   systolic             29238 non-null  float64\n",
      " 10  relaxation           29238 non-null  float64\n",
      " 11  fasting blood sugar  29238 non-null  float64\n",
      " 12  Cholesterol          29238 non-null  float64\n",
      " 13  triglyceride         29238 non-null  float64\n",
      " 14  HDL                  29238 non-null  float64\n",
      " 15  LDL                  29238 non-null  float64\n",
      " 16  hemoglobin           29238 non-null  float64\n",
      " 17  Urine protein        29238 non-null  float64\n",
      " 18  serum creatinine     29238 non-null  float64\n",
      " 19  AST                  29238 non-null  float64\n",
      " 20  ALT                  29238 non-null  float64\n",
      " 21  Gtp                  29238 non-null  float64\n",
      " 22  dental caries        29238 non-null  int64  \n",
      " 23  tartar               29238 non-null  int32  \n",
      "dtypes: float64(18), int32(2), int64(4)\n",
      "memory usage: 5.4 MB\n"
     ]
    },
    {
     "name": "stderr",
     "output_type": "stream",
     "text": [
      "C:\\Users\\Playdata\\anaconda3\\envs\\tf\\lib\\site-packages\\sklearn\\preprocessing\\_label.py:115: DataConversionWarning: A column-vector y was passed when a 1d array was expected. Please change the shape of y to (n_samples, ), for example using ravel().\n",
      "  y = column_or_1d(y, warn=True)\n",
      "C:\\Users\\Playdata\\anaconda3\\envs\\tf\\lib\\site-packages\\sklearn\\preprocessing\\_label.py:115: DataConversionWarning: A column-vector y was passed when a 1d array was expected. Please change the shape of y to (n_samples, ), for example using ravel().\n",
      "  y = column_or_1d(y, warn=True)\n",
      "C:\\Users\\Playdata\\anaconda3\\envs\\tf\\lib\\site-packages\\sklearn\\preprocessing\\_label.py:115: DataConversionWarning: A column-vector y was passed when a 1d array was expected. Please change the shape of y to (n_samples, ), for example using ravel().\n",
      "  y = column_or_1d(y, warn=True)\n",
      "C:\\Users\\Playdata\\anaconda3\\envs\\tf\\lib\\site-packages\\sklearn\\preprocessing\\_label.py:115: DataConversionWarning: A column-vector y was passed when a 1d array was expected. Please change the shape of y to (n_samples, ), for example using ravel().\n",
      "  y = column_or_1d(y, warn=True)\n",
      "C:\\Users\\Playdata\\anaconda3\\envs\\tf\\lib\\site-packages\\sklearn\\preprocessing\\_label.py:115: DataConversionWarning: A column-vector y was passed when a 1d array was expected. Please change the shape of y to (n_samples, ), for example using ravel().\n",
      "  y = column_or_1d(y, warn=True)\n",
      "C:\\Users\\Playdata\\anaconda3\\envs\\tf\\lib\\site-packages\\sklearn\\preprocessing\\_label.py:115: DataConversionWarning: A column-vector y was passed when a 1d array was expected. Please change the shape of y to (n_samples, ), for example using ravel().\n",
      "  y = column_or_1d(y, warn=True)\n"
     ]
    }
   ],
   "source": [
    "# object column label encoder\n",
    "X_train['gender'] = label(X_train,'gender')\n",
    "X_test['gender'] = label(X_test,'gender')\n",
    "X_val['gender'] = label(X_val,'gender')\n",
    "X_train['tartar'] = label(X_train,'tartar')\n",
    "X_test['tartar'] = label(X_test,'tartar')\n",
    "X_val['tartar'] = label(X_val,'tartar')\n",
    "X_train.info()"
   ]
  },
  {
   "cell_type": "code",
   "execution_count": 27,
   "id": "b807a0cf",
   "metadata": {
    "ExecuteTime": {
     "end_time": "2022-07-21T00:55:00.992890Z",
     "start_time": "2022-07-21T00:55:00.941032Z"
    },
    "collapsed": true
   },
   "outputs": [
    {
     "name": "stdout",
     "output_type": "stream",
     "text": [
      "<class 'pandas.core.frame.DataFrame'>\n",
      "Int64Index: 29238 entries, 31624 to 47711\n",
      "Data columns (total 24 columns):\n",
      " #   Column               Non-Null Count  Dtype  \n",
      "---  ------               --------------  -----  \n",
      " 0   gender               29238 non-null  float16\n",
      " 1   age                  29238 non-null  float16\n",
      " 2   height(cm)           29238 non-null  float16\n",
      " 3   weight(kg)           29238 non-null  float16\n",
      " 4   waist(cm)            29238 non-null  float16\n",
      " 5   eyesight(left)       29238 non-null  float16\n",
      " 6   eyesight(right)      29238 non-null  float16\n",
      " 7   hearing(left)        29238 non-null  float16\n",
      " 8   hearing(right)       29238 non-null  float16\n",
      " 9   systolic             29238 non-null  float16\n",
      " 10  relaxation           29238 non-null  float16\n",
      " 11  fasting blood sugar  29238 non-null  float16\n",
      " 12  Cholesterol          29238 non-null  float16\n",
      " 13  triglyceride         29238 non-null  float16\n",
      " 14  HDL                  29238 non-null  float16\n",
      " 15  LDL                  29238 non-null  float16\n",
      " 16  hemoglobin           29238 non-null  float16\n",
      " 17  Urine protein        29238 non-null  float16\n",
      " 18  serum creatinine     29238 non-null  float16\n",
      " 19  AST                  29238 non-null  float16\n",
      " 20  ALT                  29238 non-null  float16\n",
      " 21  Gtp                  29238 non-null  float16\n",
      " 22  dental caries        29238 non-null  float16\n",
      " 23  tartar               29238 non-null  float16\n",
      "dtypes: float16(24)\n",
      "memory usage: 1.6 MB\n"
     ]
    }
   ],
   "source": [
    "# data type 변환 -> float16\n",
    "X_train = X_train.astype('float16')\n",
    "X_test = X_test.astype('float16')\n",
    "X_val = X_val.astype('float16')\n",
    "X_train.info()"
   ]
  },
  {
   "cell_type": "markdown",
   "id": "2d214eb9",
   "metadata": {},
   "source": [
    "## DecisionTree"
   ]
  },
  {
   "cell_type": "code",
   "execution_count": 55,
   "id": "4d2263f8",
   "metadata": {
    "ExecuteTime": {
     "end_time": "2022-07-20T00:51:50.701193Z",
     "start_time": "2022-07-20T00:51:50.688229Z"
    }
   },
   "outputs": [],
   "source": [
    "from sklearn.tree import DecisionTreeClassifier\n",
    "from metrics import print_classification_metrics"
   ]
  },
  {
   "cell_type": "code",
   "execution_count": 32,
   "id": "1cbeb360",
   "metadata": {
    "ExecuteTime": {
     "end_time": "2022-07-19T11:22:50.589381Z",
     "start_time": "2022-07-19T11:22:50.153874Z"
    }
   },
   "outputs": [
    {
     "data": {
      "text/html": [
       "<style>#sk-container-id-2 {color: black;background-color: white;}#sk-container-id-2 pre{padding: 0;}#sk-container-id-2 div.sk-toggleable {background-color: white;}#sk-container-id-2 label.sk-toggleable__label {cursor: pointer;display: block;width: 100%;margin-bottom: 0;padding: 0.3em;box-sizing: border-box;text-align: center;}#sk-container-id-2 label.sk-toggleable__label-arrow:before {content: \"▸\";float: left;margin-right: 0.25em;color: #696969;}#sk-container-id-2 label.sk-toggleable__label-arrow:hover:before {color: black;}#sk-container-id-2 div.sk-estimator:hover label.sk-toggleable__label-arrow:before {color: black;}#sk-container-id-2 div.sk-toggleable__content {max-height: 0;max-width: 0;overflow: hidden;text-align: left;background-color: #f0f8ff;}#sk-container-id-2 div.sk-toggleable__content pre {margin: 0.2em;color: black;border-radius: 0.25em;background-color: #f0f8ff;}#sk-container-id-2 input.sk-toggleable__control:checked~div.sk-toggleable__content {max-height: 200px;max-width: 100%;overflow: auto;}#sk-container-id-2 input.sk-toggleable__control:checked~label.sk-toggleable__label-arrow:before {content: \"▾\";}#sk-container-id-2 div.sk-estimator input.sk-toggleable__control:checked~label.sk-toggleable__label {background-color: #d4ebff;}#sk-container-id-2 div.sk-label input.sk-toggleable__control:checked~label.sk-toggleable__label {background-color: #d4ebff;}#sk-container-id-2 input.sk-hidden--visually {border: 0;clip: rect(1px 1px 1px 1px);clip: rect(1px, 1px, 1px, 1px);height: 1px;margin: -1px;overflow: hidden;padding: 0;position: absolute;width: 1px;}#sk-container-id-2 div.sk-estimator {font-family: monospace;background-color: #f0f8ff;border: 1px dotted black;border-radius: 0.25em;box-sizing: border-box;margin-bottom: 0.5em;}#sk-container-id-2 div.sk-estimator:hover {background-color: #d4ebff;}#sk-container-id-2 div.sk-parallel-item::after {content: \"\";width: 100%;border-bottom: 1px solid gray;flex-grow: 1;}#sk-container-id-2 div.sk-label:hover label.sk-toggleable__label {background-color: #d4ebff;}#sk-container-id-2 div.sk-serial::before {content: \"\";position: absolute;border-left: 1px solid gray;box-sizing: border-box;top: 0;bottom: 0;left: 50%;z-index: 0;}#sk-container-id-2 div.sk-serial {display: flex;flex-direction: column;align-items: center;background-color: white;padding-right: 0.2em;padding-left: 0.2em;position: relative;}#sk-container-id-2 div.sk-item {position: relative;z-index: 1;}#sk-container-id-2 div.sk-parallel {display: flex;align-items: stretch;justify-content: center;background-color: white;position: relative;}#sk-container-id-2 div.sk-item::before, #sk-container-id-2 div.sk-parallel-item::before {content: \"\";position: absolute;border-left: 1px solid gray;box-sizing: border-box;top: 0;bottom: 0;left: 50%;z-index: -1;}#sk-container-id-2 div.sk-parallel-item {display: flex;flex-direction: column;z-index: 1;position: relative;background-color: white;}#sk-container-id-2 div.sk-parallel-item:first-child::after {align-self: flex-end;width: 50%;}#sk-container-id-2 div.sk-parallel-item:last-child::after {align-self: flex-start;width: 50%;}#sk-container-id-2 div.sk-parallel-item:only-child::after {width: 0;}#sk-container-id-2 div.sk-dashed-wrapped {border: 1px dashed gray;margin: 0 0.4em 0.5em 0.4em;box-sizing: border-box;padding-bottom: 0.4em;background-color: white;}#sk-container-id-2 div.sk-label label {font-family: monospace;font-weight: bold;display: inline-block;line-height: 1.2em;}#sk-container-id-2 div.sk-label-container {text-align: center;}#sk-container-id-2 div.sk-container {/* jupyter's `normalize.less` sets `[hidden] { display: none; }` but bootstrap.min.css set `[hidden] { display: none !important; }` so we also need the `!important` here to be able to override the default hidden behavior on the sphinx rendered scikit-learn.org. See: https://github.com/scikit-learn/scikit-learn/issues/21755 */display: inline-block !important;position: relative;}#sk-container-id-2 div.sk-text-repr-fallback {display: none;}</style><div id=\"sk-container-id-2\" class=\"sk-top-container\"><div class=\"sk-text-repr-fallback\"><pre>DecisionTreeClassifier(max_depth=15, random_state=0)</pre><b>In a Jupyter environment, please rerun this cell to show the HTML representation or trust the notebook. <br />On GitHub, the HTML representation is unable to render, please try loading this page with nbviewer.org.</b></div><div class=\"sk-container\" hidden><div class=\"sk-item\"><div class=\"sk-estimator sk-toggleable\"><input class=\"sk-toggleable__control sk-hidden--visually\" id=\"sk-estimator-id-2\" type=\"checkbox\" checked><label for=\"sk-estimator-id-2\" class=\"sk-toggleable__label sk-toggleable__label-arrow\">DecisionTreeClassifier</label><div class=\"sk-toggleable__content\"><pre>DecisionTreeClassifier(max_depth=15, random_state=0)</pre></div></div></div></div></div>"
      ],
      "text/plain": [
       "DecisionTreeClassifier(max_depth=15, random_state=0)"
      ]
     },
     "execution_count": 32,
     "metadata": {},
     "output_type": "execute_result"
    }
   ],
   "source": [
    "tree = DecisionTreeClassifier(max_depth=15, random_state=0)\n",
    "tree.fit(X_train, y_train)"
   ]
  },
  {
   "cell_type": "code",
   "execution_count": 33,
   "id": "3d3187a8",
   "metadata": {
    "ExecuteTime": {
     "end_time": "2022-07-19T11:22:52.368166Z",
     "start_time": "2022-07-19T11:22:52.326706Z"
    }
   },
   "outputs": [],
   "source": [
    "pred_train = tree.predict(X_train)\n",
    "pred_test = tree.predict(X_test)\n",
    "pred_val = tree.predict(X_val)"
   ]
  },
  {
   "cell_type": "code",
   "execution_count": 31,
   "id": "d9a1f3dc",
   "metadata": {
    "ExecuteTime": {
     "end_time": "2022-07-19T11:22:30.578861Z",
     "start_time": "2022-07-19T11:22:30.471145Z"
    }
   },
   "outputs": [
    {
     "name": "stdout",
     "output_type": "stream",
     "text": [
      "==================================================\n",
      "DT_Train set에 대한 검증결과\n",
      "--------------------------------------------------\n",
      "정확도(Accuracy): 0.7543843897767403\n",
      "재현율/민감도(Recall): 0.699853228962818\n",
      "정밀도(Precision): 0.6547410176214814\n",
      "F1 점수(F1 Score): 0.6765459346549483\n",
      "==================================================\n",
      "==================================================\n",
      "DT_Test set에 대한 검증결과\n",
      "--------------------------------------------------\n",
      "정확도(Accuracy): 0.7497980070024239\n",
      "재현율/민감도(Recall): 0.6943699731903485\n",
      "정밀도(Precision): 0.6501597444089456\n",
      "F1 점수(F1 Score): 0.6715380082498527\n",
      "==================================================\n",
      "==================================================\n",
      "DT_Validation set에 대한 검증결과\n",
      "--------------------------------------------------\n",
      "정확도(Accuracy): 0.7395636951252357\n",
      "재현율/민감도(Recall): 0.6883561643835616\n",
      "정밀도(Precision): 0.6336410718306688\n",
      "F1 점수(F1 Score): 0.6598663383749559\n",
      "==================================================\n"
     ]
    }
   ],
   "source": [
    "#max_depth =7\n",
    "print_classification_metrics(y_train, pred_train, title='DT_Train set에 대한 검증결과')\n",
    "print_classification_metrics(y_test, pred_test, title='DT_Test set에 대한 검증결과')\n",
    "print_classification_metrics(y_val, pred_val, title='DT_Validation set에 대한 검증결과')"
   ]
  },
  {
   "cell_type": "code",
   "execution_count": 34,
   "id": "6452c193",
   "metadata": {
    "ExecuteTime": {
     "end_time": "2022-07-19T11:22:59.940282Z",
     "start_time": "2022-07-19T11:22:59.857272Z"
    }
   },
   "outputs": [
    {
     "name": "stdout",
     "output_type": "stream",
     "text": [
      "==================================================\n",
      "DT_Train set에 대한 검증결과\n",
      "--------------------------------------------------\n",
      "정확도(Accuracy): 0.8912132639013587\n",
      "재현율/민감도(Recall): 0.8408349641226354\n",
      "정밀도(Precision): 0.859691538140892\n",
      "F1 점수(F1 Score): 0.8501587039861496\n",
      "==================================================\n",
      "==================================================\n",
      "DT_Test set에 대한 검증결과\n",
      "--------------------------------------------------\n",
      "정확도(Accuracy): 0.8264655714157465\n",
      "재현율/민감도(Recall): 0.7233731416037046\n",
      "정밀도(Precision): 0.7881040892193308\n",
      "F1 점수(F1 Score): 0.7543525225568687\n",
      "==================================================\n",
      "==================================================\n",
      "DT_Validation set에 대한 검증결과\n",
      "--------------------------------------------------\n",
      "정확도(Accuracy): 0.7041924768830237\n",
      "재현율/민감도(Recall): 0.5902641878669276\n",
      "정밀도(Precision): 0.5983139102405157\n",
      "F1 점수(F1 Score): 0.594261790419899\n",
      "==================================================\n"
     ]
    }
   ],
   "source": [
    "#max_depth =15\n",
    "print_classification_metrics(y_train, pred_train, title='DT_Train set에 대한 검증결과')\n",
    "print_classification_metrics(y_test, pred_test, title='DT_Test set에 대한 검증결과')\n",
    "print_classification_metrics(y_val, pred_val, title='DT_Validation set에 대한 검증결과')"
   ]
  },
  {
   "cell_type": "markdown",
   "id": "e1563beb",
   "metadata": {},
   "source": [
    "### Scaled Decision Tree"
   ]
  },
  {
   "cell_type": "code",
   "execution_count": 35,
   "id": "925e70bb",
   "metadata": {
    "ExecuteTime": {
     "end_time": "2022-07-19T11:23:58.688573Z",
     "start_time": "2022-07-19T11:23:58.625421Z"
    }
   },
   "outputs": [],
   "source": [
    "from sklearn.preprocessing import StandardScaler\n",
    "s_scaler = StandardScaler()\n",
    "X_train_scaled1 = s_scaler.fit_transform(X_train)\n",
    "X_val_scaled1 = s_scaler.transform(X_val)\n",
    "X_test_scaled1 = s_scaler.transform(X_test)"
   ]
  },
  {
   "cell_type": "code",
   "execution_count": 66,
   "id": "68a9d10c",
   "metadata": {
    "ExecuteTime": {
     "end_time": "2022-07-19T11:34:04.899090Z",
     "start_time": "2022-07-19T11:34:04.471098Z"
    }
   },
   "outputs": [
    {
     "data": {
      "text/html": [
       "<style>#sk-container-id-13 {color: black;background-color: white;}#sk-container-id-13 pre{padding: 0;}#sk-container-id-13 div.sk-toggleable {background-color: white;}#sk-container-id-13 label.sk-toggleable__label {cursor: pointer;display: block;width: 100%;margin-bottom: 0;padding: 0.3em;box-sizing: border-box;text-align: center;}#sk-container-id-13 label.sk-toggleable__label-arrow:before {content: \"▸\";float: left;margin-right: 0.25em;color: #696969;}#sk-container-id-13 label.sk-toggleable__label-arrow:hover:before {color: black;}#sk-container-id-13 div.sk-estimator:hover label.sk-toggleable__label-arrow:before {color: black;}#sk-container-id-13 div.sk-toggleable__content {max-height: 0;max-width: 0;overflow: hidden;text-align: left;background-color: #f0f8ff;}#sk-container-id-13 div.sk-toggleable__content pre {margin: 0.2em;color: black;border-radius: 0.25em;background-color: #f0f8ff;}#sk-container-id-13 input.sk-toggleable__control:checked~div.sk-toggleable__content {max-height: 200px;max-width: 100%;overflow: auto;}#sk-container-id-13 input.sk-toggleable__control:checked~label.sk-toggleable__label-arrow:before {content: \"▾\";}#sk-container-id-13 div.sk-estimator input.sk-toggleable__control:checked~label.sk-toggleable__label {background-color: #d4ebff;}#sk-container-id-13 div.sk-label input.sk-toggleable__control:checked~label.sk-toggleable__label {background-color: #d4ebff;}#sk-container-id-13 input.sk-hidden--visually {border: 0;clip: rect(1px 1px 1px 1px);clip: rect(1px, 1px, 1px, 1px);height: 1px;margin: -1px;overflow: hidden;padding: 0;position: absolute;width: 1px;}#sk-container-id-13 div.sk-estimator {font-family: monospace;background-color: #f0f8ff;border: 1px dotted black;border-radius: 0.25em;box-sizing: border-box;margin-bottom: 0.5em;}#sk-container-id-13 div.sk-estimator:hover {background-color: #d4ebff;}#sk-container-id-13 div.sk-parallel-item::after {content: \"\";width: 100%;border-bottom: 1px solid gray;flex-grow: 1;}#sk-container-id-13 div.sk-label:hover label.sk-toggleable__label {background-color: #d4ebff;}#sk-container-id-13 div.sk-serial::before {content: \"\";position: absolute;border-left: 1px solid gray;box-sizing: border-box;top: 0;bottom: 0;left: 50%;z-index: 0;}#sk-container-id-13 div.sk-serial {display: flex;flex-direction: column;align-items: center;background-color: white;padding-right: 0.2em;padding-left: 0.2em;position: relative;}#sk-container-id-13 div.sk-item {position: relative;z-index: 1;}#sk-container-id-13 div.sk-parallel {display: flex;align-items: stretch;justify-content: center;background-color: white;position: relative;}#sk-container-id-13 div.sk-item::before, #sk-container-id-13 div.sk-parallel-item::before {content: \"\";position: absolute;border-left: 1px solid gray;box-sizing: border-box;top: 0;bottom: 0;left: 50%;z-index: -1;}#sk-container-id-13 div.sk-parallel-item {display: flex;flex-direction: column;z-index: 1;position: relative;background-color: white;}#sk-container-id-13 div.sk-parallel-item:first-child::after {align-self: flex-end;width: 50%;}#sk-container-id-13 div.sk-parallel-item:last-child::after {align-self: flex-start;width: 50%;}#sk-container-id-13 div.sk-parallel-item:only-child::after {width: 0;}#sk-container-id-13 div.sk-dashed-wrapped {border: 1px dashed gray;margin: 0 0.4em 0.5em 0.4em;box-sizing: border-box;padding-bottom: 0.4em;background-color: white;}#sk-container-id-13 div.sk-label label {font-family: monospace;font-weight: bold;display: inline-block;line-height: 1.2em;}#sk-container-id-13 div.sk-label-container {text-align: center;}#sk-container-id-13 div.sk-container {/* jupyter's `normalize.less` sets `[hidden] { display: none; }` but bootstrap.min.css set `[hidden] { display: none !important; }` so we also need the `!important` here to be able to override the default hidden behavior on the sphinx rendered scikit-learn.org. See: https://github.com/scikit-learn/scikit-learn/issues/21755 */display: inline-block !important;position: relative;}#sk-container-id-13 div.sk-text-repr-fallback {display: none;}</style><div id=\"sk-container-id-13\" class=\"sk-top-container\"><div class=\"sk-text-repr-fallback\"><pre>DecisionTreeClassifier(max_depth=15, random_state=0)</pre><b>In a Jupyter environment, please rerun this cell to show the HTML representation or trust the notebook. <br />On GitHub, the HTML representation is unable to render, please try loading this page with nbviewer.org.</b></div><div class=\"sk-container\" hidden><div class=\"sk-item\"><div class=\"sk-estimator sk-toggleable\"><input class=\"sk-toggleable__control sk-hidden--visually\" id=\"sk-estimator-id-13\" type=\"checkbox\" checked><label for=\"sk-estimator-id-13\" class=\"sk-toggleable__label sk-toggleable__label-arrow\">DecisionTreeClassifier</label><div class=\"sk-toggleable__content\"><pre>DecisionTreeClassifier(max_depth=15, random_state=0)</pre></div></div></div></div></div>"
      ],
      "text/plain": [
       "DecisionTreeClassifier(max_depth=15, random_state=0)"
      ]
     },
     "execution_count": 66,
     "metadata": {},
     "output_type": "execute_result"
    }
   ],
   "source": [
    "tree = DecisionTreeClassifier(max_depth=15, random_state=0)\n",
    "tree.fit(X_train_scaled1, y_train)"
   ]
  },
  {
   "cell_type": "code",
   "execution_count": 67,
   "id": "5d0569f7",
   "metadata": {
    "ExecuteTime": {
     "end_time": "2022-07-19T11:34:13.701621Z",
     "start_time": "2022-07-19T11:34:13.670732Z"
    }
   },
   "outputs": [],
   "source": [
    "s_pred_train = tree.predict(X_train_scaled1)\n",
    "s_pred_test = tree.predict(X_test_scaled1)\n",
    "s_pred_val = tree.predict(X_val_scaled1)"
   ]
  },
  {
   "cell_type": "code",
   "execution_count": 39,
   "id": "85748b9d",
   "metadata": {
    "ExecuteTime": {
     "end_time": "2022-07-19T11:25:16.541055Z",
     "start_time": "2022-07-19T11:25:16.455086Z"
    }
   },
   "outputs": [
    {
     "name": "stdout",
     "output_type": "stream",
     "text": [
      "==================================================\n",
      "DT_S_Train set에 대한 검증결과\n",
      "--------------------------------------------------\n",
      "정확도(Accuracy): 0.6980008379721075\n",
      "재현율/민감도(Recall): 0.9559686888454012\n",
      "정밀도(Precision): 0.551069330199765\n",
      "F1 점수(F1 Score): 0.6991263901726349\n",
      "==================================================\n",
      "==================================================\n",
      "DT_S_Test set에 대한 검증결과\n",
      "--------------------------------------------------\n",
      "정확도(Accuracy): 0.7070652661818835\n",
      "재현율/민감도(Recall): 0.9617353156227151\n",
      "정밀도(Precision): 0.5595575723199092\n",
      "F1 점수(F1 Score): 0.7074854325414612\n",
      "==================================================\n",
      "==================================================\n",
      "DT_S_Validation set에 대한 검증결과\n",
      "--------------------------------------------------\n",
      "정확도(Accuracy): 0.702845856899183\n",
      "재현율/민감도(Recall): 0.9603718199608611\n",
      "정밀도(Precision): 0.5549901046084252\n",
      "F1 점수(F1 Score): 0.7034581616197814\n",
      "==================================================\n"
     ]
    }
   ],
   "source": [
    "#max_depth =7\n",
    "print_classification_metrics(y_train, s_pred_train, title='DT_S_Train set에 대한 검증결과')\n",
    "print_classification_metrics(y_test, s_pred_test, title='DT_S_Test set에 대한 검증결과')\n",
    "print_classification_metrics(y_val, s_pred_val, title='DT_S_Validation set에 대한 검증결과')"
   ]
  },
  {
   "cell_type": "code",
   "execution_count": 68,
   "id": "7797f671",
   "metadata": {
    "ExecuteTime": {
     "end_time": "2022-07-19T11:34:17.578039Z",
     "start_time": "2022-07-19T11:34:17.486844Z"
    }
   },
   "outputs": [
    {
     "name": "stdout",
     "output_type": "stream",
     "text": [
      "==================================================\n",
      "DT_S_Train set에 대한 검증결과\n",
      "--------------------------------------------------\n",
      "정확도(Accuracy): 0.8912132639013587\n",
      "재현율/민감도(Recall): 0.8408349641226354\n",
      "정밀도(Precision): 0.859691538140892\n",
      "F1 점수(F1 Score): 0.8501587039861496\n",
      "==================================================\n",
      "==================================================\n",
      "DT_S_Test set에 대한 검증결과\n",
      "--------------------------------------------------\n",
      "정확도(Accuracy): 0.8264655714157465\n",
      "재현율/민감도(Recall): 0.7231294174993906\n",
      "정밀도(Precision): 0.7882571732199788\n",
      "F1 점수(F1 Score): 0.754290072454557\n",
      "==================================================\n",
      "==================================================\n",
      "DT_S_Validation set에 대한 검증결과\n",
      "--------------------------------------------------\n",
      "정확도(Accuracy): 0.7033845048927193\n",
      "재현율/민감도(Recall): 0.5885518590998043\n",
      "정밀도(Precision): 0.5973187686196624\n",
      "F1 점수(F1 Score): 0.5929029078363727\n",
      "==================================================\n"
     ]
    }
   ],
   "source": [
    "#max_depth =15\n",
    "print_classification_metrics(y_train, s_pred_train, title='DT_S_Train set에 대한 검증결과')\n",
    "print_classification_metrics(y_test, s_pred_test, title='DT_S_Test set에 대한 검증결과')\n",
    "print_classification_metrics(y_val, s_pred_val, title='DT_S_Validation set에 대한 검증결과')"
   ]
  },
  {
   "cell_type": "markdown",
   "id": "a5fed43d",
   "metadata": {},
   "source": [
    "## RandomForestClassifier"
   ]
  },
  {
   "cell_type": "code",
   "execution_count": 179,
   "id": "6c56b6ee",
   "metadata": {
    "ExecuteTime": {
     "end_time": "2022-07-20T09:42:13.815836Z",
     "start_time": "2022-07-20T09:42:13.800175Z"
    }
   },
   "outputs": [],
   "source": [
    "from sklearn.ensemble import RandomForestClassifier \n",
    "from sklearn.metrics import accuracy_score, roc_auc_score"
   ]
  },
  {
   "cell_type": "code",
   "execution_count": 122,
   "id": "b75f7d6c",
   "metadata": {
    "ExecuteTime": {
     "end_time": "2022-07-20T09:25:56.333915Z",
     "start_time": "2022-07-20T09:25:36.986319Z"
    }
   },
   "outputs": [
    {
     "name": "stderr",
     "output_type": "stream",
     "text": [
      "C:\\Users\\Playdata\\AppData\\Local\\Temp\\ipykernel_10172\\4094858274.py:3: DataConversionWarning: A column-vector y was passed when a 1d array was expected. Please change the shape of y to (n_samples,), for example using ravel().\n",
      "  rf.fit(X_train, y_train)\n"
     ]
    },
    {
     "data": {
      "text/html": [
       "<style>#sk-container-id-13 {color: black;background-color: white;}#sk-container-id-13 pre{padding: 0;}#sk-container-id-13 div.sk-toggleable {background-color: white;}#sk-container-id-13 label.sk-toggleable__label {cursor: pointer;display: block;width: 100%;margin-bottom: 0;padding: 0.3em;box-sizing: border-box;text-align: center;}#sk-container-id-13 label.sk-toggleable__label-arrow:before {content: \"▸\";float: left;margin-right: 0.25em;color: #696969;}#sk-container-id-13 label.sk-toggleable__label-arrow:hover:before {color: black;}#sk-container-id-13 div.sk-estimator:hover label.sk-toggleable__label-arrow:before {color: black;}#sk-container-id-13 div.sk-toggleable__content {max-height: 0;max-width: 0;overflow: hidden;text-align: left;background-color: #f0f8ff;}#sk-container-id-13 div.sk-toggleable__content pre {margin: 0.2em;color: black;border-radius: 0.25em;background-color: #f0f8ff;}#sk-container-id-13 input.sk-toggleable__control:checked~div.sk-toggleable__content {max-height: 200px;max-width: 100%;overflow: auto;}#sk-container-id-13 input.sk-toggleable__control:checked~label.sk-toggleable__label-arrow:before {content: \"▾\";}#sk-container-id-13 div.sk-estimator input.sk-toggleable__control:checked~label.sk-toggleable__label {background-color: #d4ebff;}#sk-container-id-13 div.sk-label input.sk-toggleable__control:checked~label.sk-toggleable__label {background-color: #d4ebff;}#sk-container-id-13 input.sk-hidden--visually {border: 0;clip: rect(1px 1px 1px 1px);clip: rect(1px, 1px, 1px, 1px);height: 1px;margin: -1px;overflow: hidden;padding: 0;position: absolute;width: 1px;}#sk-container-id-13 div.sk-estimator {font-family: monospace;background-color: #f0f8ff;border: 1px dotted black;border-radius: 0.25em;box-sizing: border-box;margin-bottom: 0.5em;}#sk-container-id-13 div.sk-estimator:hover {background-color: #d4ebff;}#sk-container-id-13 div.sk-parallel-item::after {content: \"\";width: 100%;border-bottom: 1px solid gray;flex-grow: 1;}#sk-container-id-13 div.sk-label:hover label.sk-toggleable__label {background-color: #d4ebff;}#sk-container-id-13 div.sk-serial::before {content: \"\";position: absolute;border-left: 1px solid gray;box-sizing: border-box;top: 0;bottom: 0;left: 50%;z-index: 0;}#sk-container-id-13 div.sk-serial {display: flex;flex-direction: column;align-items: center;background-color: white;padding-right: 0.2em;padding-left: 0.2em;position: relative;}#sk-container-id-13 div.sk-item {position: relative;z-index: 1;}#sk-container-id-13 div.sk-parallel {display: flex;align-items: stretch;justify-content: center;background-color: white;position: relative;}#sk-container-id-13 div.sk-item::before, #sk-container-id-13 div.sk-parallel-item::before {content: \"\";position: absolute;border-left: 1px solid gray;box-sizing: border-box;top: 0;bottom: 0;left: 50%;z-index: -1;}#sk-container-id-13 div.sk-parallel-item {display: flex;flex-direction: column;z-index: 1;position: relative;background-color: white;}#sk-container-id-13 div.sk-parallel-item:first-child::after {align-self: flex-end;width: 50%;}#sk-container-id-13 div.sk-parallel-item:last-child::after {align-self: flex-start;width: 50%;}#sk-container-id-13 div.sk-parallel-item:only-child::after {width: 0;}#sk-container-id-13 div.sk-dashed-wrapped {border: 1px dashed gray;margin: 0 0.4em 0.5em 0.4em;box-sizing: border-box;padding-bottom: 0.4em;background-color: white;}#sk-container-id-13 div.sk-label label {font-family: monospace;font-weight: bold;display: inline-block;line-height: 1.2em;}#sk-container-id-13 div.sk-label-container {text-align: center;}#sk-container-id-13 div.sk-container {/* jupyter's `normalize.less` sets `[hidden] { display: none; }` but bootstrap.min.css set `[hidden] { display: none !important; }` so we also need the `!important` here to be able to override the default hidden behavior on the sphinx rendered scikit-learn.org. See: https://github.com/scikit-learn/scikit-learn/issues/21755 */display: inline-block !important;position: relative;}#sk-container-id-13 div.sk-text-repr-fallback {display: none;}</style><div id=\"sk-container-id-13\" class=\"sk-top-container\"><div class=\"sk-text-repr-fallback\"><pre>RandomForestClassifier(max_depth=22, n_estimators=300, random_state=0)</pre><b>In a Jupyter environment, please rerun this cell to show the HTML representation or trust the notebook. <br />On GitHub, the HTML representation is unable to render, please try loading this page with nbviewer.org.</b></div><div class=\"sk-container\" hidden><div class=\"sk-item\"><div class=\"sk-estimator sk-toggleable\"><input class=\"sk-toggleable__control sk-hidden--visually\" id=\"sk-estimator-id-13\" type=\"checkbox\" checked><label for=\"sk-estimator-id-13\" class=\"sk-toggleable__label sk-toggleable__label-arrow\">RandomForestClassifier</label><div class=\"sk-toggleable__content\"><pre>RandomForestClassifier(max_depth=22, n_estimators=300, random_state=0)</pre></div></div></div></div></div>"
      ],
      "text/plain": [
       "RandomForestClassifier(max_depth=22, n_estimators=300, random_state=0)"
      ]
     },
     "execution_count": 122,
     "metadata": {},
     "output_type": "execute_result"
    }
   ],
   "source": [
    "rf = RandomForestClassifier(n_estimators=300, max_depth=22, random_state=0) #모델\n",
    "\n",
    "rf.fit(X_train, y_train)"
   ]
  },
  {
   "cell_type": "code",
   "execution_count": 123,
   "id": "1fba63e7",
   "metadata": {
    "ExecuteTime": {
     "end_time": "2022-07-20T09:26:03.722560Z",
     "start_time": "2022-07-20T09:25:58.706281Z"
    }
   },
   "outputs": [],
   "source": [
    "rf_pred_train = rf.predict(X_train)\n",
    "rf_pred_test = rf.predict(X_test)\n",
    "rf_pred_val = rf.predict(X_val)"
   ]
  },
  {
   "cell_type": "code",
   "execution_count": 115,
   "id": "0e5a3817",
   "metadata": {
    "ExecuteTime": {
     "end_time": "2022-07-20T01:42:31.723500Z",
     "start_time": "2022-07-20T01:42:31.618795Z"
    }
   },
   "outputs": [
    {
     "data": {
      "text/plain": [
       "gender                 0.118876\n",
       "Gtp                    0.088274\n",
       "hemoglobin             0.087105\n",
       "triglyceride           0.066756\n",
       "height(cm)             0.063075\n",
       "LDL                    0.051803\n",
       "waist(cm)              0.050124\n",
       "Cholesterol            0.050026\n",
       "HDL                    0.048929\n",
       "ALT                    0.046615\n",
       "fasting blood sugar    0.046229\n",
       "systolic               0.043464\n",
       "AST                    0.041553\n",
       "relaxation             0.040791\n",
       "weight(kg)             0.034635\n",
       "age                    0.033113\n",
       "serum creatinine       0.029022\n",
       "eyesight(left)         0.024603\n",
       "eyesight(right)        0.024602\n",
       "tartar                 0.010405\n",
       "hearing(right)         0.000000\n",
       "hearing(left)          0.000000\n",
       "Urine protein          0.000000\n",
       "dental caries          0.000000\n",
       "dtype: float64"
      ]
     },
     "execution_count": 115,
     "metadata": {},
     "output_type": "execute_result"
    }
   ],
   "source": [
    "fi = rf.feature_importances_\n",
    "fi_s = pd.Series(fi, index=X_train.columns)\n",
    "fi_s.sort_values(ascending=False)"
   ]
  },
  {
   "cell_type": "code",
   "execution_count": 61,
   "id": "a66dc018",
   "metadata": {
    "ExecuteTime": {
     "end_time": "2022-07-19T11:32:51.810444Z",
     "start_time": "2022-07-19T11:32:51.710248Z"
    },
    "collapsed": true
   },
   "outputs": [
    {
     "name": "stdout",
     "output_type": "stream",
     "text": [
      "==================================================\n",
      "RF_Train set에 대한 검증결과\n",
      "--------------------------------------------------\n",
      "정확도(Accuracy): 0.7653378823247741\n",
      "재현율/민감도(Recall): 0.7392367906066536\n",
      "정밀도(Precision): 0.6613173827412648\n",
      "F1 점수(F1 Score): 0.6981095753282255\n",
      "==================================================\n",
      "==================================================\n",
      "RF_S_Test set에 대한 검증결과\n",
      "--------------------------------------------------\n",
      "정확도(Accuracy): 0.7590447975581291\n",
      "재현율/민감도(Recall): 0.7223982451864489\n",
      "정밀도(Precision): 0.6573519627411843\n",
      "F1 점수(F1 Score): 0.688341848583372\n",
      "==================================================\n",
      "==================================================\n",
      "RF_Validation set에 대한 검증결과\n",
      "--------------------------------------------------\n",
      "정확도(Accuracy): 0.7487207110153514\n",
      "재현율/민감도(Recall): 0.7201565557729941\n",
      "정밀도(Precision): 0.6401391606871059\n",
      "F1 점수(F1 Score): 0.6777944054334062\n",
      "==================================================\n"
     ]
    }
   ],
   "source": [
    "#max_depth =7\n",
    "print_classification_metrics(y_train, rf_pred_train, title='RF_Train set에 대한 검증결과')\n",
    "print_classification_metrics(y_test, rf_pred_test, title='RF_S_Test set에 대한 검증결과')\n",
    "print_classification_metrics(y_val, rf_pred_val, title='RF_Validation set에 대한 검증결과')"
   ]
  },
  {
   "cell_type": "code",
   "execution_count": 64,
   "id": "a458a5c3",
   "metadata": {
    "ExecuteTime": {
     "end_time": "2022-07-19T11:33:25.177720Z",
     "start_time": "2022-07-19T11:33:25.086718Z"
    }
   },
   "outputs": [
    {
     "name": "stdout",
     "output_type": "stream",
     "text": [
      "==================================================\n",
      "RF_Train set에 대한 검증결과\n",
      "--------------------------------------------------\n",
      "정확도(Accuracy): 0.9386484707009038\n",
      "재현율/민감도(Recall): 0.9415362035225049\n",
      "정밀도(Precision): 0.8965062111801242\n",
      "F1 점수(F1 Score): 0.9184696150174992\n",
      "==================================================\n",
      "==================================================\n",
      "RF_S_Test set에 대한 검증결과\n",
      "--------------------------------------------------\n",
      "정확도(Accuracy): 0.8939761199389532\n",
      "재현율/민감도(Recall): 0.8856933950767731\n",
      "정밀도(Precision): 0.8361711919005983\n",
      "F1 점수(F1 Score): 0.8602201443957865\n",
      "==================================================\n",
      "==================================================\n",
      "RF_Validation set에 대한 검증결과\n",
      "--------------------------------------------------\n",
      "정확도(Accuracy): 0.7583266002334141\n",
      "재현율/민감도(Recall): 0.7255381604696673\n",
      "정밀도(Precision): 0.6538800705467372\n",
      "F1 점수(F1 Score): 0.6878478664192951\n",
      "==================================================\n"
     ]
    }
   ],
   "source": [
    "#max_depth =15\n",
    "print_classification_metrics(y_train, rf_pred_train, title='RF_Train set에 대한 검증결과')\n",
    "print_classification_metrics(y_test, rf_pred_test, title='RF_S_Test set에 대한 검증결과')\n",
    "print_classification_metrics(y_val, rf_pred_val, title='RF_Validation set에 대한 검증결과')"
   ]
  },
  {
   "cell_type": "code",
   "execution_count": 70,
   "id": "11430e75",
   "metadata": {
    "ExecuteTime": {
     "end_time": "2022-07-19T11:35:00.327637Z",
     "start_time": "2022-07-19T11:35:00.230797Z"
    }
   },
   "outputs": [
    {
     "name": "stdout",
     "output_type": "stream",
     "text": [
      "==================================================\n",
      "RF_Train set에 대한 검증결과\n",
      "--------------------------------------------------\n",
      "정확도(Accuracy): 0.9992817381935716\n",
      "재현율/민감도(Recall): 0.9991846053489889\n",
      "정밀도(Precision): 0.9988588196935115\n",
      "F1 점수(F1 Score): 0.9990216859611936\n",
      "==================================================\n",
      "==================================================\n",
      "RF_Test set에 대한 검증결과\n",
      "--------------------------------------------------\n",
      "정확도(Accuracy): 0.9371577340874405\n",
      "재현율/민감도(Recall): 0.9271264928101389\n",
      "정밀도(Precision): 0.9046373365041617\n",
      "F1 점수(F1 Score): 0.915743861338469\n",
      "==================================================\n",
      "==================================================\n",
      "RF_Validation set에 대한 검증결과\n",
      "--------------------------------------------------\n",
      "정확도(Accuracy): 0.7592243468893078\n",
      "재현율/민감도(Recall): 0.7216242661448141\n",
      "정밀도(Precision): 0.6564307966177125\n",
      "F1 점수(F1 Score): 0.6874854346306224\n",
      "==================================================\n"
     ]
    }
   ],
   "source": [
    "#max_depth =22\n",
    "print_classification_metrics(y_train, rf_pred_train, title='RF_Train set에 대한 검증결과')\n",
    "print_classification_metrics(y_test, rf_pred_test, title='RF_Test set에 대한 검증결과')\n",
    "print_classification_metrics(y_val, rf_pred_val, title='RF_Validation set에 대한 검증결과')"
   ]
  },
  {
   "cell_type": "markdown",
   "id": "152a699c",
   "metadata": {},
   "source": [
    "### 전체 이상치 제거 후 RandomForestClassifier"
   ]
  },
  {
   "cell_type": "code",
   "execution_count": 66,
   "id": "08afe3e2",
   "metadata": {
    "ExecuteTime": {
     "end_time": "2022-07-20T00:54:46.870876Z",
     "start_time": "2022-07-20T00:54:28.279083Z"
    }
   },
   "outputs": [
    {
     "name": "stderr",
     "output_type": "stream",
     "text": [
      "C:\\Users\\Playdata\\AppData\\Local\\Temp\\ipykernel_6852\\3094551497.py:3: DataConversionWarning: A column-vector y was passed when a 1d array was expected. Please change the shape of y to (n_samples,), for example using ravel().\n",
      "  rf.fit(X_train, y_train)\n"
     ]
    },
    {
     "data": {
      "text/html": [
       "<style>#sk-container-id-5 {color: black;background-color: white;}#sk-container-id-5 pre{padding: 0;}#sk-container-id-5 div.sk-toggleable {background-color: white;}#sk-container-id-5 label.sk-toggleable__label {cursor: pointer;display: block;width: 100%;margin-bottom: 0;padding: 0.3em;box-sizing: border-box;text-align: center;}#sk-container-id-5 label.sk-toggleable__label-arrow:before {content: \"▸\";float: left;margin-right: 0.25em;color: #696969;}#sk-container-id-5 label.sk-toggleable__label-arrow:hover:before {color: black;}#sk-container-id-5 div.sk-estimator:hover label.sk-toggleable__label-arrow:before {color: black;}#sk-container-id-5 div.sk-toggleable__content {max-height: 0;max-width: 0;overflow: hidden;text-align: left;background-color: #f0f8ff;}#sk-container-id-5 div.sk-toggleable__content pre {margin: 0.2em;color: black;border-radius: 0.25em;background-color: #f0f8ff;}#sk-container-id-5 input.sk-toggleable__control:checked~div.sk-toggleable__content {max-height: 200px;max-width: 100%;overflow: auto;}#sk-container-id-5 input.sk-toggleable__control:checked~label.sk-toggleable__label-arrow:before {content: \"▾\";}#sk-container-id-5 div.sk-estimator input.sk-toggleable__control:checked~label.sk-toggleable__label {background-color: #d4ebff;}#sk-container-id-5 div.sk-label input.sk-toggleable__control:checked~label.sk-toggleable__label {background-color: #d4ebff;}#sk-container-id-5 input.sk-hidden--visually {border: 0;clip: rect(1px 1px 1px 1px);clip: rect(1px, 1px, 1px, 1px);height: 1px;margin: -1px;overflow: hidden;padding: 0;position: absolute;width: 1px;}#sk-container-id-5 div.sk-estimator {font-family: monospace;background-color: #f0f8ff;border: 1px dotted black;border-radius: 0.25em;box-sizing: border-box;margin-bottom: 0.5em;}#sk-container-id-5 div.sk-estimator:hover {background-color: #d4ebff;}#sk-container-id-5 div.sk-parallel-item::after {content: \"\";width: 100%;border-bottom: 1px solid gray;flex-grow: 1;}#sk-container-id-5 div.sk-label:hover label.sk-toggleable__label {background-color: #d4ebff;}#sk-container-id-5 div.sk-serial::before {content: \"\";position: absolute;border-left: 1px solid gray;box-sizing: border-box;top: 0;bottom: 0;left: 50%;z-index: 0;}#sk-container-id-5 div.sk-serial {display: flex;flex-direction: column;align-items: center;background-color: white;padding-right: 0.2em;padding-left: 0.2em;position: relative;}#sk-container-id-5 div.sk-item {position: relative;z-index: 1;}#sk-container-id-5 div.sk-parallel {display: flex;align-items: stretch;justify-content: center;background-color: white;position: relative;}#sk-container-id-5 div.sk-item::before, #sk-container-id-5 div.sk-parallel-item::before {content: \"\";position: absolute;border-left: 1px solid gray;box-sizing: border-box;top: 0;bottom: 0;left: 50%;z-index: -1;}#sk-container-id-5 div.sk-parallel-item {display: flex;flex-direction: column;z-index: 1;position: relative;background-color: white;}#sk-container-id-5 div.sk-parallel-item:first-child::after {align-self: flex-end;width: 50%;}#sk-container-id-5 div.sk-parallel-item:last-child::after {align-self: flex-start;width: 50%;}#sk-container-id-5 div.sk-parallel-item:only-child::after {width: 0;}#sk-container-id-5 div.sk-dashed-wrapped {border: 1px dashed gray;margin: 0 0.4em 0.5em 0.4em;box-sizing: border-box;padding-bottom: 0.4em;background-color: white;}#sk-container-id-5 div.sk-label label {font-family: monospace;font-weight: bold;display: inline-block;line-height: 1.2em;}#sk-container-id-5 div.sk-label-container {text-align: center;}#sk-container-id-5 div.sk-container {/* jupyter's `normalize.less` sets `[hidden] { display: none; }` but bootstrap.min.css set `[hidden] { display: none !important; }` so we also need the `!important` here to be able to override the default hidden behavior on the sphinx rendered scikit-learn.org. See: https://github.com/scikit-learn/scikit-learn/issues/21755 */display: inline-block !important;position: relative;}#sk-container-id-5 div.sk-text-repr-fallback {display: none;}</style><div id=\"sk-container-id-5\" class=\"sk-top-container\"><div class=\"sk-text-repr-fallback\"><pre>RandomForestClassifier(max_depth=32, n_estimators=300, random_state=0)</pre><b>In a Jupyter environment, please rerun this cell to show the HTML representation or trust the notebook. <br />On GitHub, the HTML representation is unable to render, please try loading this page with nbviewer.org.</b></div><div class=\"sk-container\" hidden><div class=\"sk-item\"><div class=\"sk-estimator sk-toggleable\"><input class=\"sk-toggleable__control sk-hidden--visually\" id=\"sk-estimator-id-5\" type=\"checkbox\" checked><label for=\"sk-estimator-id-5\" class=\"sk-toggleable__label sk-toggleable__label-arrow\">RandomForestClassifier</label><div class=\"sk-toggleable__content\"><pre>RandomForestClassifier(max_depth=32, n_estimators=300, random_state=0)</pre></div></div></div></div></div>"
      ],
      "text/plain": [
       "RandomForestClassifier(max_depth=32, n_estimators=300, random_state=0)"
      ]
     },
     "execution_count": 66,
     "metadata": {},
     "output_type": "execute_result"
    }
   ],
   "source": [
    "rf = RandomForestClassifier(n_estimators=300, max_depth=32, random_state=0) #모델\n",
    "\n",
    "rf.fit(X_train, y_train)"
   ]
  },
  {
   "cell_type": "code",
   "execution_count": 67,
   "id": "d5f21c38",
   "metadata": {
    "ExecuteTime": {
     "end_time": "2022-07-20T00:55:00.267118Z",
     "start_time": "2022-07-20T00:54:55.149974Z"
    }
   },
   "outputs": [],
   "source": [
    "rf_pred_train = rf.predict(X_train)\n",
    "rf_pred_test = rf.predict(X_test)\n",
    "rf_pred_val = rf.predict(X_val)"
   ]
  },
  {
   "cell_type": "code",
   "execution_count": 56,
   "id": "c4b3f407",
   "metadata": {
    "ExecuteTime": {
     "end_time": "2022-07-20T00:51:59.774936Z",
     "start_time": "2022-07-20T00:51:59.655669Z"
    },
    "collapsed": true
   },
   "outputs": [
    {
     "name": "stdout",
     "output_type": "stream",
     "text": [
      "==================================================\n",
      "RF_Train set에 대한 검증결과\n",
      "--------------------------------------------------\n",
      "정확도(Accuracy): 0.7644699826420064\n",
      "재현율/민감도(Recall): 0.7356490541422048\n",
      "정밀도(Precision): 0.660952380952381\n",
      "F1 점수(F1 Score): 0.6963031565948908\n",
      "==================================================\n",
      "==================================================\n",
      "RF_S_Test set에 대한 검증결과\n",
      "--------------------------------------------------\n",
      "정확도(Accuracy): 0.7602118682107909\n",
      "재현율/민감도(Recall): 0.7253229344382159\n",
      "정밀도(Precision): 0.6584070796460177\n",
      "F1 점수(F1 Score): 0.6902470138003015\n",
      "==================================================\n",
      "==================================================\n",
      "RF_Validation set에 대한 검증결과\n",
      "--------------------------------------------------\n",
      "정확도(Accuracy): 0.7470149923691535\n",
      "재현율/민감도(Recall): 0.7179549902152642\n",
      "정밀도(Precision): 0.6380434782608696\n",
      "F1 점수(F1 Score): 0.6756445672191528\n",
      "==================================================\n"
     ]
    }
   ],
   "source": [
    "#max_depth =7\n",
    "print_classification_metrics(y_train, rf_pred_train, title='RF_Train set에 대한 검증결과')\n",
    "print_classification_metrics(y_test, rf_pred_test, title='RF_S_Test set에 대한 검증결과')\n",
    "print_classification_metrics(y_val, rf_pred_val, title='RF_Validation set에 대한 검증결과')"
   ]
  },
  {
   "cell_type": "code",
   "execution_count": 62,
   "id": "526697b9",
   "metadata": {
    "ExecuteTime": {
     "end_time": "2022-07-20T00:53:27.240975Z",
     "start_time": "2022-07-20T00:53:27.134131Z"
    },
    "collapsed": true
   },
   "outputs": [
    {
     "name": "stdout",
     "output_type": "stream",
     "text": [
      "==================================================\n",
      "RF_Train set에 대한 검증결과\n",
      "--------------------------------------------------\n",
      "정확도(Accuracy): 0.9448434787813491\n",
      "재현율/민감도(Recall): 0.9525440313111546\n",
      "정밀도(Precision): 0.9025728192845553\n",
      "F1 점수(F1 Score): 0.9268853889792517\n",
      "==================================================\n",
      "==================================================\n",
      "RF_S_Test set에 대한 검증결과\n",
      "--------------------------------------------------\n",
      "정확도(Accuracy): 0.8928090492862915\n",
      "재현율/민감도(Recall): 0.8900804289544236\n",
      "정밀도(Precision): 0.8309442548350399\n",
      "F1 점수(F1 Score): 0.859496352082843\n",
      "==================================================\n",
      "==================================================\n",
      "RF_Validation set에 대한 검증결과\n",
      "--------------------------------------------------\n",
      "정확도(Accuracy): 0.75320944429482\n",
      "재현율/민감도(Recall): 0.7218688845401174\n",
      "정밀도(Precision): 0.6467236467236467\n",
      "F1 점수(F1 Score): 0.6822332678303087\n",
      "==================================================\n"
     ]
    }
   ],
   "source": [
    "#max_depth =15\n",
    "print_classification_metrics(y_train, rf_pred_train, title='RF_Train set에 대한 검증결과')\n",
    "print_classification_metrics(y_test, rf_pred_test, title='RF_S_Test set에 대한 검증결과')\n",
    "print_classification_metrics(y_val, rf_pred_val, title='RF_Validation set에 대한 검증결과')"
   ]
  },
  {
   "cell_type": "code",
   "execution_count": 65,
   "id": "4acab3ab",
   "metadata": {
    "ExecuteTime": {
     "end_time": "2022-07-20T00:54:16.775591Z",
     "start_time": "2022-07-20T00:54:16.678851Z"
    },
    "collapsed": true
   },
   "outputs": [
    {
     "name": "stdout",
     "output_type": "stream",
     "text": [
      "==================================================\n",
      "RF_Train set에 대한 검증결과\n",
      "--------------------------------------------------\n",
      "정확도(Accuracy): 0.9991321003172323\n",
      "재현율/민감도(Recall): 0.9998369210697978\n",
      "정밀도(Precision): 0.9978029131743836\n",
      "F1 점수(F1 Score): 0.9988188816030628\n",
      "==================================================\n",
      "==================================================\n",
      "RF_S_Test set에 대한 검증결과\n",
      "--------------------------------------------------\n",
      "정확도(Accuracy): 0.9340156207918126\n",
      "재현율/민감도(Recall): 0.9273702169144529\n",
      "정밀도(Precision): 0.896982555398397\n",
      "F1 점수(F1 Score): 0.9119233073696824\n",
      "==================================================\n",
      "==================================================\n",
      "RF_Validation set에 대한 검증결과\n",
      "--------------------------------------------------\n",
      "정확도(Accuracy): 0.7542867402818925\n",
      "재현율/민감도(Recall): 0.7130626223091977\n",
      "정밀도(Precision): 0.6508149140433133\n",
      "F1 점수(F1 Score): 0.6805182677716821\n",
      "==================================================\n"
     ]
    }
   ],
   "source": [
    "#max_depth =22\n",
    "print_classification_metrics(y_train, rf_pred_train, title='RF_Train set에 대한 검증결과')\n",
    "print_classification_metrics(y_test, rf_pred_test, title='RF_S_Test set에 대한 검증결과')\n",
    "print_classification_metrics(y_val, rf_pred_val, title='RF_Validation set에 대한 검증결과')"
   ]
  },
  {
   "cell_type": "markdown",
   "id": "cc8ccc4b",
   "metadata": {},
   "source": [
    "### GTP, Triglyceride 이상치 변환 후 RandomForestClassfier"
   ]
  },
  {
   "cell_type": "code",
   "execution_count": 113,
   "id": "8be904dd",
   "metadata": {
    "ExecuteTime": {
     "end_time": "2022-07-20T01:41:17.508384Z",
     "start_time": "2022-07-20T01:41:17.339796Z"
    },
    "collapsed": true
   },
   "outputs": [
    {
     "data": {
      "text/plain": [
       "gender                 0.118876\n",
       "Gtp                    0.088274\n",
       "hemoglobin             0.087105\n",
       "triglyceride           0.066756\n",
       "height(cm)             0.063075\n",
       "LDL                    0.051803\n",
       "waist(cm)              0.050124\n",
       "Cholesterol            0.050026\n",
       "HDL                    0.048929\n",
       "ALT                    0.046615\n",
       "fasting blood sugar    0.046229\n",
       "systolic               0.043464\n",
       "AST                    0.041553\n",
       "relaxation             0.040791\n",
       "weight(kg)             0.034635\n",
       "age                    0.033113\n",
       "serum creatinine       0.029022\n",
       "eyesight(left)         0.024603\n",
       "eyesight(right)        0.024602\n",
       "tartar                 0.010405\n",
       "hearing(right)         0.000000\n",
       "hearing(left)          0.000000\n",
       "Urine protein          0.000000\n",
       "dental caries          0.000000\n",
       "dtype: float64"
      ]
     },
     "execution_count": 113,
     "metadata": {},
     "output_type": "execute_result"
    }
   ],
   "source": [
    "fi = rf.feature_importances_\n",
    "fi_s = pd.Series(fi, index=X_train.columns)\n",
    "fi_s.sort_values(ascending=False)"
   ]
  },
  {
   "cell_type": "code",
   "execution_count": 238,
   "id": "81e157b7",
   "metadata": {
    "ExecuteTime": {
     "end_time": "2022-07-20T10:46:35.000561Z",
     "start_time": "2022-07-20T10:46:17.300320Z"
    }
   },
   "outputs": [
    {
     "name": "stderr",
     "output_type": "stream",
     "text": [
      "C:\\Users\\Playdata\\AppData\\Local\\Temp\\ipykernel_10172\\2404085241.py:3: DataConversionWarning: A column-vector y was passed when a 1d array was expected. Please change the shape of y to (n_samples,), for example using ravel().\n",
      "  rf.fit(X_train, y_train)\n"
     ]
    },
    {
     "data": {
      "text/html": [
       "<style>#sk-container-id-42 {color: black;background-color: white;}#sk-container-id-42 pre{padding: 0;}#sk-container-id-42 div.sk-toggleable {background-color: white;}#sk-container-id-42 label.sk-toggleable__label {cursor: pointer;display: block;width: 100%;margin-bottom: 0;padding: 0.3em;box-sizing: border-box;text-align: center;}#sk-container-id-42 label.sk-toggleable__label-arrow:before {content: \"▸\";float: left;margin-right: 0.25em;color: #696969;}#sk-container-id-42 label.sk-toggleable__label-arrow:hover:before {color: black;}#sk-container-id-42 div.sk-estimator:hover label.sk-toggleable__label-arrow:before {color: black;}#sk-container-id-42 div.sk-toggleable__content {max-height: 0;max-width: 0;overflow: hidden;text-align: left;background-color: #f0f8ff;}#sk-container-id-42 div.sk-toggleable__content pre {margin: 0.2em;color: black;border-radius: 0.25em;background-color: #f0f8ff;}#sk-container-id-42 input.sk-toggleable__control:checked~div.sk-toggleable__content {max-height: 200px;max-width: 100%;overflow: auto;}#sk-container-id-42 input.sk-toggleable__control:checked~label.sk-toggleable__label-arrow:before {content: \"▾\";}#sk-container-id-42 div.sk-estimator input.sk-toggleable__control:checked~label.sk-toggleable__label {background-color: #d4ebff;}#sk-container-id-42 div.sk-label input.sk-toggleable__control:checked~label.sk-toggleable__label {background-color: #d4ebff;}#sk-container-id-42 input.sk-hidden--visually {border: 0;clip: rect(1px 1px 1px 1px);clip: rect(1px, 1px, 1px, 1px);height: 1px;margin: -1px;overflow: hidden;padding: 0;position: absolute;width: 1px;}#sk-container-id-42 div.sk-estimator {font-family: monospace;background-color: #f0f8ff;border: 1px dotted black;border-radius: 0.25em;box-sizing: border-box;margin-bottom: 0.5em;}#sk-container-id-42 div.sk-estimator:hover {background-color: #d4ebff;}#sk-container-id-42 div.sk-parallel-item::after {content: \"\";width: 100%;border-bottom: 1px solid gray;flex-grow: 1;}#sk-container-id-42 div.sk-label:hover label.sk-toggleable__label {background-color: #d4ebff;}#sk-container-id-42 div.sk-serial::before {content: \"\";position: absolute;border-left: 1px solid gray;box-sizing: border-box;top: 0;bottom: 0;left: 50%;z-index: 0;}#sk-container-id-42 div.sk-serial {display: flex;flex-direction: column;align-items: center;background-color: white;padding-right: 0.2em;padding-left: 0.2em;position: relative;}#sk-container-id-42 div.sk-item {position: relative;z-index: 1;}#sk-container-id-42 div.sk-parallel {display: flex;align-items: stretch;justify-content: center;background-color: white;position: relative;}#sk-container-id-42 div.sk-item::before, #sk-container-id-42 div.sk-parallel-item::before {content: \"\";position: absolute;border-left: 1px solid gray;box-sizing: border-box;top: 0;bottom: 0;left: 50%;z-index: -1;}#sk-container-id-42 div.sk-parallel-item {display: flex;flex-direction: column;z-index: 1;position: relative;background-color: white;}#sk-container-id-42 div.sk-parallel-item:first-child::after {align-self: flex-end;width: 50%;}#sk-container-id-42 div.sk-parallel-item:last-child::after {align-self: flex-start;width: 50%;}#sk-container-id-42 div.sk-parallel-item:only-child::after {width: 0;}#sk-container-id-42 div.sk-dashed-wrapped {border: 1px dashed gray;margin: 0 0.4em 0.5em 0.4em;box-sizing: border-box;padding-bottom: 0.4em;background-color: white;}#sk-container-id-42 div.sk-label label {font-family: monospace;font-weight: bold;display: inline-block;line-height: 1.2em;}#sk-container-id-42 div.sk-label-container {text-align: center;}#sk-container-id-42 div.sk-container {/* jupyter's `normalize.less` sets `[hidden] { display: none; }` but bootstrap.min.css set `[hidden] { display: none !important; }` so we also need the `!important` here to be able to override the default hidden behavior on the sphinx rendered scikit-learn.org. See: https://github.com/scikit-learn/scikit-learn/issues/21755 */display: inline-block !important;position: relative;}#sk-container-id-42 div.sk-text-repr-fallback {display: none;}</style><div id=\"sk-container-id-42\" class=\"sk-top-container\"><div class=\"sk-text-repr-fallback\"><pre>RandomForestClassifier(max_depth=15, n_estimators=300, random_state=0)</pre><b>In a Jupyter environment, please rerun this cell to show the HTML representation or trust the notebook. <br />On GitHub, the HTML representation is unable to render, please try loading this page with nbviewer.org.</b></div><div class=\"sk-container\" hidden><div class=\"sk-item\"><div class=\"sk-estimator sk-toggleable\"><input class=\"sk-toggleable__control sk-hidden--visually\" id=\"sk-estimator-id-42\" type=\"checkbox\" checked><label for=\"sk-estimator-id-42\" class=\"sk-toggleable__label sk-toggleable__label-arrow\">RandomForestClassifier</label><div class=\"sk-toggleable__content\"><pre>RandomForestClassifier(max_depth=15, n_estimators=300, random_state=0)</pre></div></div></div></div></div>"
      ],
      "text/plain": [
       "RandomForestClassifier(max_depth=15, n_estimators=300, random_state=0)"
      ]
     },
     "execution_count": 238,
     "metadata": {},
     "output_type": "execute_result"
    }
   ],
   "source": [
    "rf = RandomForestClassifier(n_estimators=300, max_depth= 15, random_state=0) #모델\n",
    "\n",
    "rf.fit(X_train, y_train)"
   ]
  },
  {
   "cell_type": "code",
   "execution_count": 239,
   "id": "4c1ce26b",
   "metadata": {
    "ExecuteTime": {
     "end_time": "2022-07-20T10:46:41.910801Z",
     "start_time": "2022-07-20T10:46:37.403900Z"
    }
   },
   "outputs": [],
   "source": [
    "rf_pred_train = rf.predict(X_train)\n",
    "rf_pred_test = rf.predict(X_test)\n",
    "rf_pred_val = rf.predict(X_val)"
   ]
  },
  {
   "cell_type": "code",
   "execution_count": 213,
   "id": "3bd28b88",
   "metadata": {
    "ExecuteTime": {
     "end_time": "2022-07-20T10:32:59.747685Z",
     "start_time": "2022-07-20T10:32:59.605143Z"
    }
   },
   "outputs": [
    {
     "name": "stdout",
     "output_type": "stream",
     "text": [
      "==================================================\n",
      "RF_Train set에 대한 검증결과\n",
      "--------------------------------------------------\n",
      "정확도(Accuracy): 0.7656371580774526\n",
      "재현율/민감도(Recall): 0.7384213959556425\n",
      "정밀도(Precision): 0.6620366985890781\n",
      "F1 점수(F1 Score): 0.6981459353197395\n",
      "==================================================\n",
      "==================================================\n",
      "RF_Test set에 대한 검증결과\n",
      "--------------------------------------------------\n",
      "정확도(Accuracy): 0.7603914175419697\n",
      "재현율/민감도(Recall): 0.7199610041433098\n",
      "정밀도(Precision): 0.6602592758158248\n",
      "F1 점수(F1 Score): 0.6888189343593332\n",
      "==================================================\n",
      "==================================================\n",
      "RF_Validation set에 대한 검증결과\n",
      "--------------------------------------------------\n",
      "정확도(Accuracy): 0.7494389083400664\n",
      "재현율/민감도(Recall): 0.7196673189823874\n",
      "정밀도(Precision): 0.6413778068454328\n",
      "F1 점수(F1 Score): 0.6782708933717579\n",
      "==================================================\n"
     ]
    }
   ],
   "source": [
    "#max_depth = 7\n",
    "print_classification_metrics(y_train, rf_pred_train, title='RF_Train set에 대한 검증결과')\n",
    "print_classification_metrics(y_test, rf_pred_test, title='RF_Test set에 대한 검증결과')\n",
    "print_classification_metrics(y_val, rf_pred_val, title='RF_Validation set에 대한 검증결과')"
   ]
  },
  {
   "cell_type": "code",
   "execution_count": 210,
   "id": "0dab3fdb",
   "metadata": {
    "ExecuteTime": {
     "end_time": "2022-07-20T10:32:10.898810Z",
     "start_time": "2022-07-20T10:32:10.750128Z"
    }
   },
   "outputs": [
    {
     "name": "stdout",
     "output_type": "stream",
     "text": [
      "==================================================\n",
      "RF_Train set에 대한 검증결과\n",
      "--------------------------------------------------\n",
      "정확도(Accuracy): 0.9379002813192076\n",
      "재현율/민감도(Recall): 0.9438193085453359\n",
      "정밀도(Precision): 0.8930638068050305\n",
      "F1 점수(F1 Score): 0.9177403369672944\n",
      "==================================================\n",
      "==================================================\n",
      "RF_Test set에 대한 검증결과\n",
      "--------------------------------------------------\n",
      "정확도(Accuracy): 0.8951431905916151\n",
      "재현율/민감도(Recall): 0.8869120155983427\n",
      "정밀도(Precision): 0.8379000690766751\n",
      "F1 점수(F1 Score): 0.8617096850580156\n",
      "==================================================\n",
      "==================================================\n",
      "RF_Validation set에 대한 검증결과\n",
      "--------------------------------------------------\n",
      "정확도(Accuracy): 0.7622766855193465\n",
      "재현율/민감도(Recall): 0.7301859099804305\n",
      "정밀도(Precision): 0.6589403973509934\n",
      "F1 점수(F1 Score): 0.6927361336737062\n",
      "==================================================\n"
     ]
    }
   ],
   "source": [
    "#max_depth =15\n",
    "print_classification_metrics(y_train, rf_pred_train, title='RF_Train set에 대한 검증결과')\n",
    "print_classification_metrics(y_test, rf_pred_test, title='RF_Test set에 대한 검증결과')\n",
    "print_classification_metrics(y_val, rf_pred_val, title='RF_Validation set에 대한 검증결과')"
   ]
  },
  {
   "cell_type": "code",
   "execution_count": 216,
   "id": "17130319",
   "metadata": {
    "ExecuteTime": {
     "end_time": "2022-07-20T10:36:12.323184Z",
     "start_time": "2022-07-20T10:36:12.165054Z"
    }
   },
   "outputs": [
    {
     "name": "stdout",
     "output_type": "stream",
     "text": [
      "==================================================\n",
      "RF_Train set에 대한 검증결과\n",
      "--------------------------------------------------\n",
      "정확도(Accuracy): 0.9988627521398217\n",
      "재현율/민감도(Recall): 0.9985322896281801\n",
      "정밀도(Precision): 0.9983694766019893\n",
      "F1 점수(F1 Score): 0.9984508764777823\n",
      "==================================================\n",
      "==================================================\n",
      "RF_S_Test set에 대한 검증결과\n",
      "--------------------------------------------------\n",
      "정확도(Accuracy): 0.9361702127659575\n",
      "재현율/민감도(Recall): 0.9232269071411162\n",
      "정밀도(Precision): 0.9053537284894837\n",
      "F1 점수(F1 Score): 0.9142029685048871\n",
      "==================================================\n",
      "==================================================\n",
      "RF_Validation set에 대한 검증결과\n",
      "--------------------------------------------------\n",
      "정확도(Accuracy): 0.7611096148666846\n",
      "재현율/민감도(Recall): 0.7174657534246576\n",
      "정밀도(Precision): 0.6607343996395585\n",
      "F1 점수(F1 Score): 0.6879324498651344\n",
      "==================================================\n"
     ]
    }
   ],
   "source": [
    "#max_depth =22\n",
    "print_classification_metrics(y_train, rf_pred_train, title='RF_Train set에 대한 검증결과')\n",
    "print_classification_metrics(y_test, rf_pred_test, title='RF_S_Test set에 대한 검증결과')\n",
    "print_classification_metrics(y_val, rf_pred_val, title='RF_Validation set에 대한 검증결과')"
   ]
  },
  {
   "cell_type": "code",
   "execution_count": 209,
   "id": "f2b62fad",
   "metadata": {
    "ExecuteTime": {
     "end_time": "2022-07-20T09:54:44.851098Z",
     "start_time": "2022-07-20T09:54:44.719795Z"
    },
    "scrolled": true
   },
   "outputs": [
    {
     "name": "stdout",
     "output_type": "stream",
     "text": [
      "==================================================\n",
      "RF_Train set에 대한 검증결과\n",
      "--------------------------------------------------\n",
      "정확도(Accuracy): 0.9379002813192076\n",
      "재현율/민감도(Recall): 0.9438193085453359\n",
      "정밀도(Precision): 0.8930638068050305\n",
      "F1 점수(F1 Score): 0.9177403369672944\n",
      "==================================================\n",
      "==================================================\n",
      "RF_S_Test set에 대한 검증결과\n",
      "--------------------------------------------------\n",
      "정확도(Accuracy): 0.8951431905916151\n",
      "재현율/민감도(Recall): 0.8869120155983427\n",
      "정밀도(Precision): 0.8379000690766751\n",
      "F1 점수(F1 Score): 0.8617096850580156\n",
      "==================================================\n",
      "==================================================\n",
      "RF_Validation set에 대한 검증결과\n",
      "--------------------------------------------------\n",
      "정확도(Accuracy): 0.7622766855193465\n",
      "재현율/민감도(Recall): 0.7301859099804305\n",
      "정밀도(Precision): 0.6589403973509934\n",
      "F1 점수(F1 Score): 0.6927361336737062\n",
      "==================================================\n"
     ]
    }
   ],
   "source": [
    "from metrics import print_classification_metrics\n",
    "#test\n",
    "print_classification_metrics(y_train, rf_pred_train, title='RF_Train set에 대한 검증결과')\n",
    "print_classification_metrics(y_test, rf_pred_test, title='RF_S_Test set에 대한 검증결과')\n",
    "print_classification_metrics(y_val, rf_pred_val, title='RF_Validation set에 대한 검증결과')"
   ]
  },
  {
   "cell_type": "code",
   "execution_count": 44,
   "id": "0fcdac75",
   "metadata": {
    "ExecuteTime": {
     "end_time": "2022-07-20T08:38:21.970256Z",
     "start_time": "2022-07-20T08:38:21.953302Z"
    }
   },
   "outputs": [],
   "source": [
    "def display_roc_curve(y, pred_proba, title=None):\n",
    "    \"\"\"\n",
    "    ROC curve, sorce\n",
    "    [parameter]\n",
    "    \"\"\"\n",
    "    print('='*50)\n",
    "    print('roc-auc score')\n",
    "    print('='*50)\n",
    "    roc_auc = roc_auc_score(y,pred_proba)\n",
    "    print(roc_auc)\n",
    "    print('='*50)\n",
    "    fpr, tpr, _ = roc_curve(y, pred_proba)\n",
    "    disp = RocCurveDisplay(fpr=fpr, tpr=tpr, roc_auc=roc_auc)\n",
    "    disp.plot()\n",
    "    if title:\n",
    "        plt.title(title)\n",
    "    plt.show()"
   ]
  },
  {
   "cell_type": "code",
   "execution_count": 243,
   "id": "6fdd1be6",
   "metadata": {
    "ExecuteTime": {
     "end_time": "2022-07-20T10:48:35.516281Z",
     "start_time": "2022-07-20T10:48:30.971424Z"
    }
   },
   "outputs": [],
   "source": [
    "proba_train_rf = rf.predict_proba(X_train)[:,1]\n",
    "proba_val_rf = rf.predict_proba(X_val)[:,1]\n",
    "proba_test_rf = rf.predict_proba(X_test)[:,1]"
   ]
  },
  {
   "cell_type": "code",
   "execution_count": 51,
   "id": "71db3b17",
   "metadata": {
    "ExecuteTime": {
     "end_time": "2022-07-20T08:43:15.940091Z",
     "start_time": "2022-07-20T08:43:15.928122Z"
    }
   },
   "outputs": [],
   "source": [
    "from sklearn.metrics import roc_curve\n",
    "from sklearn.metrics import plot_roc_curve\n",
    "from sklearn.metrics import RocCurveDisplay"
   ]
  },
  {
   "cell_type": "code",
   "execution_count": 244,
   "id": "2f02fcbd",
   "metadata": {
    "ExecuteTime": {
     "end_time": "2022-07-20T10:48:38.594830Z",
     "start_time": "2022-07-20T10:48:38.219303Z"
    }
   },
   "outputs": [
    {
     "name": "stdout",
     "output_type": "stream",
     "text": [
      "==================================================\n",
      "roc-auc score\n",
      "==================================================\n",
      "0.8414920674393245\n",
      "==================================================\n"
     ]
    },
    {
     "data": {
      "image/png": "[encoded data removed]",
      "text/plain": [
       "<Figure size 432x288 with 1 Axes>"
      ]
     },
     "metadata": {
      "needs_background": "light"
     },
     "output_type": "display_data"
    },
    {
     "name": "stdout",
     "output_type": "stream",
     "text": [
      "==================================================\n",
      "roc-auc score\n",
      "==================================================\n",
      "0.9587694745466266\n",
      "==================================================\n"
     ]
    },
    {
     "data": {
      "image/png": "[encoded data removed]",
      "text/plain": [
       "<Figure size 432x288 with 1 Axes>"
      ]
     },
     "metadata": {
      "needs_background": "light"
     },
     "output_type": "display_data"
    }
   ],
   "source": [
    "display_roc_curve(y_val, proba_val_rf, title='val_roc curve, score')\n",
    "display_roc_curve(y_test, proba_test_rf, title='test_roc curve, score')"
   ]
  },
  {
   "cell_type": "code",
   "execution_count": 119,
   "id": "2ea827b1",
   "metadata": {
    "ExecuteTime": {
     "end_time": "2022-07-20T09:23:17.769617Z",
     "start_time": "2022-07-20T09:23:17.636069Z"
    }
   },
   "outputs": [
    {
     "data": {
      "text/html": [
       "<div>\n",
       "<style scoped>\n",
       "    .dataframe tbody tr th:only-of-type {\n",
       "        vertical-align: middle;\n",
       "    }\n",
       "\n",
       "    .dataframe tbody tr th {\n",
       "        vertical-align: top;\n",
       "    }\n",
       "\n",
       "    .dataframe thead th {\n",
       "        text-align: right;\n",
       "    }\n",
       "</style>\n",
       "<table border=\"1\" class=\"dataframe\">\n",
       "  <thead>\n",
       "    <tr style=\"text-align: right;\">\n",
       "      <th></th>\n",
       "      <th>gender</th>\n",
       "      <th>age</th>\n",
       "      <th>height(cm)</th>\n",
       "      <th>weight(kg)</th>\n",
       "      <th>waist(cm)</th>\n",
       "      <th>eyesight(left)</th>\n",
       "      <th>eyesight(right)</th>\n",
       "      <th>hearing(left)</th>\n",
       "      <th>hearing(right)</th>\n",
       "      <th>systolic</th>\n",
       "      <th>...</th>\n",
       "      <th>HDL</th>\n",
       "      <th>LDL</th>\n",
       "      <th>hemoglobin</th>\n",
       "      <th>Urine protein</th>\n",
       "      <th>serum creatinine</th>\n",
       "      <th>AST</th>\n",
       "      <th>ALT</th>\n",
       "      <th>Gtp</th>\n",
       "      <th>dental caries</th>\n",
       "      <th>tartar</th>\n",
       "    </tr>\n",
       "  </thead>\n",
       "  <tbody>\n",
       "    <tr>\n",
       "      <th>count</th>\n",
       "      <td>33414.000000</td>\n",
       "      <td>33414.000000</td>\n",
       "      <td>33414.000000</td>\n",
       "      <td>33414.000000</td>\n",
       "      <td>33414.000000</td>\n",
       "      <td>33414.000000</td>\n",
       "      <td>33414.000000</td>\n",
       "      <td>33414.000000</td>\n",
       "      <td>33414.000000</td>\n",
       "      <td>33414.000000</td>\n",
       "      <td>...</td>\n",
       "      <td>33414.000000</td>\n",
       "      <td>33414.000000</td>\n",
       "      <td>33414.000000</td>\n",
       "      <td>33414.000000</td>\n",
       "      <td>33414.000000</td>\n",
       "      <td>33414.000000</td>\n",
       "      <td>33414.000000</td>\n",
       "      <td>33414.000000</td>\n",
       "      <td>33414.000000</td>\n",
       "      <td>33414.000000</td>\n",
       "    </tr>\n",
       "    <tr>\n",
       "      <th>mean</th>\n",
       "      <td>0.636709</td>\n",
       "      <td>44.146914</td>\n",
       "      <td>164.674538</td>\n",
       "      <td>65.887053</td>\n",
       "      <td>82.055070</td>\n",
       "      <td>1.012911</td>\n",
       "      <td>1.008885</td>\n",
       "      <td>1.025917</td>\n",
       "      <td>1.026097</td>\n",
       "      <td>121.500389</td>\n",
       "      <td>...</td>\n",
       "      <td>57.339738</td>\n",
       "      <td>115.145029</td>\n",
       "      <td>14.625121</td>\n",
       "      <td>1.086042</td>\n",
       "      <td>0.886111</td>\n",
       "      <td>26.185282</td>\n",
       "      <td>27.098911</td>\n",
       "      <td>29.725325</td>\n",
       "      <td>0.213054</td>\n",
       "      <td>0.554588</td>\n",
       "    </tr>\n",
       "    <tr>\n",
       "      <th>std</th>\n",
       "      <td>0.480955</td>\n",
       "      <td>12.128239</td>\n",
       "      <td>9.195460</td>\n",
       "      <td>12.846121</td>\n",
       "      <td>9.274562</td>\n",
       "      <td>0.491560</td>\n",
       "      <td>0.480613</td>\n",
       "      <td>0.158891</td>\n",
       "      <td>0.159426</td>\n",
       "      <td>13.621440</td>\n",
       "      <td>...</td>\n",
       "      <td>14.922364</td>\n",
       "      <td>42.106931</td>\n",
       "      <td>1.563467</td>\n",
       "      <td>0.400432</td>\n",
       "      <td>0.230407</td>\n",
       "      <td>18.209732</td>\n",
       "      <td>32.014832</td>\n",
       "      <td>15.542169</td>\n",
       "      <td>0.409472</td>\n",
       "      <td>0.497019</td>\n",
       "    </tr>\n",
       "    <tr>\n",
       "      <th>min</th>\n",
       "      <td>0.000000</td>\n",
       "      <td>20.000000</td>\n",
       "      <td>130.000000</td>\n",
       "      <td>30.000000</td>\n",
       "      <td>51.000000</td>\n",
       "      <td>0.100000</td>\n",
       "      <td>0.100000</td>\n",
       "      <td>1.000000</td>\n",
       "      <td>1.000000</td>\n",
       "      <td>71.000000</td>\n",
       "      <td>...</td>\n",
       "      <td>11.000000</td>\n",
       "      <td>1.000000</td>\n",
       "      <td>4.900000</td>\n",
       "      <td>1.000000</td>\n",
       "      <td>0.100000</td>\n",
       "      <td>6.000000</td>\n",
       "      <td>1.000000</td>\n",
       "      <td>2.000000</td>\n",
       "      <td>0.000000</td>\n",
       "      <td>0.000000</td>\n",
       "    </tr>\n",
       "    <tr>\n",
       "      <th>25%</th>\n",
       "      <td>0.000000</td>\n",
       "      <td>40.000000</td>\n",
       "      <td>160.000000</td>\n",
       "      <td>55.000000</td>\n",
       "      <td>76.000000</td>\n",
       "      <td>0.800000</td>\n",
       "      <td>0.800000</td>\n",
       "      <td>1.000000</td>\n",
       "      <td>1.000000</td>\n",
       "      <td>112.000000</td>\n",
       "      <td>...</td>\n",
       "      <td>47.000000</td>\n",
       "      <td>92.000000</td>\n",
       "      <td>13.600000</td>\n",
       "      <td>1.000000</td>\n",
       "      <td>0.800000</td>\n",
       "      <td>19.000000</td>\n",
       "      <td>15.000000</td>\n",
       "      <td>17.000000</td>\n",
       "      <td>0.000000</td>\n",
       "      <td>0.000000</td>\n",
       "    </tr>\n",
       "    <tr>\n",
       "      <th>50%</th>\n",
       "      <td>1.000000</td>\n",
       "      <td>40.000000</td>\n",
       "      <td>165.000000</td>\n",
       "      <td>65.000000</td>\n",
       "      <td>82.000000</td>\n",
       "      <td>1.000000</td>\n",
       "      <td>1.000000</td>\n",
       "      <td>1.000000</td>\n",
       "      <td>1.000000</td>\n",
       "      <td>120.000000</td>\n",
       "      <td>...</td>\n",
       "      <td>55.000000</td>\n",
       "      <td>113.000000</td>\n",
       "      <td>14.800000</td>\n",
       "      <td>1.000000</td>\n",
       "      <td>0.900000</td>\n",
       "      <td>23.000000</td>\n",
       "      <td>21.000000</td>\n",
       "      <td>25.000000</td>\n",
       "      <td>0.000000</td>\n",
       "      <td>1.000000</td>\n",
       "    </tr>\n",
       "    <tr>\n",
       "      <th>75%</th>\n",
       "      <td>1.000000</td>\n",
       "      <td>55.000000</td>\n",
       "      <td>170.000000</td>\n",
       "      <td>75.000000</td>\n",
       "      <td>88.000000</td>\n",
       "      <td>1.200000</td>\n",
       "      <td>1.200000</td>\n",
       "      <td>1.000000</td>\n",
       "      <td>1.000000</td>\n",
       "      <td>130.000000</td>\n",
       "      <td>...</td>\n",
       "      <td>66.000000</td>\n",
       "      <td>136.000000</td>\n",
       "      <td>15.700000</td>\n",
       "      <td>1.000000</td>\n",
       "      <td>1.000000</td>\n",
       "      <td>28.000000</td>\n",
       "      <td>31.000000</td>\n",
       "      <td>44.000000</td>\n",
       "      <td>0.000000</td>\n",
       "      <td>1.000000</td>\n",
       "    </tr>\n",
       "    <tr>\n",
       "      <th>max</th>\n",
       "      <td>1.000000</td>\n",
       "      <td>85.000000</td>\n",
       "      <td>190.000000</td>\n",
       "      <td>135.000000</td>\n",
       "      <td>129.000000</td>\n",
       "      <td>9.900000</td>\n",
       "      <td>9.900000</td>\n",
       "      <td>2.000000</td>\n",
       "      <td>2.000000</td>\n",
       "      <td>240.000000</td>\n",
       "      <td>...</td>\n",
       "      <td>618.000000</td>\n",
       "      <td>1860.000000</td>\n",
       "      <td>21.100000</td>\n",
       "      <td>6.000000</td>\n",
       "      <td>11.600000</td>\n",
       "      <td>1090.000000</td>\n",
       "      <td>2914.000000</td>\n",
       "      <td>77.000000</td>\n",
       "      <td>1.000000</td>\n",
       "      <td>1.000000</td>\n",
       "    </tr>\n",
       "  </tbody>\n",
       "</table>\n",
       "<p>8 rows × 24 columns</p>\n",
       "</div>"
      ],
      "text/plain": [
       "             gender           age    height(cm)    weight(kg)     waist(cm)  \\\n",
       "count  33414.000000  33414.000000  33414.000000  33414.000000  33414.000000   \n",
       "mean       0.636709     44.146914    164.674538     65.887053     82.055070   \n",
       "std        0.480955     12.128239      9.195460     12.846121      9.274562   \n",
       "min        0.000000     20.000000    130.000000     30.000000     51.000000   \n",
       "25%        0.000000     40.000000    160.000000     55.000000     76.000000   \n",
       "50%        1.000000     40.000000    165.000000     65.000000     82.000000   \n",
       "75%        1.000000     55.000000    170.000000     75.000000     88.000000   \n",
       "max        1.000000     85.000000    190.000000    135.000000    129.000000   \n",
       "\n",
       "       eyesight(left)  eyesight(right)  hearing(left)  hearing(right)  \\\n",
       "count    33414.000000     33414.000000   33414.000000    33414.000000   \n",
       "mean         1.012911         1.008885       1.025917        1.026097   \n",
       "std          0.491560         0.480613       0.158891        0.159426   \n",
       "min          0.100000         0.100000       1.000000        1.000000   \n",
       "25%          0.800000         0.800000       1.000000        1.000000   \n",
       "50%          1.000000         1.000000       1.000000        1.000000   \n",
       "75%          1.200000         1.200000       1.000000        1.000000   \n",
       "max          9.900000         9.900000       2.000000        2.000000   \n",
       "\n",
       "           systolic  ...           HDL           LDL    hemoglobin  \\\n",
       "count  33414.000000  ...  33414.000000  33414.000000  33414.000000   \n",
       "mean     121.500389  ...     57.339738    115.145029     14.625121   \n",
       "std       13.621440  ...     14.922364     42.106931      1.563467   \n",
       "min       71.000000  ...     11.000000      1.000000      4.900000   \n",
       "25%      112.000000  ...     47.000000     92.000000     13.600000   \n",
       "50%      120.000000  ...     55.000000    113.000000     14.800000   \n",
       "75%      130.000000  ...     66.000000    136.000000     15.700000   \n",
       "max      240.000000  ...    618.000000   1860.000000     21.100000   \n",
       "\n",
       "       Urine protein  serum creatinine           AST           ALT  \\\n",
       "count   33414.000000      33414.000000  33414.000000  33414.000000   \n",
       "mean        1.086042          0.886111     26.185282     27.098911   \n",
       "std         0.400432          0.230407     18.209732     32.014832   \n",
       "min         1.000000          0.100000      6.000000      1.000000   \n",
       "25%         1.000000          0.800000     19.000000     15.000000   \n",
       "50%         1.000000          0.900000     23.000000     21.000000   \n",
       "75%         1.000000          1.000000     28.000000     31.000000   \n",
       "max         6.000000         11.600000   1090.000000   2914.000000   \n",
       "\n",
       "                Gtp  dental caries        tartar  \n",
       "count  33414.000000   33414.000000  33414.000000  \n",
       "mean      29.725325       0.213054      0.554588  \n",
       "std       15.542169       0.409472      0.497019  \n",
       "min        2.000000       0.000000      0.000000  \n",
       "25%       17.000000       0.000000      0.000000  \n",
       "50%       25.000000       0.000000      1.000000  \n",
       "75%       44.000000       0.000000      1.000000  \n",
       "max       77.000000       1.000000      1.000000  \n",
       "\n",
       "[8 rows x 24 columns]"
      ]
     },
     "execution_count": 119,
     "metadata": {},
     "output_type": "execute_result"
    }
   ],
   "source": [
    "X_train.describe()"
   ]
  },
  {
   "cell_type": "code",
   "execution_count": null,
   "id": "deeaf5f1",
   "metadata": {},
   "outputs": [],
   "source": []
  },
  {
   "cell_type": "markdown",
   "id": "f1a42c26",
   "metadata": {},
   "source": [
    "### Scaled RandomForestClassifie"
   ]
  },
  {
   "cell_type": "code",
   "execution_count": 71,
   "id": "4b6496bc",
   "metadata": {
    "ExecuteTime": {
     "end_time": "2022-07-19T11:36:22.773939Z",
     "start_time": "2022-07-19T11:36:22.719088Z"
    }
   },
   "outputs": [],
   "source": [
    "from sklearn.preprocessing import StandardScaler\n",
    "s_scaler = StandardScaler()\n",
    "X_train_scaled1 = s_scaler.fit_transform(X_train)\n",
    "X_val_scaled1 = s_scaler.transform(X_val)\n",
    "X_test_scaled1 = s_scaler.transform(X_test)"
   ]
  },
  {
   "cell_type": "code",
   "execution_count": 75,
   "id": "0c4fcd7d",
   "metadata": {
    "ExecuteTime": {
     "end_time": "2022-07-19T11:38:35.371634Z",
     "start_time": "2022-07-19T11:38:15.072723Z"
    },
    "collapsed": true
   },
   "outputs": [
    {
     "name": "stderr",
     "output_type": "stream",
     "text": [
      "C:\\Users\\Playdata\\AppData\\Local\\Temp\\ipykernel_7284\\2475025025.py:3: DataConversionWarning: A column-vector y was passed when a 1d array was expected. Please change the shape of y to (n_samples,), for example using ravel().\n",
      "  rf.fit(X_train_scaled1, y_train)\n"
     ]
    },
    {
     "data": {
      "text/html": [
       "<style>#sk-container-id-15 {color: black;background-color: white;}#sk-container-id-15 pre{padding: 0;}#sk-container-id-15 div.sk-toggleable {background-color: white;}#sk-container-id-15 label.sk-toggleable__label {cursor: pointer;display: block;width: 100%;margin-bottom: 0;padding: 0.3em;box-sizing: border-box;text-align: center;}#sk-container-id-15 label.sk-toggleable__label-arrow:before {content: \"▸\";float: left;margin-right: 0.25em;color: #696969;}#sk-container-id-15 label.sk-toggleable__label-arrow:hover:before {color: black;}#sk-container-id-15 div.sk-estimator:hover label.sk-toggleable__label-arrow:before {color: black;}#sk-container-id-15 div.sk-toggleable__content {max-height: 0;max-width: 0;overflow: hidden;text-align: left;background-color: #f0f8ff;}#sk-container-id-15 div.sk-toggleable__content pre {margin: 0.2em;color: black;border-radius: 0.25em;background-color: #f0f8ff;}#sk-container-id-15 input.sk-toggleable__control:checked~div.sk-toggleable__content {max-height: 200px;max-width: 100%;overflow: auto;}#sk-container-id-15 input.sk-toggleable__control:checked~label.sk-toggleable__label-arrow:before {content: \"▾\";}#sk-container-id-15 div.sk-estimator input.sk-toggleable__control:checked~label.sk-toggleable__label {background-color: #d4ebff;}#sk-container-id-15 div.sk-label input.sk-toggleable__control:checked~label.sk-toggleable__label {background-color: #d4ebff;}#sk-container-id-15 input.sk-hidden--visually {border: 0;clip: rect(1px 1px 1px 1px);clip: rect(1px, 1px, 1px, 1px);height: 1px;margin: -1px;overflow: hidden;padding: 0;position: absolute;width: 1px;}#sk-container-id-15 div.sk-estimator {font-family: monospace;background-color: #f0f8ff;border: 1px dotted black;border-radius: 0.25em;box-sizing: border-box;margin-bottom: 0.5em;}#sk-container-id-15 div.sk-estimator:hover {background-color: #d4ebff;}#sk-container-id-15 div.sk-parallel-item::after {content: \"\";width: 100%;border-bottom: 1px solid gray;flex-grow: 1;}#sk-container-id-15 div.sk-label:hover label.sk-toggleable__label {background-color: #d4ebff;}#sk-container-id-15 div.sk-serial::before {content: \"\";position: absolute;border-left: 1px solid gray;box-sizing: border-box;top: 0;bottom: 0;left: 50%;z-index: 0;}#sk-container-id-15 div.sk-serial {display: flex;flex-direction: column;align-items: center;background-color: white;padding-right: 0.2em;padding-left: 0.2em;position: relative;}#sk-container-id-15 div.sk-item {position: relative;z-index: 1;}#sk-container-id-15 div.sk-parallel {display: flex;align-items: stretch;justify-content: center;background-color: white;position: relative;}#sk-container-id-15 div.sk-item::before, #sk-container-id-15 div.sk-parallel-item::before {content: \"\";position: absolute;border-left: 1px solid gray;box-sizing: border-box;top: 0;bottom: 0;left: 50%;z-index: -1;}#sk-container-id-15 div.sk-parallel-item {display: flex;flex-direction: column;z-index: 1;position: relative;background-color: white;}#sk-container-id-15 div.sk-parallel-item:first-child::after {align-self: flex-end;width: 50%;}#sk-container-id-15 div.sk-parallel-item:last-child::after {align-self: flex-start;width: 50%;}#sk-container-id-15 div.sk-parallel-item:only-child::after {width: 0;}#sk-container-id-15 div.sk-dashed-wrapped {border: 1px dashed gray;margin: 0 0.4em 0.5em 0.4em;box-sizing: border-box;padding-bottom: 0.4em;background-color: white;}#sk-container-id-15 div.sk-label label {font-family: monospace;font-weight: bold;display: inline-block;line-height: 1.2em;}#sk-container-id-15 div.sk-label-container {text-align: center;}#sk-container-id-15 div.sk-container {/* jupyter's `normalize.less` sets `[hidden] { display: none; }` but bootstrap.min.css set `[hidden] { display: none !important; }` so we also need the `!important` here to be able to override the default hidden behavior on the sphinx rendered scikit-learn.org. See: https://github.com/scikit-learn/scikit-learn/issues/21755 */display: inline-block !important;position: relative;}#sk-container-id-15 div.sk-text-repr-fallback {display: none;}</style><div id=\"sk-container-id-15\" class=\"sk-top-container\"><div class=\"sk-text-repr-fallback\"><pre>RandomForestClassifier(max_depth=22, n_estimators=300, random_state=0)</pre><b>In a Jupyter environment, please rerun this cell to show the HTML representation or trust the notebook. <br />On GitHub, the HTML representation is unable to render, please try loading this page with nbviewer.org.</b></div><div class=\"sk-container\" hidden><div class=\"sk-item\"><div class=\"sk-estimator sk-toggleable\"><input class=\"sk-toggleable__control sk-hidden--visually\" id=\"sk-estimator-id-15\" type=\"checkbox\" checked><label for=\"sk-estimator-id-15\" class=\"sk-toggleable__label sk-toggleable__label-arrow\">RandomForestClassifier</label><div class=\"sk-toggleable__content\"><pre>RandomForestClassifier(max_depth=22, n_estimators=300, random_state=0)</pre></div></div></div></div></div>"
      ],
      "text/plain": [
       "RandomForestClassifier(max_depth=22, n_estimators=300, random_state=0)"
      ]
     },
     "execution_count": 75,
     "metadata": {},
     "output_type": "execute_result"
    }
   ],
   "source": [
    "rf = RandomForestClassifier(n_estimators=300, max_depth=22, random_state=0) #모델\n",
    "\n",
    "rf.fit(X_train_scaled1, y_train)"
   ]
  },
  {
   "cell_type": "code",
   "execution_count": 76,
   "id": "e06d0756",
   "metadata": {
    "ExecuteTime": {
     "end_time": "2022-07-19T11:38:44.669813Z",
     "start_time": "2022-07-19T11:38:39.485484Z"
    }
   },
   "outputs": [],
   "source": [
    "s_rf_pred_train = rf.predict(X_train_scaled1)\n",
    "s_rf_pred_test = rf.predict(X_test_scaled1)\n",
    "s_rf_pred_val = rf.predict(X_val_scaled1)"
   ]
  },
  {
   "cell_type": "code",
   "execution_count": 74,
   "id": "f67d46ea",
   "metadata": {
    "ExecuteTime": {
     "end_time": "2022-07-19T11:37:53.716473Z",
     "start_time": "2022-07-19T11:37:53.621669Z"
    },
    "collapsed": true
   },
   "outputs": [
    {
     "name": "stdout",
     "output_type": "stream",
     "text": [
      "==================================================\n",
      "Scaled_RF_Train set에 대한 검증결과\n",
      "--------------------------------------------------\n",
      "정확도(Accuracy): 0.9387083258514395\n",
      "재현율/민감도(Recall): 0.9415362035225049\n",
      "정밀도(Precision): 0.8966454418387948\n",
      "F1 점수(F1 Score): 0.9185426775912816\n",
      "==================================================\n",
      "==================================================\n",
      "Scaled_RF_S_Test set에 대한 검증결과\n",
      "--------------------------------------------------\n",
      "정확도(Accuracy): 0.894155669270132\n",
      "재현율/민감도(Recall): 0.885937119181087\n",
      "정밀도(Precision): 0.8364012885411873\n",
      "F1 점수(F1 Score): 0.860456858799858\n",
      "==================================================\n",
      "==================================================\n",
      "Scaled_RF_Validation set에 대한 검증결과\n",
      "--------------------------------------------------\n",
      "정확도(Accuracy): 0.7592243468893078\n",
      "재현율/민감도(Recall): 0.7282289628180039\n",
      "정밀도(Precision): 0.6545734388742305\n",
      "F1 점수(F1 Score): 0.6894395553496989\n",
      "==================================================\n"
     ]
    }
   ],
   "source": [
    "#max_depth =15\n",
    "print_classification_metrics(y_train, s_rf_pred_train, title='Scaled_RF_Train set에 대한 검증결과')\n",
    "print_classification_metrics(y_test, s_rf_pred_test, title='Scaled_RF_S_Test set에 대한 검증결과')\n",
    "print_classification_metrics(y_val, s_rf_pred_val, title='Scaled_RF_Validation set에 대한 검증결과')"
   ]
  },
  {
   "cell_type": "code",
   "execution_count": 77,
   "id": "b61d8b68",
   "metadata": {
    "ExecuteTime": {
     "end_time": "2022-07-19T11:38:46.674493Z",
     "start_time": "2022-07-19T11:38:46.581739Z"
    },
    "collapsed": true
   },
   "outputs": [
    {
     "name": "stdout",
     "output_type": "stream",
     "text": [
      "==================================================\n",
      "Scaled_RF_Train set에 대한 검증결과\n",
      "--------------------------------------------------\n",
      "정확도(Accuracy): 0.9992817381935716\n",
      "재현율/민감도(Recall): 0.9991846053489889\n",
      "정밀도(Precision): 0.9988588196935115\n",
      "F1 점수(F1 Score): 0.9990216859611936\n",
      "==================================================\n",
      "==================================================\n",
      "Scaled_RF_S_Test set에 대한 검증결과\n",
      "--------------------------------------------------\n",
      "정확도(Accuracy): 0.9363497620971362\n",
      "재현율/민감도(Recall): 0.9251766999756276\n",
      "정밀도(Precision): 0.9042401143401619\n",
      "F1 점수(F1 Score): 0.9145886037826767\n",
      "==================================================\n",
      "==================================================\n",
      "Scaled_RF_Validation set에 대한 검증결과\n",
      "--------------------------------------------------\n",
      "정확도(Accuracy): 0.7594038962204865\n",
      "재현율/민감도(Recall): 0.7204011741682974\n",
      "정밀도(Precision): 0.6570727353859884\n",
      "F1 점수(F1 Score): 0.6872812135355892\n",
      "==================================================\n"
     ]
    }
   ],
   "source": [
    "#max_depth =22\n",
    "print_classification_metrics(y_train, s_rf_pred_train, title='Scaled_RF_Train set에 대한 검증결과')\n",
    "print_classification_metrics(y_test, s_rf_pred_test, title='Scaled_RF_S_Test set에 대한 검증결과')\n",
    "print_classification_metrics(y_val, s_rf_pred_val, title='Scaled_RF_Validation set에 대한 검증결과')"
   ]
  },
  {
   "cell_type": "markdown",
   "id": "e8341905",
   "metadata": {},
   "source": [
    "### 전체 이상치 제거 Scaled RandomForestClassifier "
   ]
  },
  {
   "cell_type": "code",
   "execution_count": 69,
   "id": "eb543783",
   "metadata": {
    "ExecuteTime": {
     "end_time": "2022-07-20T00:56:10.503036Z",
     "start_time": "2022-07-20T00:56:10.414274Z"
    }
   },
   "outputs": [],
   "source": [
    "from sklearn.preprocessing import StandardScaler\n",
    "s_scaler = StandardScaler()\n",
    "X_train_scaled1 = s_scaler.fit_transform(X_train)\n",
    "X_val_scaled1 = s_scaler.transform(X_val)\n",
    "X_test_scaled1 = s_scaler.transform(X_test)"
   ]
  },
  {
   "cell_type": "code",
   "execution_count": 76,
   "id": "a4bed066",
   "metadata": {
    "ExecuteTime": {
     "end_time": "2022-07-20T00:58:13.960837Z",
     "start_time": "2022-07-20T00:57:55.767640Z"
    }
   },
   "outputs": [
    {
     "name": "stderr",
     "output_type": "stream",
     "text": [
      "C:\\Users\\Playdata\\AppData\\Local\\Temp\\ipykernel_6852\\2475025025.py:3: DataConversionWarning: A column-vector y was passed when a 1d array was expected. Please change the shape of y to (n_samples,), for example using ravel().\n",
      "  rf.fit(X_train_scaled1, y_train)\n"
     ]
    },
    {
     "data": {
      "text/html": [
       "<style>#sk-container-id-8 {color: black;background-color: white;}#sk-container-id-8 pre{padding: 0;}#sk-container-id-8 div.sk-toggleable {background-color: white;}#sk-container-id-8 label.sk-toggleable__label {cursor: pointer;display: block;width: 100%;margin-bottom: 0;padding: 0.3em;box-sizing: border-box;text-align: center;}#sk-container-id-8 label.sk-toggleable__label-arrow:before {content: \"▸\";float: left;margin-right: 0.25em;color: #696969;}#sk-container-id-8 label.sk-toggleable__label-arrow:hover:before {color: black;}#sk-container-id-8 div.sk-estimator:hover label.sk-toggleable__label-arrow:before {color: black;}#sk-container-id-8 div.sk-toggleable__content {max-height: 0;max-width: 0;overflow: hidden;text-align: left;background-color: #f0f8ff;}#sk-container-id-8 div.sk-toggleable__content pre {margin: 0.2em;color: black;border-radius: 0.25em;background-color: #f0f8ff;}#sk-container-id-8 input.sk-toggleable__control:checked~div.sk-toggleable__content {max-height: 200px;max-width: 100%;overflow: auto;}#sk-container-id-8 input.sk-toggleable__control:checked~label.sk-toggleable__label-arrow:before {content: \"▾\";}#sk-container-id-8 div.sk-estimator input.sk-toggleable__control:checked~label.sk-toggleable__label {background-color: #d4ebff;}#sk-container-id-8 div.sk-label input.sk-toggleable__control:checked~label.sk-toggleable__label {background-color: #d4ebff;}#sk-container-id-8 input.sk-hidden--visually {border: 0;clip: rect(1px 1px 1px 1px);clip: rect(1px, 1px, 1px, 1px);height: 1px;margin: -1px;overflow: hidden;padding: 0;position: absolute;width: 1px;}#sk-container-id-8 div.sk-estimator {font-family: monospace;background-color: #f0f8ff;border: 1px dotted black;border-radius: 0.25em;box-sizing: border-box;margin-bottom: 0.5em;}#sk-container-id-8 div.sk-estimator:hover {background-color: #d4ebff;}#sk-container-id-8 div.sk-parallel-item::after {content: \"\";width: 100%;border-bottom: 1px solid gray;flex-grow: 1;}#sk-container-id-8 div.sk-label:hover label.sk-toggleable__label {background-color: #d4ebff;}#sk-container-id-8 div.sk-serial::before {content: \"\";position: absolute;border-left: 1px solid gray;box-sizing: border-box;top: 0;bottom: 0;left: 50%;z-index: 0;}#sk-container-id-8 div.sk-serial {display: flex;flex-direction: column;align-items: center;background-color: white;padding-right: 0.2em;padding-left: 0.2em;position: relative;}#sk-container-id-8 div.sk-item {position: relative;z-index: 1;}#sk-container-id-8 div.sk-parallel {display: flex;align-items: stretch;justify-content: center;background-color: white;position: relative;}#sk-container-id-8 div.sk-item::before, #sk-container-id-8 div.sk-parallel-item::before {content: \"\";position: absolute;border-left: 1px solid gray;box-sizing: border-box;top: 0;bottom: 0;left: 50%;z-index: -1;}#sk-container-id-8 div.sk-parallel-item {display: flex;flex-direction: column;z-index: 1;position: relative;background-color: white;}#sk-container-id-8 div.sk-parallel-item:first-child::after {align-self: flex-end;width: 50%;}#sk-container-id-8 div.sk-parallel-item:last-child::after {align-self: flex-start;width: 50%;}#sk-container-id-8 div.sk-parallel-item:only-child::after {width: 0;}#sk-container-id-8 div.sk-dashed-wrapped {border: 1px dashed gray;margin: 0 0.4em 0.5em 0.4em;box-sizing: border-box;padding-bottom: 0.4em;background-color: white;}#sk-container-id-8 div.sk-label label {font-family: monospace;font-weight: bold;display: inline-block;line-height: 1.2em;}#sk-container-id-8 div.sk-label-container {text-align: center;}#sk-container-id-8 div.sk-container {/* jupyter's `normalize.less` sets `[hidden] { display: none; }` but bootstrap.min.css set `[hidden] { display: none !important; }` so we also need the `!important` here to be able to override the default hidden behavior on the sphinx rendered scikit-learn.org. See: https://github.com/scikit-learn/scikit-learn/issues/21755 */display: inline-block !important;position: relative;}#sk-container-id-8 div.sk-text-repr-fallback {display: none;}</style><div id=\"sk-container-id-8\" class=\"sk-top-container\"><div class=\"sk-text-repr-fallback\"><pre>RandomForestClassifier(max_depth=22, n_estimators=300, random_state=0)</pre><b>In a Jupyter environment, please rerun this cell to show the HTML representation or trust the notebook. <br />On GitHub, the HTML representation is unable to render, please try loading this page with nbviewer.org.</b></div><div class=\"sk-container\" hidden><div class=\"sk-item\"><div class=\"sk-estimator sk-toggleable\"><input class=\"sk-toggleable__control sk-hidden--visually\" id=\"sk-estimator-id-8\" type=\"checkbox\" checked><label for=\"sk-estimator-id-8\" class=\"sk-toggleable__label sk-toggleable__label-arrow\">RandomForestClassifier</label><div class=\"sk-toggleable__content\"><pre>RandomForestClassifier(max_depth=22, n_estimators=300, random_state=0)</pre></div></div></div></div></div>"
      ],
      "text/plain": [
       "RandomForestClassifier(max_depth=22, n_estimators=300, random_state=0)"
      ]
     },
     "execution_count": 76,
     "metadata": {},
     "output_type": "execute_result"
    }
   ],
   "source": [
    "rf = RandomForestClassifier(n_estimators=300, max_depth=22, random_state=0) #모델\n",
    "\n",
    "rf.fit(X_train_scaled1, y_train)"
   ]
  },
  {
   "cell_type": "code",
   "execution_count": 77,
   "id": "acd2716d",
   "metadata": {
    "ExecuteTime": {
     "end_time": "2022-07-20T00:58:20.720084Z",
     "start_time": "2022-07-20T00:58:15.406643Z"
    }
   },
   "outputs": [],
   "source": [
    "s_rf_pred_train = rf.predict(X_train_scaled1)\n",
    "s_rf_pred_test = rf.predict(X_test_scaled1)\n",
    "s_rf_pred_val = rf.predict(X_val_scaled1)"
   ]
  },
  {
   "cell_type": "code",
   "execution_count": 72,
   "id": "1f5867d7",
   "metadata": {
    "ExecuteTime": {
     "end_time": "2022-07-20T00:57:08.326355Z",
     "start_time": "2022-07-20T00:57:08.206695Z"
    },
    "collapsed": true
   },
   "outputs": [
    {
     "name": "stdout",
     "output_type": "stream",
     "text": [
      "==================================================\n",
      "Scaled_RF_Train set에 대한 검증결과\n",
      "--------------------------------------------------\n",
      "정확도(Accuracy): 0.7644999102172741\n",
      "재현율/민감도(Recall): 0.7356490541422048\n",
      "정밀도(Precision): 0.6610008059198476\n",
      "F1 점수(F1 Score): 0.6963300273993748\n",
      "==================================================\n",
      "==================================================\n",
      "Scaled_RF_S_Test set에 대한 검증결과\n",
      "--------------------------------------------------\n",
      "정확도(Accuracy): 0.7603016428763802\n",
      "재현율/민감도(Recall): 0.7253229344382159\n",
      "정밀도(Precision): 0.6585527771630891\n",
      "F1 점수(F1 Score): 0.6903270702853166\n",
      "==================================================\n",
      "==================================================\n",
      "Scaled_RF_Validation set에 대한 검증결과\n",
      "--------------------------------------------------\n",
      "정확도(Accuracy): 0.7471047670347428\n",
      "재현율/민감도(Recall): 0.7181996086105675\n",
      "정밀도(Precision): 0.6381221473592698\n",
      "F1 점수(F1 Score): 0.6757969846932904\n",
      "==================================================\n"
     ]
    }
   ],
   "source": [
    "#max_depth =7\n",
    "print_classification_metrics(y_train, s_rf_pred_train, title='Scaled_RF_Train set에 대한 검증결과')\n",
    "print_classification_metrics(y_test, s_rf_pred_test, title='Scaled_RF_S_Test set에 대한 검증결과')\n",
    "print_classification_metrics(y_val, s_rf_pred_val, title='Scaled_RF_Validation set에 대한 검증결과')"
   ]
  },
  {
   "cell_type": "code",
   "execution_count": 75,
   "id": "bde7fe36",
   "metadata": {
    "ExecuteTime": {
     "end_time": "2022-07-20T00:57:45.859014Z",
     "start_time": "2022-07-20T00:57:45.766700Z"
    },
    "collapsed": true
   },
   "outputs": [
    {
     "name": "stdout",
     "output_type": "stream",
     "text": [
      "==================================================\n",
      "Scaled_RF_Train set에 대한 검증결과\n",
      "--------------------------------------------------\n",
      "정확도(Accuracy): 0.9449931166576884\n",
      "재현율/민감도(Recall): 0.9527886497064579\n",
      "정밀도(Precision): 0.9027348578491965\n",
      "F1 점수(F1 Score): 0.9270866391621707\n",
      "==================================================\n",
      "==================================================\n",
      "Scaled_RF_S_Test set에 대한 검증결과\n",
      "--------------------------------------------------\n",
      "정확도(Accuracy): 0.8929885986174702\n",
      "재현율/민감도(Recall): 0.8895929807457957\n",
      "정밀도(Precision): 0.8316245158350422\n",
      "F1 점수(F1 Score): 0.8596325953838906\n",
      "==================================================\n",
      "==================================================\n",
      "Scaled_RF_Validation set에 대한 검증결과\n",
      "--------------------------------------------------\n",
      "정확도(Accuracy): 0.7535685429571775\n",
      "재현율/민감도(Recall): 0.7218688845401174\n",
      "정밀도(Precision): 0.6472910726036412\n",
      "F1 점수(F1 Score): 0.6825488608766046\n",
      "==================================================\n"
     ]
    }
   ],
   "source": [
    "#max_depth =15\n",
    "print_classification_metrics(y_train, s_rf_pred_train, title='Scaled_RF_Train set에 대한 검증결과')\n",
    "print_classification_metrics(y_test, s_rf_pred_test, title='Scaled_RF_S_Test set에 대한 검증결과')\n",
    "print_classification_metrics(y_val, s_rf_pred_val, title='Scaled_RF_Validation set에 대한 검증결과')"
   ]
  },
  {
   "cell_type": "code",
   "execution_count": 78,
   "id": "6524d833",
   "metadata": {
    "ExecuteTime": {
     "end_time": "2022-07-20T00:58:23.955201Z",
     "start_time": "2022-07-20T00:58:23.854434Z"
    },
    "collapsed": true
   },
   "outputs": [
    {
     "name": "stdout",
     "output_type": "stream",
     "text": [
      "==================================================\n",
      "Scaled_RF_Train set에 대한 검증결과\n",
      "--------------------------------------------------\n",
      "정확도(Accuracy): 0.9991021727419644\n",
      "재현율/민감도(Recall): 0.9998369210697978\n",
      "정밀도(Precision): 0.9977217249796583\n",
      "F1 점수(F1 Score): 0.9987782031440906\n",
      "==================================================\n",
      "==================================================\n",
      "Scaled_RF_S_Test set에 대한 검증결과\n",
      "--------------------------------------------------\n",
      "정확도(Accuracy): 0.9339258461262232\n",
      "재현율/민감도(Recall): 0.9271264928101389\n",
      "정밀도(Precision): 0.8969582645602452\n",
      "F1 점수(F1 Score): 0.9117929050814956\n",
      "==================================================\n",
      "==================================================\n",
      "Scaled_RF_Validation set에 대한 검증결과\n",
      "--------------------------------------------------\n",
      "정확도(Accuracy): 0.7543765149474818\n",
      "재현율/민감도(Recall): 0.7115949119373777\n",
      "정밀도(Precision): 0.6513658755038065\n",
      "F1 점수(F1 Score): 0.6801496375964461\n",
      "==================================================\n"
     ]
    }
   ],
   "source": [
    "#max_depth =22\n",
    "print_classification_metrics(y_train, s_rf_pred_train, title='Scaled_RF_Train set에 대한 검증결과')\n",
    "print_classification_metrics(y_test, s_rf_pred_test, title='Scaled_RF_S_Test set에 대한 검증결과')\n",
    "print_classification_metrics(y_val, s_rf_pred_val, title='Scaled_RF_Validation set에 대한 검증결과')"
   ]
  },
  {
   "cell_type": "markdown",
   "id": "6ab128b2",
   "metadata": {},
   "source": [
    "### GTP, Triglyceride 이상치 변환 후  Scaled RandomForestClassfie"
   ]
  },
  {
   "cell_type": "code",
   "execution_count": 120,
   "id": "bb7c447d",
   "metadata": {
    "ExecuteTime": {
     "end_time": "2022-07-20T03:41:45.259416Z",
     "start_time": "2022-07-20T03:41:45.170653Z"
    }
   },
   "outputs": [],
   "source": [
    "from sklearn.preprocessing import StandardScaler\n",
    "s_scaler = StandardScaler()\n",
    "X_train_scaled1 = s_scaler.fit_transform(X_train)\n",
    "X_val_scaled1 = s_scaler.transform(X_val)\n",
    "X_test_scaled1 = s_scaler.transform(X_test)"
   ]
  },
  {
   "cell_type": "code",
   "execution_count": 125,
   "id": "6c38076a",
   "metadata": {
    "ExecuteTime": {
     "end_time": "2022-07-20T03:43:19.736156Z",
     "start_time": "2022-07-20T03:42:57.888997Z"
    }
   },
   "outputs": [
    {
     "name": "stderr",
     "output_type": "stream",
     "text": [
      "C:\\Users\\Playdata\\AppData\\Local\\Temp\\ipykernel_6852\\1393781597.py:3: DataConversionWarning: A column-vector y was passed when a 1d array was expected. Please change the shape of y to (n_samples,), for example using ravel().\n",
      "  rf.fit(X_train_scaled1, y_train)\n"
     ]
    },
    {
     "data": {
      "text/html": [
       "<style>#sk-container-id-20 {color: black;background-color: white;}#sk-container-id-20 pre{padding: 0;}#sk-container-id-20 div.sk-toggleable {background-color: white;}#sk-container-id-20 label.sk-toggleable__label {cursor: pointer;display: block;width: 100%;margin-bottom: 0;padding: 0.3em;box-sizing: border-box;text-align: center;}#sk-container-id-20 label.sk-toggleable__label-arrow:before {content: \"▸\";float: left;margin-right: 0.25em;color: #696969;}#sk-container-id-20 label.sk-toggleable__label-arrow:hover:before {color: black;}#sk-container-id-20 div.sk-estimator:hover label.sk-toggleable__label-arrow:before {color: black;}#sk-container-id-20 div.sk-toggleable__content {max-height: 0;max-width: 0;overflow: hidden;text-align: left;background-color: #f0f8ff;}#sk-container-id-20 div.sk-toggleable__content pre {margin: 0.2em;color: black;border-radius: 0.25em;background-color: #f0f8ff;}#sk-container-id-20 input.sk-toggleable__control:checked~div.sk-toggleable__content {max-height: 200px;max-width: 100%;overflow: auto;}#sk-container-id-20 input.sk-toggleable__control:checked~label.sk-toggleable__label-arrow:before {content: \"▾\";}#sk-container-id-20 div.sk-estimator input.sk-toggleable__control:checked~label.sk-toggleable__label {background-color: #d4ebff;}#sk-container-id-20 div.sk-label input.sk-toggleable__control:checked~label.sk-toggleable__label {background-color: #d4ebff;}#sk-container-id-20 input.sk-hidden--visually {border: 0;clip: rect(1px 1px 1px 1px);clip: rect(1px, 1px, 1px, 1px);height: 1px;margin: -1px;overflow: hidden;padding: 0;position: absolute;width: 1px;}#sk-container-id-20 div.sk-estimator {font-family: monospace;background-color: #f0f8ff;border: 1px dotted black;border-radius: 0.25em;box-sizing: border-box;margin-bottom: 0.5em;}#sk-container-id-20 div.sk-estimator:hover {background-color: #d4ebff;}#sk-container-id-20 div.sk-parallel-item::after {content: \"\";width: 100%;border-bottom: 1px solid gray;flex-grow: 1;}#sk-container-id-20 div.sk-label:hover label.sk-toggleable__label {background-color: #d4ebff;}#sk-container-id-20 div.sk-serial::before {content: \"\";position: absolute;border-left: 1px solid gray;box-sizing: border-box;top: 0;bottom: 0;left: 50%;z-index: 0;}#sk-container-id-20 div.sk-serial {display: flex;flex-direction: column;align-items: center;background-color: white;padding-right: 0.2em;padding-left: 0.2em;position: relative;}#sk-container-id-20 div.sk-item {position: relative;z-index: 1;}#sk-container-id-20 div.sk-parallel {display: flex;align-items: stretch;justify-content: center;background-color: white;position: relative;}#sk-container-id-20 div.sk-item::before, #sk-container-id-20 div.sk-parallel-item::before {content: \"\";position: absolute;border-left: 1px solid gray;box-sizing: border-box;top: 0;bottom: 0;left: 50%;z-index: -1;}#sk-container-id-20 div.sk-parallel-item {display: flex;flex-direction: column;z-index: 1;position: relative;background-color: white;}#sk-container-id-20 div.sk-parallel-item:first-child::after {align-self: flex-end;width: 50%;}#sk-container-id-20 div.sk-parallel-item:last-child::after {align-self: flex-start;width: 50%;}#sk-container-id-20 div.sk-parallel-item:only-child::after {width: 0;}#sk-container-id-20 div.sk-dashed-wrapped {border: 1px dashed gray;margin: 0 0.4em 0.5em 0.4em;box-sizing: border-box;padding-bottom: 0.4em;background-color: white;}#sk-container-id-20 div.sk-label label {font-family: monospace;font-weight: bold;display: inline-block;line-height: 1.2em;}#sk-container-id-20 div.sk-label-container {text-align: center;}#sk-container-id-20 div.sk-container {/* jupyter's `normalize.less` sets `[hidden] { display: none; }` but bootstrap.min.css set `[hidden] { display: none !important; }` so we also need the `!important` here to be able to override the default hidden behavior on the sphinx rendered scikit-learn.org. See: https://github.com/scikit-learn/scikit-learn/issues/21755 */display: inline-block !important;position: relative;}#sk-container-id-20 div.sk-text-repr-fallback {display: none;}</style><div id=\"sk-container-id-20\" class=\"sk-top-container\"><div class=\"sk-text-repr-fallback\"><pre>RandomForestClassifier(max_depth=15, n_estimators=300, random_state=0)</pre><b>In a Jupyter environment, please rerun this cell to show the HTML representation or trust the notebook. <br />On GitHub, the HTML representation is unable to render, please try loading this page with nbviewer.org.</b></div><div class=\"sk-container\" hidden><div class=\"sk-item\"><div class=\"sk-estimator sk-toggleable\"><input class=\"sk-toggleable__control sk-hidden--visually\" id=\"sk-estimator-id-20\" type=\"checkbox\" checked><label for=\"sk-estimator-id-20\" class=\"sk-toggleable__label sk-toggleable__label-arrow\">RandomForestClassifier</label><div class=\"sk-toggleable__content\"><pre>RandomForestClassifier(max_depth=15, n_estimators=300, random_state=0)</pre></div></div></div></div></div>"
      ],
      "text/plain": [
       "RandomForestClassifier(max_depth=15, n_estimators=300, random_state=0)"
      ]
     },
     "execution_count": 125,
     "metadata": {},
     "output_type": "execute_result"
    }
   ],
   "source": [
    "rf = RandomForestClassifier(n_estimators=300, max_depth=15, random_state=0) #모델\n",
    "\n",
    "rf.fit(X_train_scaled1, y_train)"
   ]
  },
  {
   "cell_type": "code",
   "execution_count": 126,
   "id": "57fff41d",
   "metadata": {
    "ExecuteTime": {
     "end_time": "2022-07-20T03:43:29.892523Z",
     "start_time": "2022-07-20T03:43:24.272301Z"
    }
   },
   "outputs": [],
   "source": [
    "s_rf_pred_train = rf.predict(X_train_scaled1)\n",
    "s_rf_pred_test = rf.predict(X_test_scaled1)\n",
    "s_rf_pred_val = rf.predict(X_val_scaled1)"
   ]
  },
  {
   "cell_type": "code",
   "execution_count": 127,
   "id": "3b0a77b8",
   "metadata": {
    "ExecuteTime": {
     "end_time": "2022-07-20T03:43:30.751427Z",
     "start_time": "2022-07-20T03:43:30.609770Z"
    },
    "collapsed": true
   },
   "outputs": [
    {
     "name": "stdout",
     "output_type": "stream",
     "text": [
      "==================================================\n",
      "Scaled_RF_Train set에 대한 검증결과\n",
      "--------------------------------------------------\n",
      "정확도(Accuracy): 0.9349089848046147\n",
      "재현율/민감도(Recall): 0.9434931506849316\n",
      "정밀도(Precision): 0.8864628820960698\n",
      "F1 점수(F1 Score): 0.9140893470790379\n",
      "==================================================\n",
      "==================================================\n",
      "Scaled_RF_S_Test set에 대한 검증결과\n",
      "--------------------------------------------------\n",
      "정확도(Accuracy): 0.9311428314929527\n",
      "재현율/민감도(Recall): 0.9405313185474043\n",
      "정밀도(Precision): 0.8806481058877225\n",
      "F1 점수(F1 Score): 0.9096051856216852\n",
      "==================================================\n",
      "==================================================\n",
      "Scaled_RF_Validation set에 대한 검증결과\n",
      "--------------------------------------------------\n",
      "정확도(Accuracy): 0.9361702127659575\n",
      "재현율/민감도(Recall): 0.9522994129158513\n",
      "정밀도(Precision): 0.8829666591063733\n",
      "F1 점수(F1 Score): 0.9163234082617394\n",
      "==================================================\n"
     ]
    }
   ],
   "source": [
    "#max_depth =15\n",
    "print_classification_metrics(y_train, s_rf_pred_train, title='Scaled_RF_Train set에 대한 검증결과')\n",
    "print_classification_metrics(y_test, s_rf_pred_test, title='Scaled_RF_S_Test set에 대한 검증결과')\n",
    "print_classification_metrics(y_val, s_rf_pred_val, title='Scaled_RF_Validation set에 대한 검증결과')"
   ]
  },
  {
   "cell_type": "markdown",
   "id": "410cd661",
   "metadata": {},
   "source": [
    "## Gradient Boosting"
   ]
  },
  {
   "cell_type": "code",
   "execution_count": 78,
   "id": "8884b10f",
   "metadata": {
    "ExecuteTime": {
     "end_time": "2022-07-19T11:40:31.989412Z",
     "start_time": "2022-07-19T11:40:31.981433Z"
    }
   },
   "outputs": [],
   "source": [
    "from sklearn.ensemble import GradientBoostingClassifier\n",
    "from metrics import print_classification_metrics"
   ]
  },
  {
   "cell_type": "code",
   "execution_count": 85,
   "id": "9578769b",
   "metadata": {
    "ExecuteTime": {
     "end_time": "2022-07-19T11:44:45.588625Z",
     "start_time": "2022-07-19T11:44:20.934138Z"
    }
   },
   "outputs": [
    {
     "name": "stderr",
     "output_type": "stream",
     "text": [
      "C:\\Users\\Playdata\\anaconda3\\envs\\tf\\lib\\site-packages\\sklearn\\ensemble\\_gb.py:570: DataConversionWarning: A column-vector y was passed when a 1d array was expected. Please change the shape of y to (n_samples, ), for example using ravel().\n",
      "  y = column_or_1d(y, warn=True)\n"
     ]
    },
    {
     "data": {
      "text/html": [
       "<style>#sk-container-id-18 {color: black;background-color: white;}#sk-container-id-18 pre{padding: 0;}#sk-container-id-18 div.sk-toggleable {background-color: white;}#sk-container-id-18 label.sk-toggleable__label {cursor: pointer;display: block;width: 100%;margin-bottom: 0;padding: 0.3em;box-sizing: border-box;text-align: center;}#sk-container-id-18 label.sk-toggleable__label-arrow:before {content: \"▸\";float: left;margin-right: 0.25em;color: #696969;}#sk-container-id-18 label.sk-toggleable__label-arrow:hover:before {color: black;}#sk-container-id-18 div.sk-estimator:hover label.sk-toggleable__label-arrow:before {color: black;}#sk-container-id-18 div.sk-toggleable__content {max-height: 0;max-width: 0;overflow: hidden;text-align: left;background-color: #f0f8ff;}#sk-container-id-18 div.sk-toggleable__content pre {margin: 0.2em;color: black;border-radius: 0.25em;background-color: #f0f8ff;}#sk-container-id-18 input.sk-toggleable__control:checked~div.sk-toggleable__content {max-height: 200px;max-width: 100%;overflow: auto;}#sk-container-id-18 input.sk-toggleable__control:checked~label.sk-toggleable__label-arrow:before {content: \"▾\";}#sk-container-id-18 div.sk-estimator input.sk-toggleable__control:checked~label.sk-toggleable__label {background-color: #d4ebff;}#sk-container-id-18 div.sk-label input.sk-toggleable__control:checked~label.sk-toggleable__label {background-color: #d4ebff;}#sk-container-id-18 input.sk-hidden--visually {border: 0;clip: rect(1px 1px 1px 1px);clip: rect(1px, 1px, 1px, 1px);height: 1px;margin: -1px;overflow: hidden;padding: 0;position: absolute;width: 1px;}#sk-container-id-18 div.sk-estimator {font-family: monospace;background-color: #f0f8ff;border: 1px dotted black;border-radius: 0.25em;box-sizing: border-box;margin-bottom: 0.5em;}#sk-container-id-18 div.sk-estimator:hover {background-color: #d4ebff;}#sk-container-id-18 div.sk-parallel-item::after {content: \"\";width: 100%;border-bottom: 1px solid gray;flex-grow: 1;}#sk-container-id-18 div.sk-label:hover label.sk-toggleable__label {background-color: #d4ebff;}#sk-container-id-18 div.sk-serial::before {content: \"\";position: absolute;border-left: 1px solid gray;box-sizing: border-box;top: 0;bottom: 0;left: 50%;z-index: 0;}#sk-container-id-18 div.sk-serial {display: flex;flex-direction: column;align-items: center;background-color: white;padding-right: 0.2em;padding-left: 0.2em;position: relative;}#sk-container-id-18 div.sk-item {position: relative;z-index: 1;}#sk-container-id-18 div.sk-parallel {display: flex;align-items: stretch;justify-content: center;background-color: white;position: relative;}#sk-container-id-18 div.sk-item::before, #sk-container-id-18 div.sk-parallel-item::before {content: \"\";position: absolute;border-left: 1px solid gray;box-sizing: border-box;top: 0;bottom: 0;left: 50%;z-index: -1;}#sk-container-id-18 div.sk-parallel-item {display: flex;flex-direction: column;z-index: 1;position: relative;background-color: white;}#sk-container-id-18 div.sk-parallel-item:first-child::after {align-self: flex-end;width: 50%;}#sk-container-id-18 div.sk-parallel-item:last-child::after {align-self: flex-start;width: 50%;}#sk-container-id-18 div.sk-parallel-item:only-child::after {width: 0;}#sk-container-id-18 div.sk-dashed-wrapped {border: 1px dashed gray;margin: 0 0.4em 0.5em 0.4em;box-sizing: border-box;padding-bottom: 0.4em;background-color: white;}#sk-container-id-18 div.sk-label label {font-family: monospace;font-weight: bold;display: inline-block;line-height: 1.2em;}#sk-container-id-18 div.sk-label-container {text-align: center;}#sk-container-id-18 div.sk-container {/* jupyter's `normalize.less` sets `[hidden] { display: none; }` but bootstrap.min.css set `[hidden] { display: none !important; }` so we also need the `!important` here to be able to override the default hidden behavior on the sphinx rendered scikit-learn.org. See: https://github.com/scikit-learn/scikit-learn/issues/21755 */display: inline-block !important;position: relative;}#sk-container-id-18 div.sk-text-repr-fallback {display: none;}</style><div id=\"sk-container-id-18\" class=\"sk-top-container\"><div class=\"sk-text-repr-fallback\"><pre>GradientBoostingClassifier(learning_rate=0.5, n_estimators=300, random_state=0)</pre><b>In a Jupyter environment, please rerun this cell to show the HTML representation or trust the notebook. <br />On GitHub, the HTML representation is unable to render, please try loading this page with nbviewer.org.</b></div><div class=\"sk-container\" hidden><div class=\"sk-item\"><div class=\"sk-estimator sk-toggleable\"><input class=\"sk-toggleable__control sk-hidden--visually\" id=\"sk-estimator-id-18\" type=\"checkbox\" checked><label for=\"sk-estimator-id-18\" class=\"sk-toggleable__label sk-toggleable__label-arrow\">GradientBoostingClassifier</label><div class=\"sk-toggleable__content\"><pre>GradientBoostingClassifier(learning_rate=0.5, n_estimators=300, random_state=0)</pre></div></div></div></div></div>"
      ],
      "text/plain": [
       "GradientBoostingClassifier(learning_rate=0.5, n_estimators=300, random_state=0)"
      ]
     },
     "execution_count": 85,
     "metadata": {},
     "output_type": "execute_result"
    }
   ],
   "source": [
    "gb = GradientBoostingClassifier(random_state=0, learning_rate=0.5, n_estimators=300)\n",
    "\n",
    "gb.fit(X_train, y_train)"
   ]
  },
  {
   "cell_type": "code",
   "execution_count": 86,
   "id": "1bc94f48",
   "metadata": {
    "ExecuteTime": {
     "end_time": "2022-07-19T11:44:48.998331Z",
     "start_time": "2022-07-19T11:44:48.717745Z"
    }
   },
   "outputs": [],
   "source": [
    "gb_pred_train = gb.predict(X_train)\n",
    "gb_pred_test = gb.predict(X_test)\n",
    "gb_pred_val = gb.predict(X_val)"
   ]
  },
  {
   "cell_type": "code",
   "execution_count": 81,
   "id": "de6d4548",
   "metadata": {
    "ExecuteTime": {
     "end_time": "2022-07-19T11:43:14.291612Z",
     "start_time": "2022-07-19T11:43:14.189884Z"
    },
    "collapsed": true
   },
   "outputs": [
    {
     "name": "stdout",
     "output_type": "stream",
     "text": [
      "==================================================\n",
      "Gradient Boosting_Train set에 대한 검증결과\n",
      "--------------------------------------------------\n",
      "정확도(Accuracy): 0.7767702160770934\n",
      "재현율/민감도(Recall): 0.7333659491193738\n",
      "정밀도(Precision): 0.682242281726466\n",
      "F1 점수(F1 Score): 0.7068809682870281\n",
      "==================================================\n",
      "==================================================\n",
      "Gradient Boosting_Test set에 대한 검증결과\n",
      "--------------------------------------------------\n",
      "정확도(Accuracy): 0.7722416733997666\n",
      "재현율/민감도(Recall): 0.7041189373629052\n",
      "정밀도(Precision): 0.6858974358974359\n",
      "F1 점수(F1 Score): 0.6948887552615756\n",
      "==================================================\n",
      "==================================================\n",
      "Gradient Boosting_Val set에 대한 검증결과\n",
      "--------------------------------------------------\n",
      "정확도(Accuracy): 0.7642517281623126\n",
      "재현율/민감도(Recall): 0.7248043052837574\n",
      "정밀도(Precision): 0.6637544802867383\n",
      "F1 점수(F1 Score): 0.6929373246024322\n",
      "==================================================\n"
     ]
    }
   ],
   "source": [
    "# learning_rate=0.05\n",
    "print_classification_metrics(y_train, gb_pred_train, title='Gradient Boosting_Train set에 대한 검증결과')\n",
    "print_classification_metrics(y_test, gb_pred_test, title='Gradient Boosting_Test set에 대한 검증결과')\n",
    "print_classification_metrics(y_val, gb_pred_val, title='Gradient Boosting_Val set에 대한 검증결과')"
   ]
  },
  {
   "cell_type": "code",
   "execution_count": 84,
   "id": "9eec8b0f",
   "metadata": {
    "ExecuteTime": {
     "end_time": "2022-07-19T11:44:03.631489Z",
     "start_time": "2022-07-19T11:44:03.542208Z"
    },
    "collapsed": true
   },
   "outputs": [
    {
     "name": "stdout",
     "output_type": "stream",
     "text": [
      "==================================================\n",
      "Gradient Boosting_Train set에 대한 검증결과\n",
      "--------------------------------------------------\n",
      "정확도(Accuracy): 0.7860178368348596\n",
      "재현율/민감도(Recall): 0.7393183300717547\n",
      "정밀도(Precision): 0.6963901689708142\n",
      "F1 점수(F1 Score): 0.7172124663819016\n",
      "==================================================\n",
      "==================================================\n",
      "Gradient Boosting_Test set에 대한 검증결과\n",
      "--------------------------------------------------\n",
      "정확도(Accuracy): 0.777179280007182\n",
      "재현율/민감도(Recall): 0.7041189373629052\n",
      "정밀도(Precision): 0.6949723358191003\n",
      "F1 점수(F1 Score): 0.6995157384987893\n",
      "==================================================\n",
      "==================================================\n",
      "Gradient Boosting_Val set에 대한 검증결과\n",
      "--------------------------------------------------\n",
      "정확도(Accuracy): 0.7642517281623126\n",
      "재현율/민감도(Recall): 0.7179549902152642\n",
      "정밀도(Precision): 0.6658348457350273\n",
      "F1 점수(F1 Score): 0.6909133709981169\n",
      "==================================================\n"
     ]
    }
   ],
   "source": [
    "# learning_rate=0.1\n",
    "print_classification_metrics(y_train, gb_pred_train, title='Gradient Boosting_Train set에 대한 검증결과')\n",
    "print_classification_metrics(y_test, gb_pred_test, title='Gradient Boosting_Test set에 대한 검증결과')\n",
    "print_classification_metrics(y_val, gb_pred_val, title='Gradient Boosting_Val set에 대한 검증결과')"
   ]
  },
  {
   "cell_type": "code",
   "execution_count": 87,
   "id": "d2f72364",
   "metadata": {
    "ExecuteTime": {
     "end_time": "2022-07-19T11:44:52.062583Z",
     "start_time": "2022-07-19T11:44:51.965826Z"
    },
    "collapsed": true
   },
   "outputs": [
    {
     "name": "stdout",
     "output_type": "stream",
     "text": [
      "==================================================\n",
      "Gradient Boosting_Train set에 대한 검증결과\n",
      "--------------------------------------------------\n",
      "정확도(Accuracy): 0.8293230382474412\n",
      "재현율/민감도(Recall): 0.7804142204827136\n",
      "정밀도(Precision): 0.7607503378109848\n",
      "F1 점수(F1 Score): 0.7704568323606359\n",
      "==================================================\n",
      "==================================================\n",
      "Gradient Boosting_Test set에 대한 검증결과\n",
      "--------------------------------------------------\n",
      "정확도(Accuracy): 0.8054582996678338\n",
      "재현율/민감도(Recall): 0.7221545210821351\n",
      "정밀도(Precision): 0.7426065162907268\n",
      "F1 점수(F1 Score): 0.7322377363153342\n",
      "==================================================\n",
      "==================================================\n",
      "Gradient Boosting_Val set에 대한 검증결과\n",
      "--------------------------------------------------\n",
      "정확도(Accuracy): 0.748361612352994\n",
      "재현율/민감도(Recall): 0.6768590998043053\n",
      "정밀도(Precision): 0.6512120498940928\n",
      "F1 점수(F1 Score): 0.6637879333093438\n",
      "==================================================\n"
     ]
    }
   ],
   "source": [
    "# learning_rate=0.5\n",
    "print_classification_metrics(y_train, gb_pred_train, title='Gradient Boosting_Train set에 대한 검증결과')\n",
    "print_classification_metrics(y_test, gb_pred_test, title='Gradient Boosting_Test set에 대한 검증결과')\n",
    "print_classification_metrics(y_val, gb_pred_val, title='Gradient Boosting_Val set에 대한 검증결과')"
   ]
  },
  {
   "cell_type": "markdown",
   "id": "47f98417",
   "metadata": {},
   "source": [
    "### Scaled Gradient Boosting"
   ]
  },
  {
   "cell_type": "code",
   "execution_count": 88,
   "id": "6d33cea1",
   "metadata": {
    "ExecuteTime": {
     "end_time": "2022-07-19T11:45:32.556057Z",
     "start_time": "2022-07-19T11:45:32.493779Z"
    }
   },
   "outputs": [],
   "source": [
    "from sklearn.preprocessing import StandardScaler\n",
    "s_scaler = StandardScaler()\n",
    "X_train_scaled1 = s_scaler.fit_transform(X_train)\n",
    "X_val_scaled1 = s_scaler.transform(X_val)\n",
    "X_test_scaled1 = s_scaler.transform(X_test)"
   ]
  },
  {
   "cell_type": "code",
   "execution_count": 95,
   "id": "189270ba",
   "metadata": {
    "ExecuteTime": {
     "end_time": "2022-07-19T11:48:13.444168Z",
     "start_time": "2022-07-19T11:47:48.991919Z"
    }
   },
   "outputs": [
    {
     "name": "stderr",
     "output_type": "stream",
     "text": [
      "C:\\Users\\Playdata\\anaconda3\\envs\\tf\\lib\\site-packages\\sklearn\\ensemble\\_gb.py:570: DataConversionWarning: A column-vector y was passed when a 1d array was expected. Please change the shape of y to (n_samples, ), for example using ravel().\n",
      "  y = column_or_1d(y, warn=True)\n"
     ]
    },
    {
     "data": {
      "text/html": [
       "<style>#sk-container-id-21 {color: black;background-color: white;}#sk-container-id-21 pre{padding: 0;}#sk-container-id-21 div.sk-toggleable {background-color: white;}#sk-container-id-21 label.sk-toggleable__label {cursor: pointer;display: block;width: 100%;margin-bottom: 0;padding: 0.3em;box-sizing: border-box;text-align: center;}#sk-container-id-21 label.sk-toggleable__label-arrow:before {content: \"▸\";float: left;margin-right: 0.25em;color: #696969;}#sk-container-id-21 label.sk-toggleable__label-arrow:hover:before {color: black;}#sk-container-id-21 div.sk-estimator:hover label.sk-toggleable__label-arrow:before {color: black;}#sk-container-id-21 div.sk-toggleable__content {max-height: 0;max-width: 0;overflow: hidden;text-align: left;background-color: #f0f8ff;}#sk-container-id-21 div.sk-toggleable__content pre {margin: 0.2em;color: black;border-radius: 0.25em;background-color: #f0f8ff;}#sk-container-id-21 input.sk-toggleable__control:checked~div.sk-toggleable__content {max-height: 200px;max-width: 100%;overflow: auto;}#sk-container-id-21 input.sk-toggleable__control:checked~label.sk-toggleable__label-arrow:before {content: \"▾\";}#sk-container-id-21 div.sk-estimator input.sk-toggleable__control:checked~label.sk-toggleable__label {background-color: #d4ebff;}#sk-container-id-21 div.sk-label input.sk-toggleable__control:checked~label.sk-toggleable__label {background-color: #d4ebff;}#sk-container-id-21 input.sk-hidden--visually {border: 0;clip: rect(1px 1px 1px 1px);clip: rect(1px, 1px, 1px, 1px);height: 1px;margin: -1px;overflow: hidden;padding: 0;position: absolute;width: 1px;}#sk-container-id-21 div.sk-estimator {font-family: monospace;background-color: #f0f8ff;border: 1px dotted black;border-radius: 0.25em;box-sizing: border-box;margin-bottom: 0.5em;}#sk-container-id-21 div.sk-estimator:hover {background-color: #d4ebff;}#sk-container-id-21 div.sk-parallel-item::after {content: \"\";width: 100%;border-bottom: 1px solid gray;flex-grow: 1;}#sk-container-id-21 div.sk-label:hover label.sk-toggleable__label {background-color: #d4ebff;}#sk-container-id-21 div.sk-serial::before {content: \"\";position: absolute;border-left: 1px solid gray;box-sizing: border-box;top: 0;bottom: 0;left: 50%;z-index: 0;}#sk-container-id-21 div.sk-serial {display: flex;flex-direction: column;align-items: center;background-color: white;padding-right: 0.2em;padding-left: 0.2em;position: relative;}#sk-container-id-21 div.sk-item {position: relative;z-index: 1;}#sk-container-id-21 div.sk-parallel {display: flex;align-items: stretch;justify-content: center;background-color: white;position: relative;}#sk-container-id-21 div.sk-item::before, #sk-container-id-21 div.sk-parallel-item::before {content: \"\";position: absolute;border-left: 1px solid gray;box-sizing: border-box;top: 0;bottom: 0;left: 50%;z-index: -1;}#sk-container-id-21 div.sk-parallel-item {display: flex;flex-direction: column;z-index: 1;position: relative;background-color: white;}#sk-container-id-21 div.sk-parallel-item:first-child::after {align-self: flex-end;width: 50%;}#sk-container-id-21 div.sk-parallel-item:last-child::after {align-self: flex-start;width: 50%;}#sk-container-id-21 div.sk-parallel-item:only-child::after {width: 0;}#sk-container-id-21 div.sk-dashed-wrapped {border: 1px dashed gray;margin: 0 0.4em 0.5em 0.4em;box-sizing: border-box;padding-bottom: 0.4em;background-color: white;}#sk-container-id-21 div.sk-label label {font-family: monospace;font-weight: bold;display: inline-block;line-height: 1.2em;}#sk-container-id-21 div.sk-label-container {text-align: center;}#sk-container-id-21 div.sk-container {/* jupyter's `normalize.less` sets `[hidden] { display: none; }` but bootstrap.min.css set `[hidden] { display: none !important; }` so we also need the `!important` here to be able to override the default hidden behavior on the sphinx rendered scikit-learn.org. See: https://github.com/scikit-learn/scikit-learn/issues/21755 */display: inline-block !important;position: relative;}#sk-container-id-21 div.sk-text-repr-fallback {display: none;}</style><div id=\"sk-container-id-21\" class=\"sk-top-container\"><div class=\"sk-text-repr-fallback\"><pre>GradientBoostingClassifier(learning_rate=0.5, n_estimators=300, random_state=0)</pre><b>In a Jupyter environment, please rerun this cell to show the HTML representation or trust the notebook. <br />On GitHub, the HTML representation is unable to render, please try loading this page with nbviewer.org.</b></div><div class=\"sk-container\" hidden><div class=\"sk-item\"><div class=\"sk-estimator sk-toggleable\"><input class=\"sk-toggleable__control sk-hidden--visually\" id=\"sk-estimator-id-21\" type=\"checkbox\" checked><label for=\"sk-estimator-id-21\" class=\"sk-toggleable__label sk-toggleable__label-arrow\">GradientBoostingClassifier</label><div class=\"sk-toggleable__content\"><pre>GradientBoostingClassifier(learning_rate=0.5, n_estimators=300, random_state=0)</pre></div></div></div></div></div>"
      ],
      "text/plain": [
       "GradientBoostingClassifier(learning_rate=0.5, n_estimators=300, random_state=0)"
      ]
     },
     "execution_count": 95,
     "metadata": {},
     "output_type": "execute_result"
    }
   ],
   "source": [
    "gb = GradientBoostingClassifier(random_state=0, learning_rate=0.5, n_estimators=300)\n",
    "\n",
    "gb.fit(X_train_scaled1, y_train)"
   ]
  },
  {
   "cell_type": "code",
   "execution_count": 96,
   "id": "ca8c4445",
   "metadata": {
    "ExecuteTime": {
     "end_time": "2022-07-19T11:48:15.367187Z",
     "start_time": "2022-07-19T11:48:15.093089Z"
    }
   },
   "outputs": [],
   "source": [
    "s_gb_pred_train = gb.predict(X_train_scaled1)\n",
    "s_gb_pred_test = gb.predict(X_test_scaled1)\n",
    "s_gb_pred_val = gb.predict(X_val_scaled1)"
   ]
  },
  {
   "cell_type": "code",
   "execution_count": 91,
   "id": "27dc5f4e",
   "metadata": {
    "ExecuteTime": {
     "end_time": "2022-07-19T11:46:50.382896Z",
     "start_time": "2022-07-19T11:46:50.277902Z"
    },
    "collapsed": true
   },
   "outputs": [
    {
     "name": "stdout",
     "output_type": "stream",
     "text": [
      "==================================================\n",
      "Scaled Gradient Boosting_Train set에 대한 검증결과\n",
      "--------------------------------------------------\n",
      "정확도(Accuracy): 0.7767702160770934\n",
      "재현율/민감도(Recall): 0.7333659491193738\n",
      "정밀도(Precision): 0.682242281726466\n",
      "F1 점수(F1 Score): 0.7068809682870281\n",
      "==================================================\n",
      "==================================================\n",
      "Scaled Gradient Boosting_Test set에 대한 검증결과\n",
      "--------------------------------------------------\n",
      "정확도(Accuracy): 0.7722416733997666\n",
      "재현율/민감도(Recall): 0.7041189373629052\n",
      "정밀도(Precision): 0.6858974358974359\n",
      "F1 점수(F1 Score): 0.6948887552615756\n",
      "==================================================\n",
      "==================================================\n",
      "Scaled Gradient Boosting_Val set에 대한 검증결과\n",
      "--------------------------------------------------\n",
      "정확도(Accuracy): 0.7643415028279019\n",
      "재현율/민감도(Recall): 0.7250489236790607\n",
      "정밀도(Precision): 0.6638297872340425\n",
      "F1 점수(F1 Score): 0.6930901438091898\n",
      "==================================================\n"
     ]
    }
   ],
   "source": [
    "# learning_rate=0.05\n",
    "print_classification_metrics(y_train, s_gb_pred_train, title='Scaled Gradient Boosting_Train set에 대한 검증결과')\n",
    "print_classification_metrics(y_test, s_gb_pred_test, title='Scaled Gradient Boosting_Test set에 대한 검증결과')\n",
    "print_classification_metrics(y_val, s_gb_pred_val, title='Scaled Gradient Boosting_Val set에 대한 검증결과')"
   ]
  },
  {
   "cell_type": "code",
   "execution_count": 94,
   "id": "36c76f2f",
   "metadata": {
    "ExecuteTime": {
     "end_time": "2022-07-19T11:47:34.884174Z",
     "start_time": "2022-07-19T11:47:34.788917Z"
    },
    "collapsed": true
   },
   "outputs": [
    {
     "name": "stdout",
     "output_type": "stream",
     "text": [
      "==================================================\n",
      "Scaled Gradient Boosting_Train set에 대한 검증결과\n",
      "--------------------------------------------------\n",
      "정확도(Accuracy): 0.7860178368348596\n",
      "재현율/민감도(Recall): 0.7393183300717547\n",
      "정밀도(Precision): 0.6963901689708142\n",
      "F1 점수(F1 Score): 0.7172124663819016\n",
      "==================================================\n",
      "==================================================\n",
      "Scaled Gradient Boosting_Test set에 대한 검증결과\n",
      "--------------------------------------------------\n",
      "정확도(Accuracy): 0.777179280007182\n",
      "재현율/민감도(Recall): 0.7041189373629052\n",
      "정밀도(Precision): 0.6949723358191003\n",
      "F1 점수(F1 Score): 0.6995157384987893\n",
      "==================================================\n",
      "==================================================\n",
      "Scaled Gradient Boosting_Val set에 대한 검증결과\n",
      "--------------------------------------------------\n",
      "정확도(Accuracy): 0.7641619534967232\n",
      "재현율/민감도(Recall): 0.7177103718199609\n",
      "정밀도(Precision): 0.6657590197413207\n",
      "F1 점수(F1 Score): 0.6907592701589171\n",
      "==================================================\n"
     ]
    }
   ],
   "source": [
    "# learning_rate=0.1\n",
    "print_classification_metrics(y_train, s_gb_pred_train, title='Scaled Gradient Boosting_Train set에 대한 검증결과')\n",
    "print_classification_metrics(y_test, s_gb_pred_test, title='Scaled Gradient Boosting_Test set에 대한 검증결과')\n",
    "print_classification_metrics(y_val, s_gb_pred_val, title='Scaled Gradient Boosting_Val set에 대한 검증결과')"
   ]
  },
  {
   "cell_type": "code",
   "execution_count": 97,
   "id": "9d1c5732",
   "metadata": {
    "ExecuteTime": {
     "end_time": "2022-07-19T11:48:18.185080Z",
     "start_time": "2022-07-19T11:48:18.093095Z"
    },
    "collapsed": true
   },
   "outputs": [
    {
     "name": "stdout",
     "output_type": "stream",
     "text": [
      "==================================================\n",
      "Scaled Gradient Boosting_Train set에 대한 검증결과\n",
      "--------------------------------------------------\n",
      "정확도(Accuracy): 0.8293230382474412\n",
      "재현율/민감도(Recall): 0.7804142204827136\n",
      "정밀도(Precision): 0.7607503378109848\n",
      "F1 점수(F1 Score): 0.7704568323606359\n",
      "==================================================\n",
      "==================================================\n",
      "Scaled Gradient Boosting_Test set에 대한 검증결과\n",
      "--------------------------------------------------\n",
      "정확도(Accuracy): 0.8053685250022443\n",
      "재현율/민감도(Recall): 0.7221545210821351\n",
      "정밀도(Precision): 0.7424204460035079\n",
      "F1 점수(F1 Score): 0.7321472695824067\n",
      "==================================================\n",
      "==================================================\n",
      "Scaled Gradient Boosting_Val set에 대한 검증결과\n",
      "--------------------------------------------------\n",
      "정확도(Accuracy): 0.7482718376874046\n",
      "재현율/민감도(Recall): 0.6771037181996086\n",
      "정밀도(Precision): 0.6509877704609596\n",
      "F1 점수(F1 Score): 0.6637889688249401\n",
      "==================================================\n"
     ]
    }
   ],
   "source": [
    "# learning_rate=0.5\n",
    "print_classification_metrics(y_train, s_gb_pred_train, title='Scaled Gradient Boosting_Train set에 대한 검증결과')\n",
    "print_classification_metrics(y_test, s_gb_pred_test, title='Scaled Gradient Boosting_Test set에 대한 검증결과')\n",
    "print_classification_metrics(y_val, s_gb_pred_val, title='Scaled Gradient Boosting_Val set에 대한 검증결과')"
   ]
  },
  {
   "cell_type": "markdown",
   "id": "13758073",
   "metadata": {},
   "source": [
    "## XGB"
   ]
  },
  {
   "cell_type": "code",
   "execution_count": 98,
   "id": "55108d97",
   "metadata": {
    "ExecuteTime": {
     "end_time": "2022-07-19T11:49:40.452425Z",
     "start_time": "2022-07-19T11:49:40.334873Z"
    }
   },
   "outputs": [],
   "source": [
    "from xgboost import XGBClassifier"
   ]
  },
  {
   "cell_type": "code",
   "execution_count": 111,
   "id": "8926126b",
   "metadata": {
    "ExecuteTime": {
     "end_time": "2022-07-19T11:54:57.565540Z",
     "start_time": "2022-07-19T11:54:13.893155Z"
    },
    "collapsed": true
   },
   "outputs": [
    {
     "data": {
      "text/html": [
       "<style>#sk-container-id-26 {color: black;background-color: white;}#sk-container-id-26 pre{padding: 0;}#sk-container-id-26 div.sk-toggleable {background-color: white;}#sk-container-id-26 label.sk-toggleable__label {cursor: pointer;display: block;width: 100%;margin-bottom: 0;padding: 0.3em;box-sizing: border-box;text-align: center;}#sk-container-id-26 label.sk-toggleable__label-arrow:before {content: \"▸\";float: left;margin-right: 0.25em;color: #696969;}#sk-container-id-26 label.sk-toggleable__label-arrow:hover:before {color: black;}#sk-container-id-26 div.sk-estimator:hover label.sk-toggleable__label-arrow:before {color: black;}#sk-container-id-26 div.sk-toggleable__content {max-height: 0;max-width: 0;overflow: hidden;text-align: left;background-color: #f0f8ff;}#sk-container-id-26 div.sk-toggleable__content pre {margin: 0.2em;color: black;border-radius: 0.25em;background-color: #f0f8ff;}#sk-container-id-26 input.sk-toggleable__control:checked~div.sk-toggleable__content {max-height: 200px;max-width: 100%;overflow: auto;}#sk-container-id-26 input.sk-toggleable__control:checked~label.sk-toggleable__label-arrow:before {content: \"▾\";}#sk-container-id-26 div.sk-estimator input.sk-toggleable__control:checked~label.sk-toggleable__label {background-color: #d4ebff;}#sk-container-id-26 div.sk-label input.sk-toggleable__control:checked~label.sk-toggleable__label {background-color: #d4ebff;}#sk-container-id-26 input.sk-hidden--visually {border: 0;clip: rect(1px 1px 1px 1px);clip: rect(1px, 1px, 1px, 1px);height: 1px;margin: -1px;overflow: hidden;padding: 0;position: absolute;width: 1px;}#sk-container-id-26 div.sk-estimator {font-family: monospace;background-color: #f0f8ff;border: 1px dotted black;border-radius: 0.25em;box-sizing: border-box;margin-bottom: 0.5em;}#sk-container-id-26 div.sk-estimator:hover {background-color: #d4ebff;}#sk-container-id-26 div.sk-parallel-item::after {content: \"\";width: 100%;border-bottom: 1px solid gray;flex-grow: 1;}#sk-container-id-26 div.sk-label:hover label.sk-toggleable__label {background-color: #d4ebff;}#sk-container-id-26 div.sk-serial::before {content: \"\";position: absolute;border-left: 1px solid gray;box-sizing: border-box;top: 0;bottom: 0;left: 50%;z-index: 0;}#sk-container-id-26 div.sk-serial {display: flex;flex-direction: column;align-items: center;background-color: white;padding-right: 0.2em;padding-left: 0.2em;position: relative;}#sk-container-id-26 div.sk-item {position: relative;z-index: 1;}#sk-container-id-26 div.sk-parallel {display: flex;align-items: stretch;justify-content: center;background-color: white;position: relative;}#sk-container-id-26 div.sk-item::before, #sk-container-id-26 div.sk-parallel-item::before {content: \"\";position: absolute;border-left: 1px solid gray;box-sizing: border-box;top: 0;bottom: 0;left: 50%;z-index: -1;}#sk-container-id-26 div.sk-parallel-item {display: flex;flex-direction: column;z-index: 1;position: relative;background-color: white;}#sk-container-id-26 div.sk-parallel-item:first-child::after {align-self: flex-end;width: 50%;}#sk-container-id-26 div.sk-parallel-item:last-child::after {align-self: flex-start;width: 50%;}#sk-container-id-26 div.sk-parallel-item:only-child::after {width: 0;}#sk-container-id-26 div.sk-dashed-wrapped {border: 1px dashed gray;margin: 0 0.4em 0.5em 0.4em;box-sizing: border-box;padding-bottom: 0.4em;background-color: white;}#sk-container-id-26 div.sk-label label {font-family: monospace;font-weight: bold;display: inline-block;line-height: 1.2em;}#sk-container-id-26 div.sk-label-container {text-align: center;}#sk-container-id-26 div.sk-container {/* jupyter's `normalize.less` sets `[hidden] { display: none; }` but bootstrap.min.css set `[hidden] { display: none !important; }` so we also need the `!important` here to be able to override the default hidden behavior on the sphinx rendered scikit-learn.org. See: https://github.com/scikit-learn/scikit-learn/issues/21755 */display: inline-block !important;position: relative;}#sk-container-id-26 div.sk-text-repr-fallback {display: none;}</style><div id=\"sk-container-id-26\" class=\"sk-top-container\"><div class=\"sk-text-repr-fallback\"><pre>XGBClassifier(base_score=0.5, booster=&#x27;gbtree&#x27;, callbacks=None,\n",
       "              colsample_bylevel=1, colsample_bynode=1, colsample_bytree=1,\n",
       "              early_stopping_rounds=None, enable_categorical=False,\n",
       "              eval_metric=None, gamma=0, gpu_id=-1, grow_policy=&#x27;depthwise&#x27;,\n",
       "              importance_type=None, interaction_constraints=&#x27;&#x27;,\n",
       "              learning_rate=0.1, max_bin=256, max_cat_to_onehot=4,\n",
       "              max_delta_step=0, max_depth=30, max_leaves=0, min_child_weight=1,\n",
       "              missing=nan, monotone_constraints=&#x27;()&#x27;, n_estimators=300,\n",
       "              n_jobs=0, num_parallel_tree=1, predictor=&#x27;auto&#x27;, random_state=0,\n",
       "              reg_alpha=0, reg_lambda=1, ...)</pre><b>In a Jupyter environment, please rerun this cell to show the HTML representation or trust the notebook. <br />On GitHub, the HTML representation is unable to render, please try loading this page with nbviewer.org.</b></div><div class=\"sk-container\" hidden><div class=\"sk-item\"><div class=\"sk-estimator sk-toggleable\"><input class=\"sk-toggleable__control sk-hidden--visually\" id=\"sk-estimator-id-26\" type=\"checkbox\" checked><label for=\"sk-estimator-id-26\" class=\"sk-toggleable__label sk-toggleable__label-arrow\">XGBClassifier</label><div class=\"sk-toggleable__content\"><pre>XGBClassifier(base_score=0.5, booster=&#x27;gbtree&#x27;, callbacks=None,\n",
       "              colsample_bylevel=1, colsample_bynode=1, colsample_bytree=1,\n",
       "              early_stopping_rounds=None, enable_categorical=False,\n",
       "              eval_metric=None, gamma=0, gpu_id=-1, grow_policy=&#x27;depthwise&#x27;,\n",
       "              importance_type=None, interaction_constraints=&#x27;&#x27;,\n",
       "              learning_rate=0.1, max_bin=256, max_cat_to_onehot=4,\n",
       "              max_delta_step=0, max_depth=30, max_leaves=0, min_child_weight=1,\n",
       "              missing=nan, monotone_constraints=&#x27;()&#x27;, n_estimators=300,\n",
       "              n_jobs=0, num_parallel_tree=1, predictor=&#x27;auto&#x27;, random_state=0,\n",
       "              reg_alpha=0, reg_lambda=1, ...)</pre></div></div></div></div></div>"
      ],
      "text/plain": [
       "XGBClassifier(base_score=0.5, booster='gbtree', callbacks=None,\n",
       "              colsample_bylevel=1, colsample_bynode=1, colsample_bytree=1,\n",
       "              early_stopping_rounds=None, enable_categorical=False,\n",
       "              eval_metric=None, gamma=0, gpu_id=-1, grow_policy='depthwise',\n",
       "              importance_type=None, interaction_constraints='',\n",
       "              learning_rate=0.1, max_bin=256, max_cat_to_onehot=4,\n",
       "              max_delta_step=0, max_depth=30, max_leaves=0, min_child_weight=1,\n",
       "              missing=nan, monotone_constraints='()', n_estimators=300,\n",
       "              n_jobs=0, num_parallel_tree=1, predictor='auto', random_state=0,\n",
       "              reg_alpha=0, reg_lambda=1, ...)"
      ]
     },
     "execution_count": 111,
     "metadata": {},
     "output_type": "execute_result"
    }
   ],
   "source": [
    "xgb = XGBClassifier(n_estimators=300, learning_rate=0.1, max_depth=30, random_state=0)\n",
    "\n",
    "xgb.fit(X_train, y_train)"
   ]
  },
  {
   "cell_type": "code",
   "execution_count": 112,
   "id": "511b4c50",
   "metadata": {
    "ExecuteTime": {
     "end_time": "2022-07-19T11:55:03.767046Z",
     "start_time": "2022-07-19T11:55:02.254559Z"
    }
   },
   "outputs": [],
   "source": [
    "xgb_pred_train = xgb.predict(X_train)\n",
    "xgb_pred_test = xgb.predict(X_test)\n",
    "xgb_pred_val = xgb.predict(X_val)"
   ]
  },
  {
   "cell_type": "code",
   "execution_count": 107,
   "id": "913a8e8b",
   "metadata": {
    "ExecuteTime": {
     "end_time": "2022-07-19T11:53:40.102356Z",
     "start_time": "2022-07-19T11:53:40.013593Z"
    },
    "collapsed": true
   },
   "outputs": [
    {
     "name": "stdout",
     "output_type": "stream",
     "text": [
      "==================================================\n",
      "XGB Train set에 대한 검증결과\n",
      "--------------------------------------------------\n",
      "정확도(Accuracy): 0.7851798647273598\n",
      "재현율/민감도(Recall): 0.7429876060013046\n",
      "정밀도(Precision): 0.69356066372355\n",
      "F1 점수(F1 Score): 0.7174238248956776\n",
      "==================================================\n",
      "==================================================\n",
      "XGB Test set에 대한 검증결과\n",
      "--------------------------------------------------\n",
      "정확도(Accuracy): 0.7763713080168776\n",
      "재현율/민감도(Recall): 0.7058250060931026\n",
      "정밀도(Precision): 0.692822966507177\n",
      "F1 점수(F1 Score): 0.6992635518531932\n",
      "==================================================\n",
      "==================================================\n",
      "XGB Val set에 대한 검증결과\n",
      "--------------------------------------------------\n",
      "정확도(Accuracy): 0.7635335308375977\n",
      "재현율/민감도(Recall): 0.7186888454011742\n",
      "정밀도(Precision): 0.6644052464947987\n",
      "F1 점수(F1 Score): 0.69048178613396\n",
      "==================================================\n"
     ]
    }
   ],
   "source": [
    "#max_depth = 3\n",
    "print_classification_metrics(y_train, xgb_pred_train, \"XGB Train set에 대한 검증결과\")\n",
    "print_classification_metrics(y_test, xgb_pred_test, 'XGB Test set에 대한 검증결과')\n",
    "print_classification_metrics(y_val, xgb_pred_val, 'XGB Val set에 대한 검증결과')"
   ]
  },
  {
   "cell_type": "code",
   "execution_count": 101,
   "id": "0f860597",
   "metadata": {
    "ExecuteTime": {
     "end_time": "2022-07-19T11:52:10.877266Z",
     "start_time": "2022-07-19T11:52:10.780537Z"
    },
    "collapsed": true
   },
   "outputs": [
    {
     "name": "stdout",
     "output_type": "stream",
     "text": [
      "==================================================\n",
      "XGB Train set에 대한 검증결과\n",
      "--------------------------------------------------\n",
      "정확도(Accuracy): 0.9047405279224278\n",
      "재현율/민감도(Recall): 0.8858447488584474\n",
      "정밀도(Precision): 0.8590179489206926\n",
      "F1 점수(F1 Score): 0.8722251214322989\n",
      "==================================================\n",
      "==================================================\n",
      "XGB Test set에 대한 검증결과\n",
      "--------------------------------------------------\n",
      "정확도(Accuracy): 0.8611185923332435\n",
      "재현율/민감도(Recall): 0.806970509383378\n",
      "정밀도(Precision): 0.8143138219380226\n",
      "F1 점수(F1 Score): 0.8106255355612682\n",
      "==================================================\n",
      "==================================================\n",
      "XGB Val set에 대한 검증결과\n",
      "--------------------------------------------------\n",
      "정확도(Accuracy): 0.7586856988957716\n",
      "재현율/민감도(Recall): 0.7015655577299413\n",
      "정밀도(Precision): 0.6614391143911439\n",
      "F1 점수(F1 Score): 0.680911680911681\n",
      "==================================================\n"
     ]
    }
   ],
   "source": [
    "#max_depth = 7\n",
    "print_classification_metrics(y_train, xgb_pred_train, \"XGB Train set에 대한 검증결과\")\n",
    "print_classification_metrics(y_test, xgb_pred_test, 'XGB Test set에 대한 검증결과')\n",
    "print_classification_metrics(y_val, xgb_pred_val, 'XGB Val set에 대한 검증결과')"
   ]
  },
  {
   "cell_type": "code",
   "execution_count": 104,
   "id": "d15e57ef",
   "metadata": {
    "ExecuteTime": {
     "end_time": "2022-07-19T11:53:17.692204Z",
     "start_time": "2022-07-19T11:53:17.582311Z"
    },
    "collapsed": true
   },
   "outputs": [
    {
     "name": "stdout",
     "output_type": "stream",
     "text": [
      "==================================================\n",
      "XGB Train set에 대한 검증결과\n",
      "--------------------------------------------------\n",
      "정확도(Accuracy): 1.0\n",
      "재현율/민감도(Recall): 1.0\n",
      "정밀도(Precision): 1.0\n",
      "F1 점수(F1 Score): 1.0\n",
      "==================================================\n",
      "==================================================\n",
      "XGB Test set에 대한 검증결과\n",
      "--------------------------------------------------\n",
      "정확도(Accuracy): 0.9309632821617739\n",
      "재현율/민감도(Recall): 0.9061662198391421\n",
      "정밀도(Precision): 0.9063871282301317\n",
      "F1 점수(F1 Score): 0.9062766605728216\n",
      "==================================================\n",
      "==================================================\n",
      "XGB Val set에 대한 검증결과\n",
      "--------------------------------------------------\n",
      "정확도(Accuracy): 0.750785528323907\n",
      "재현율/민감도(Recall): 0.6861545988258317\n",
      "정밀도(Precision): 0.652629129827827\n",
      "F1 점수(F1 Score): 0.6689720963510614\n",
      "==================================================\n"
     ]
    }
   ],
   "source": [
    "#max_depth = 15\n",
    "print_classification_metrics(y_train, xgb_pred_train, \"XGB Train set에 대한 검증결과\")\n",
    "print_classification_metrics(y_test, xgb_pred_test, 'XGB Test set에 대한 검증결과')\n",
    "print_classification_metrics(y_val, xgb_pred_val, 'XGB Val set에 대한 검증결과')"
   ]
  },
  {
   "cell_type": "markdown",
   "id": "5628a5f0",
   "metadata": {},
   "source": [
    "### 전체 이상치 제거 후 XGB"
   ]
  },
  {
   "cell_type": "code",
   "execution_count": 79,
   "id": "9956c7fd",
   "metadata": {
    "ExecuteTime": {
     "end_time": "2022-07-20T01:00:36.237145Z",
     "start_time": "2022-07-20T01:00:36.087120Z"
    }
   },
   "outputs": [],
   "source": [
    "from xgboost import XGBClassifier"
   ]
  },
  {
   "cell_type": "code",
   "execution_count": 107,
   "id": "ed5466e6",
   "metadata": {
    "ExecuteTime": {
     "end_time": "2022-07-20T01:27:03.598108Z",
     "start_time": "2022-07-20T01:26:53.229515Z"
    }
   },
   "outputs": [
    {
     "data": {
      "text/html": [
       "<style>#sk-container-id-15 {color: black;background-color: white;}#sk-container-id-15 pre{padding: 0;}#sk-container-id-15 div.sk-toggleable {background-color: white;}#sk-container-id-15 label.sk-toggleable__label {cursor: pointer;display: block;width: 100%;margin-bottom: 0;padding: 0.3em;box-sizing: border-box;text-align: center;}#sk-container-id-15 label.sk-toggleable__label-arrow:before {content: \"▸\";float: left;margin-right: 0.25em;color: #696969;}#sk-container-id-15 label.sk-toggleable__label-arrow:hover:before {color: black;}#sk-container-id-15 div.sk-estimator:hover label.sk-toggleable__label-arrow:before {color: black;}#sk-container-id-15 div.sk-toggleable__content {max-height: 0;max-width: 0;overflow: hidden;text-align: left;background-color: #f0f8ff;}#sk-container-id-15 div.sk-toggleable__content pre {margin: 0.2em;color: black;border-radius: 0.25em;background-color: #f0f8ff;}#sk-container-id-15 input.sk-toggleable__control:checked~div.sk-toggleable__content {max-height: 200px;max-width: 100%;overflow: auto;}#sk-container-id-15 input.sk-toggleable__control:checked~label.sk-toggleable__label-arrow:before {content: \"▾\";}#sk-container-id-15 div.sk-estimator input.sk-toggleable__control:checked~label.sk-toggleable__label {background-color: #d4ebff;}#sk-container-id-15 div.sk-label input.sk-toggleable__control:checked~label.sk-toggleable__label {background-color: #d4ebff;}#sk-container-id-15 input.sk-hidden--visually {border: 0;clip: rect(1px 1px 1px 1px);clip: rect(1px, 1px, 1px, 1px);height: 1px;margin: -1px;overflow: hidden;padding: 0;position: absolute;width: 1px;}#sk-container-id-15 div.sk-estimator {font-family: monospace;background-color: #f0f8ff;border: 1px dotted black;border-radius: 0.25em;box-sizing: border-box;margin-bottom: 0.5em;}#sk-container-id-15 div.sk-estimator:hover {background-color: #d4ebff;}#sk-container-id-15 div.sk-parallel-item::after {content: \"\";width: 100%;border-bottom: 1px solid gray;flex-grow: 1;}#sk-container-id-15 div.sk-label:hover label.sk-toggleable__label {background-color: #d4ebff;}#sk-container-id-15 div.sk-serial::before {content: \"\";position: absolute;border-left: 1px solid gray;box-sizing: border-box;top: 0;bottom: 0;left: 50%;z-index: 0;}#sk-container-id-15 div.sk-serial {display: flex;flex-direction: column;align-items: center;background-color: white;padding-right: 0.2em;padding-left: 0.2em;position: relative;}#sk-container-id-15 div.sk-item {position: relative;z-index: 1;}#sk-container-id-15 div.sk-parallel {display: flex;align-items: stretch;justify-content: center;background-color: white;position: relative;}#sk-container-id-15 div.sk-item::before, #sk-container-id-15 div.sk-parallel-item::before {content: \"\";position: absolute;border-left: 1px solid gray;box-sizing: border-box;top: 0;bottom: 0;left: 50%;z-index: -1;}#sk-container-id-15 div.sk-parallel-item {display: flex;flex-direction: column;z-index: 1;position: relative;background-color: white;}#sk-container-id-15 div.sk-parallel-item:first-child::after {align-self: flex-end;width: 50%;}#sk-container-id-15 div.sk-parallel-item:last-child::after {align-self: flex-start;width: 50%;}#sk-container-id-15 div.sk-parallel-item:only-child::after {width: 0;}#sk-container-id-15 div.sk-dashed-wrapped {border: 1px dashed gray;margin: 0 0.4em 0.5em 0.4em;box-sizing: border-box;padding-bottom: 0.4em;background-color: white;}#sk-container-id-15 div.sk-label label {font-family: monospace;font-weight: bold;display: inline-block;line-height: 1.2em;}#sk-container-id-15 div.sk-label-container {text-align: center;}#sk-container-id-15 div.sk-container {/* jupyter's `normalize.less` sets `[hidden] { display: none; }` but bootstrap.min.css set `[hidden] { display: none !important; }` so we also need the `!important` here to be able to override the default hidden behavior on the sphinx rendered scikit-learn.org. See: https://github.com/scikit-learn/scikit-learn/issues/21755 */display: inline-block !important;position: relative;}#sk-container-id-15 div.sk-text-repr-fallback {display: none;}</style><div id=\"sk-container-id-15\" class=\"sk-top-container\"><div class=\"sk-text-repr-fallback\"><pre>XGBClassifier(base_score=0.5, booster=&#x27;gbtree&#x27;, callbacks=None,\n",
       "              colsample_bylevel=1, colsample_bynode=1, colsample_bytree=1,\n",
       "              early_stopping_rounds=None, enable_categorical=False,\n",
       "              eval_metric=None, gamma=0, gpu_id=-1, grow_policy=&#x27;depthwise&#x27;,\n",
       "              importance_type=None, interaction_constraints=&#x27;&#x27;,\n",
       "              learning_rate=0.1, max_bin=256, max_cat_to_onehot=4,\n",
       "              max_delta_step=0, max_depth=10, max_leaves=0, min_child_weight=1,\n",
       "              missing=nan, monotone_constraints=&#x27;()&#x27;, n_estimators=100,\n",
       "              n_jobs=0, num_parallel_tree=1, predictor=&#x27;auto&#x27;, random_state=0,\n",
       "              reg_alpha=0, reg_lambda=1, ...)</pre><b>In a Jupyter environment, please rerun this cell to show the HTML representation or trust the notebook. <br />On GitHub, the HTML representation is unable to render, please try loading this page with nbviewer.org.</b></div><div class=\"sk-container\" hidden><div class=\"sk-item\"><div class=\"sk-estimator sk-toggleable\"><input class=\"sk-toggleable__control sk-hidden--visually\" id=\"sk-estimator-id-15\" type=\"checkbox\" checked><label for=\"sk-estimator-id-15\" class=\"sk-toggleable__label sk-toggleable__label-arrow\">XGBClassifier</label><div class=\"sk-toggleable__content\"><pre>XGBClassifier(base_score=0.5, booster=&#x27;gbtree&#x27;, callbacks=None,\n",
       "              colsample_bylevel=1, colsample_bynode=1, colsample_bytree=1,\n",
       "              early_stopping_rounds=None, enable_categorical=False,\n",
       "              eval_metric=None, gamma=0, gpu_id=-1, grow_policy=&#x27;depthwise&#x27;,\n",
       "              importance_type=None, interaction_constraints=&#x27;&#x27;,\n",
       "              learning_rate=0.1, max_bin=256, max_cat_to_onehot=4,\n",
       "              max_delta_step=0, max_depth=10, max_leaves=0, min_child_weight=1,\n",
       "              missing=nan, monotone_constraints=&#x27;()&#x27;, n_estimators=100,\n",
       "              n_jobs=0, num_parallel_tree=1, predictor=&#x27;auto&#x27;, random_state=0,\n",
       "              reg_alpha=0, reg_lambda=1, ...)</pre></div></div></div></div></div>"
      ],
      "text/plain": [
       "XGBClassifier(base_score=0.5, booster='gbtree', callbacks=None,\n",
       "              colsample_bylevel=1, colsample_bynode=1, colsample_bytree=1,\n",
       "              early_stopping_rounds=None, enable_categorical=False,\n",
       "              eval_metric=None, gamma=0, gpu_id=-1, grow_policy='depthwise',\n",
       "              importance_type=None, interaction_constraints='',\n",
       "              learning_rate=0.1, max_bin=256, max_cat_to_onehot=4,\n",
       "              max_delta_step=0, max_depth=10, max_leaves=0, min_child_weight=1,\n",
       "              missing=nan, monotone_constraints='()', n_estimators=100,\n",
       "              n_jobs=0, num_parallel_tree=1, predictor='auto', random_state=0,\n",
       "              reg_alpha=0, reg_lambda=1, ...)"
      ]
     },
     "execution_count": 107,
     "metadata": {},
     "output_type": "execute_result"
    }
   ],
   "source": [
    "xgb = XGBClassifier(n_estimators=100, learning_rate=0.1, max_depth=10, random_state=0)\n",
    "\n",
    "xgb.fit(X_train, y_train)"
   ]
  },
  {
   "cell_type": "code",
   "execution_count": 87,
   "id": "19ff8bd1",
   "metadata": {
    "ExecuteTime": {
     "end_time": "2022-07-20T01:02:23.431641Z",
     "start_time": "2022-07-20T01:02:23.318436Z"
    }
   },
   "outputs": [],
   "source": [
    "xgb_pred_train = xgb.predict(X_train)\n",
    "xgb_pred_test = xgb.predict(X_test)\n",
    "xgb_pred_val = xgb.predict(X_val)"
   ]
  },
  {
   "cell_type": "code",
   "execution_count": 82,
   "id": "ac1f8fec",
   "metadata": {
    "ExecuteTime": {
     "end_time": "2022-07-20T01:00:52.003036Z",
     "start_time": "2022-07-20T01:00:51.887290Z"
    },
    "collapsed": true
   },
   "outputs": [
    {
     "name": "stdout",
     "output_type": "stream",
     "text": [
      "==================================================\n",
      "XGB Train set에 대한 검증결과\n",
      "--------------------------------------------------\n",
      "정확도(Accuracy): 0.7776381157598611\n",
      "재현율/민감도(Recall): 0.7346705805609915\n",
      "정밀도(Precision): 0.6833004701956621\n",
      "F1 점수(F1 Score): 0.7080550098231828\n",
      "==================================================\n",
      "==================================================\n",
      "XGB Test set에 대한 검증결과\n",
      "--------------------------------------------------\n",
      "정확도(Accuracy): 0.7689200107729599\n",
      "재현율/민감도(Recall): 0.699000731172313\n",
      "정밀도(Precision): 0.6817209412883289\n",
      "F1 점수(F1 Score): 0.6902527075812275\n",
      "==================================================\n",
      "==================================================\n",
      "XGB Val set에 대한 검증결과\n",
      "--------------------------------------------------\n",
      "정확도(Accuracy): 0.758775473561361\n",
      "재현율/민감도(Recall): 0.7103718199608611\n",
      "정밀도(Precision): 0.6589516678012253\n",
      "F1 점수(F1 Score): 0.6836962919364332\n",
      "==================================================\n"
     ]
    }
   ],
   "source": [
    "#max_depth = 3\n",
    "print_classification_metrics(y_train, xgb_pred_train, \"XGB Train set에 대한 검증결과\")\n",
    "print_classification_metrics(y_test, xgb_pred_test, 'XGB Test set에 대한 검증결과')\n",
    "print_classification_metrics(y_val, xgb_pred_val, 'XGB Val set에 대한 검증결과')"
   ]
  },
  {
   "cell_type": "code",
   "execution_count": 85,
   "id": "8f9586f2",
   "metadata": {
    "ExecuteTime": {
     "end_time": "2022-07-20T01:01:41.133706Z",
     "start_time": "2022-07-20T01:01:41.029681Z"
    },
    "collapsed": true
   },
   "outputs": [
    {
     "name": "stdout",
     "output_type": "stream",
     "text": [
      "==================================================\n",
      "XGB Train set에 대한 검증결과\n",
      "--------------------------------------------------\n",
      "정확도(Accuracy): 0.7866463159154845\n",
      "재현율/민감도(Recall): 0.7420091324200914\n",
      "정밀도(Precision): 0.6965174129353234\n",
      "F1 점수(F1 Score): 0.7185439614670931\n",
      "==================================================\n",
      "==================================================\n",
      "XGB Test set에 대한 검증결과\n",
      "--------------------------------------------------\n",
      "정확도(Accuracy): 0.7743064907083221\n",
      "재현율/민감도(Recall): 0.6992444552766268\n",
      "정밀도(Precision): 0.6914919257652447\n",
      "F1 점수(F1 Score): 0.6953465826466312\n",
      "==================================================\n",
      "==================================================\n",
      "XGB Val set에 대한 검증결과\n",
      "--------------------------------------------------\n",
      "정확도(Accuracy): 0.7577879522398779\n",
      "재현율/민감도(Recall): 0.7069471624266145\n",
      "정밀도(Precision): 0.6583143507972665\n",
      "F1 점수(F1 Score): 0.6817645671148855\n",
      "==================================================\n"
     ]
    }
   ],
   "source": [
    "#max_depth = 3, n_estimators=500\n",
    "print_classification_metrics(y_train, xgb_pred_train, \"XGB Train set에 대한 검증결과\")\n",
    "print_classification_metrics(y_test, xgb_pred_test, 'XGB Test set에 대한 검증결과')\n",
    "print_classification_metrics(y_val, xgb_pred_val, 'XGB Val set에 대한 검증결과')"
   ]
  },
  {
   "cell_type": "markdown",
   "id": "e3260eb6",
   "metadata": {},
   "source": [
    "### Gtp, Triglyceride 컬럼 이상치 제거 후 XGB "
   ]
  },
  {
   "cell_type": "code",
   "execution_count": 41,
   "id": "e59be337",
   "metadata": {
    "ExecuteTime": {
     "end_time": "2022-07-21T01:11:00.427395Z",
     "start_time": "2022-07-21T01:11:00.235492Z"
    }
   },
   "outputs": [],
   "source": [
    "from xgboost import XGBClassifier"
   ]
  },
  {
   "cell_type": "code",
   "execution_count": 56,
   "id": "c966134a",
   "metadata": {
    "ExecuteTime": {
     "end_time": "2022-07-21T01:16:42.841040Z",
     "start_time": "2022-07-21T01:15:46.872058Z"
    }
   },
   "outputs": [
    {
     "data": {
      "text/html": [
       "<style>#sk-container-id-10 {color: black;background-color: white;}#sk-container-id-10 pre{padding: 0;}#sk-container-id-10 div.sk-toggleable {background-color: white;}#sk-container-id-10 label.sk-toggleable__label {cursor: pointer;display: block;width: 100%;margin-bottom: 0;padding: 0.3em;box-sizing: border-box;text-align: center;}#sk-container-id-10 label.sk-toggleable__label-arrow:before {content: \"▸\";float: left;margin-right: 0.25em;color: #696969;}#sk-container-id-10 label.sk-toggleable__label-arrow:hover:before {color: black;}#sk-container-id-10 div.sk-estimator:hover label.sk-toggleable__label-arrow:before {color: black;}#sk-container-id-10 div.sk-toggleable__content {max-height: 0;max-width: 0;overflow: hidden;text-align: left;background-color: #f0f8ff;}#sk-container-id-10 div.sk-toggleable__content pre {margin: 0.2em;color: black;border-radius: 0.25em;background-color: #f0f8ff;}#sk-container-id-10 input.sk-toggleable__control:checked~div.sk-toggleable__content {max-height: 200px;max-width: 100%;overflow: auto;}#sk-container-id-10 input.sk-toggleable__control:checked~label.sk-toggleable__label-arrow:before {content: \"▾\";}#sk-container-id-10 div.sk-estimator input.sk-toggleable__control:checked~label.sk-toggleable__label {background-color: #d4ebff;}#sk-container-id-10 div.sk-label input.sk-toggleable__control:checked~label.sk-toggleable__label {background-color: #d4ebff;}#sk-container-id-10 input.sk-hidden--visually {border: 0;clip: rect(1px 1px 1px 1px);clip: rect(1px, 1px, 1px, 1px);height: 1px;margin: -1px;overflow: hidden;padding: 0;position: absolute;width: 1px;}#sk-container-id-10 div.sk-estimator {font-family: monospace;background-color: #f0f8ff;border: 1px dotted black;border-radius: 0.25em;box-sizing: border-box;margin-bottom: 0.5em;}#sk-container-id-10 div.sk-estimator:hover {background-color: #d4ebff;}#sk-container-id-10 div.sk-parallel-item::after {content: \"\";width: 100%;border-bottom: 1px solid gray;flex-grow: 1;}#sk-container-id-10 div.sk-label:hover label.sk-toggleable__label {background-color: #d4ebff;}#sk-container-id-10 div.sk-serial::before {content: \"\";position: absolute;border-left: 1px solid gray;box-sizing: border-box;top: 0;bottom: 0;left: 50%;z-index: 0;}#sk-container-id-10 div.sk-serial {display: flex;flex-direction: column;align-items: center;background-color: white;padding-right: 0.2em;padding-left: 0.2em;position: relative;}#sk-container-id-10 div.sk-item {position: relative;z-index: 1;}#sk-container-id-10 div.sk-parallel {display: flex;align-items: stretch;justify-content: center;background-color: white;position: relative;}#sk-container-id-10 div.sk-item::before, #sk-container-id-10 div.sk-parallel-item::before {content: \"\";position: absolute;border-left: 1px solid gray;box-sizing: border-box;top: 0;bottom: 0;left: 50%;z-index: -1;}#sk-container-id-10 div.sk-parallel-item {display: flex;flex-direction: column;z-index: 1;position: relative;background-color: white;}#sk-container-id-10 div.sk-parallel-item:first-child::after {align-self: flex-end;width: 50%;}#sk-container-id-10 div.sk-parallel-item:last-child::after {align-self: flex-start;width: 50%;}#sk-container-id-10 div.sk-parallel-item:only-child::after {width: 0;}#sk-container-id-10 div.sk-dashed-wrapped {border: 1px dashed gray;margin: 0 0.4em 0.5em 0.4em;box-sizing: border-box;padding-bottom: 0.4em;background-color: white;}#sk-container-id-10 div.sk-label label {font-family: monospace;font-weight: bold;display: inline-block;line-height: 1.2em;}#sk-container-id-10 div.sk-label-container {text-align: center;}#sk-container-id-10 div.sk-container {/* jupyter's `normalize.less` sets `[hidden] { display: none; }` but bootstrap.min.css set `[hidden] { display: none !important; }` so we also need the `!important` here to be able to override the default hidden behavior on the sphinx rendered scikit-learn.org. See: https://github.com/scikit-learn/scikit-learn/issues/21755 */display: inline-block !important;position: relative;}#sk-container-id-10 div.sk-text-repr-fallback {display: none;}</style><div id=\"sk-container-id-10\" class=\"sk-top-container\"><div class=\"sk-text-repr-fallback\"><pre>XGBClassifier(base_score=0.5, booster=&#x27;gbtree&#x27;, callbacks=None,\n",
       "              colsample_bylevel=1, colsample_bynode=1, colsample_bytree=1,\n",
       "              early_stopping_rounds=None, enable_categorical=False,\n",
       "              eval_metric=None, gamma=0, gpu_id=-1, grow_policy=&#x27;depthwise&#x27;,\n",
       "              importance_type=None, interaction_constraints=&#x27;&#x27;,\n",
       "              learning_rate=0.01, max_bin=256, max_cat_to_onehot=4,\n",
       "              max_delta_step=0, max_depth=15, max_leaves=0, min_child_weight=1,\n",
       "              missing=nan, monotone_constraints=&#x27;()&#x27;, n_estimators=500,\n",
       "              n_jobs=0, num_parallel_tree=1, predictor=&#x27;auto&#x27;, random_state=0,\n",
       "              reg_alpha=0, reg_lambda=1, ...)</pre><b>In a Jupyter environment, please rerun this cell to show the HTML representation or trust the notebook. <br />On GitHub, the HTML representation is unable to render, please try loading this page with nbviewer.org.</b></div><div class=\"sk-container\" hidden><div class=\"sk-item\"><div class=\"sk-estimator sk-toggleable\"><input class=\"sk-toggleable__control sk-hidden--visually\" id=\"sk-estimator-id-10\" type=\"checkbox\" checked><label for=\"sk-estimator-id-10\" class=\"sk-toggleable__label sk-toggleable__label-arrow\">XGBClassifier</label><div class=\"sk-toggleable__content\"><pre>XGBClassifier(base_score=0.5, booster=&#x27;gbtree&#x27;, callbacks=None,\n",
       "              colsample_bylevel=1, colsample_bynode=1, colsample_bytree=1,\n",
       "              early_stopping_rounds=None, enable_categorical=False,\n",
       "              eval_metric=None, gamma=0, gpu_id=-1, grow_policy=&#x27;depthwise&#x27;,\n",
       "              importance_type=None, interaction_constraints=&#x27;&#x27;,\n",
       "              learning_rate=0.01, max_bin=256, max_cat_to_onehot=4,\n",
       "              max_delta_step=0, max_depth=15, max_leaves=0, min_child_weight=1,\n",
       "              missing=nan, monotone_constraints=&#x27;()&#x27;, n_estimators=500,\n",
       "              n_jobs=0, num_parallel_tree=1, predictor=&#x27;auto&#x27;, random_state=0,\n",
       "              reg_alpha=0, reg_lambda=1, ...)</pre></div></div></div></div></div>"
      ],
      "text/plain": [
       "XGBClassifier(base_score=0.5, booster='gbtree', callbacks=None,\n",
       "              colsample_bylevel=1, colsample_bynode=1, colsample_bytree=1,\n",
       "              early_stopping_rounds=None, enable_categorical=False,\n",
       "              eval_metric=None, gamma=0, gpu_id=-1, grow_policy='depthwise',\n",
       "              importance_type=None, interaction_constraints='',\n",
       "              learning_rate=0.01, max_bin=256, max_cat_to_onehot=4,\n",
       "              max_delta_step=0, max_depth=15, max_leaves=0, min_child_weight=1,\n",
       "              missing=nan, monotone_constraints='()', n_estimators=500,\n",
       "              n_jobs=0, num_parallel_tree=1, predictor='auto', random_state=0,\n",
       "              reg_alpha=0, reg_lambda=1, ...)"
      ]
     },
     "execution_count": 56,
     "metadata": {},
     "output_type": "execute_result"
    }
   ],
   "source": [
    "xgb = XGBClassifier(n_estimators=500, learning_rate=0.01, max_depth=15, random_state=0)\n",
    "\n",
    "xgb.fit(X_train, y_train)"
   ]
  },
  {
   "cell_type": "code",
   "execution_count": 57,
   "id": "d8698dd2",
   "metadata": {
    "ExecuteTime": {
     "end_time": "2022-07-21T01:16:47.897149Z",
     "start_time": "2022-07-21T01:16:45.073077Z"
    }
   },
   "outputs": [],
   "source": [
    "xgb_pred_train = xgb.predict(X_train)\n",
    "xgb_pred_test = xgb.predict(X_test)\n",
    "xgb_pred_val = xgb.predict(X_val)"
   ]
  },
  {
   "cell_type": "code",
   "execution_count": 237,
   "id": "1f9bc05f",
   "metadata": {
    "ExecuteTime": {
     "end_time": "2022-07-20T10:40:44.900883Z",
     "start_time": "2022-07-20T10:40:44.764216Z"
    },
    "collapsed": true
   },
   "outputs": [
    {
     "name": "stdout",
     "output_type": "stream",
     "text": [
      "==================================================\n",
      "XGB Train set에 대한 검증결과\n",
      "--------------------------------------------------\n",
      "정확도(Accuracy): 0.7890704495121805\n",
      "재현율/민감도(Recall): 0.7385029354207436\n",
      "정밀도(Precision): 0.7022018917661653\n",
      "F1 점수(F1 Score): 0.7198950798823622\n",
      "==================================================\n",
      "==================================================\n",
      "XGB Test set에 대한 검증결과\n",
      "--------------------------------------------------\n",
      "정확도(Accuracy): 0.774755364036269\n",
      "재현율/민감도(Recall): 0.6670728735071899\n",
      "정밀도(Precision): 0.7054123711340207\n",
      "F1 점수(F1 Score): 0.6857071276462483\n",
      "==================================================\n",
      "==================================================\n",
      "XGB Val set에 대한 검증결과\n",
      "--------------------------------------------------\n",
      "정확도(Accuracy): 0.7603016428763802\n",
      "재현율/민감도(Recall): 0.7040117416829745\n",
      "정밀도(Precision): 0.6634393729829414\n",
      "F1 점수(F1 Score): 0.6831236648469025\n",
      "==================================================\n"
     ]
    }
   ],
   "source": [
    "#max_depth = 3, learning_rate=0.5\n",
    "print_classification_metrics(y_train, xgb_pred_train, \"XGB Train set에 대한 검증결과\")\n",
    "print_classification_metrics(y_test, xgb_pred_test, 'XGB Test set에 대한 검증결과')\n",
    "print_classification_metrics(y_val, xgb_pred_val, 'XGB Val set에 대한 검증결과')"
   ]
  },
  {
   "cell_type": "code",
   "execution_count": 247,
   "id": "153a3059",
   "metadata": {
    "ExecuteTime": {
     "end_time": "2022-07-20T10:49:18.047616Z",
     "start_time": "2022-07-20T10:49:17.930930Z"
    },
    "collapsed": true
   },
   "outputs": [
    {
     "name": "stdout",
     "output_type": "stream",
     "text": [
      "==================================================\n",
      "XGB Train set에 대한 검증결과\n",
      "--------------------------------------------------\n",
      "정확도(Accuracy): 0.7698569461902197\n",
      "재현율/민감도(Recall): 0.7352413568166993\n",
      "정밀도(Precision): 0.6699108469539375\n",
      "F1 점수(F1 Score): 0.7010573783237443\n",
      "==================================================\n",
      "==================================================\n",
      "XGB Test set에 대한 검증결과\n",
      "--------------------------------------------------\n",
      "정확도(Accuracy): 0.7681120387826555\n",
      "재현율/민감도(Recall): 0.6880331464781867\n",
      "정밀도(Precision): 0.6841977702375182\n",
      "F1 점수(F1 Score): 0.6861100984323734\n",
      "==================================================\n",
      "==================================================\n",
      "XGB Val set에 대한 검증결과\n",
      "--------------------------------------------------\n",
      "정확도(Accuracy): 0.762905108178472\n",
      "재현율/민감도(Recall): 0.7316536203522505\n",
      "정밀도(Precision): 0.6595369349503859\n",
      "F1 점수(F1 Score): 0.6937260814101821\n",
      "==================================================\n"
     ]
    }
   ],
   "source": [
    "#max_depth = 3\n",
    "print_classification_metrics(y_train, xgb_pred_train, \"XGB Train set에 대한 검증결과\")\n",
    "print_classification_metrics(y_test, xgb_pred_test, 'XGB Test set에 대한 검증결과')\n",
    "print_classification_metrics(y_val, xgb_pred_val, 'XGB Val set에 대한 검증결과')"
   ]
  },
  {
   "cell_type": "code",
   "execution_count": 225,
   "id": "8c12b4ca",
   "metadata": {
    "ExecuteTime": {
     "end_time": "2022-07-20T10:37:47.333143Z",
     "start_time": "2022-07-20T10:37:47.205484Z"
    },
    "collapsed": true
   },
   "outputs": [
    {
     "name": "stdout",
     "output_type": "stream",
     "text": [
      "==================================================\n",
      "XGB Train set에 대한 검증결과\n",
      "--------------------------------------------------\n",
      "정확도(Accuracy): 0.8393787035374394\n",
      "재현율/민감도(Recall): 0.8125407697325505\n",
      "정밀도(Precision): 0.7645975600398988\n",
      "F1 점수(F1 Score): 0.7878404553899672\n",
      "==================================================\n",
      "==================================================\n",
      "XGB Test set에 대한 검증결과\n",
      "--------------------------------------------------\n",
      "정확도(Accuracy): 0.813986892898824\n",
      "재현율/민감도(Recall): 0.7348281745064587\n",
      "정밀도(Precision): 0.7539384846211553\n",
      "F1 점수(F1 Score): 0.7442606763762035\n",
      "==================================================\n",
      "==================================================\n",
      "XGB Val set에 대한 검증결과\n",
      "--------------------------------------------------\n",
      "정확도(Accuracy): 0.7633539815064189\n",
      "재현율/민감도(Recall): 0.7142857142857143\n",
      "정밀도(Precision): 0.6654512306289881\n",
      "F1 점수(F1 Score): 0.6890042472864559\n",
      "==================================================\n"
     ]
    }
   ],
   "source": [
    "#max_depth = 7\n",
    "print_classification_metrics(y_train, xgb_pred_train, \"XGB Train set에 대한 검증결과\")\n",
    "print_classification_metrics(y_test, xgb_pred_test, 'XGB Test set에 대한 검증결과')\n",
    "print_classification_metrics(y_val, xgb_pred_val, 'XGB Val set에 대한 검증결과')"
   ]
  },
  {
   "cell_type": "code",
   "execution_count": 222,
   "id": "b9557a32",
   "metadata": {
    "ExecuteTime": {
     "end_time": "2022-07-20T10:37:19.633417Z",
     "start_time": "2022-07-20T10:37:19.476829Z"
    },
    "collapsed": true
   },
   "outputs": [
    {
     "name": "stdout",
     "output_type": "stream",
     "text": [
      "==================================================\n",
      "XGB Train set에 대한 검증결과\n",
      "--------------------------------------------------\n",
      "정확도(Accuracy): 0.9325731729215299\n",
      "재현율/민감도(Recall): 0.9287345075016308\n",
      "정밀도(Precision): 0.8920040723627536\n",
      "F1 점수(F1 Score): 0.9099988015819118\n",
      "==================================================\n",
      "==================================================\n",
      "XGB Test set에 대한 검증결과\n",
      "--------------------------------------------------\n",
      "정확도(Accuracy): 0.8768291588113835\n",
      "재현율/민감도(Recall): 0.8281745064586887\n",
      "정밀도(Precision): 0.8359163591635916\n",
      "F1 점수(F1 Score): 0.8320274240940254\n",
      "==================================================\n",
      "==================================================\n",
      "XGB Val set에 대한 검증결과\n",
      "--------------------------------------------------\n",
      "정확도(Accuracy): 0.7550049376066074\n",
      "재현율/민감도(Recall): 0.6954500978473581\n",
      "정밀도(Precision): 0.6570372082274093\n",
      "F1 점수(F1 Score): 0.6756981580510993\n",
      "==================================================\n"
     ]
    }
   ],
   "source": [
    "#max_depth = 10\n",
    "print_classification_metrics(y_train, xgb_pred_train, \"XGB Train set에 대한 검증결과\")\n",
    "print_classification_metrics(y_test, xgb_pred_test, 'XGB Test set에 대한 검증결과')\n",
    "print_classification_metrics(y_val, xgb_pred_val, 'XGB Val set에 대한 검증결과')"
   ]
  },
  {
   "cell_type": "code",
   "execution_count": 228,
   "id": "7cee2843",
   "metadata": {
    "ExecuteTime": {
     "end_time": "2022-07-20T10:38:25.622938Z",
     "start_time": "2022-07-20T10:38:25.492010Z"
    },
    "collapsed": true
   },
   "outputs": [
    {
     "name": "stdout",
     "output_type": "stream",
     "text": [
      "==================================================\n",
      "XGB Train set에 대한 검증결과\n",
      "--------------------------------------------------\n",
      "정확도(Accuracy): 0.9996408690967857\n",
      "재현율/민감도(Recall): 0.9998369210697978\n",
      "정밀도(Precision): 0.9991851368970013\n",
      "F1 점수(F1 Score): 0.9995109227257907\n",
      "==================================================\n",
      "==================================================\n",
      "XGB Test set에 대한 검증결과\n",
      "--------------------------------------------------\n",
      "정확도(Accuracy): 0.9265643235478948\n",
      "재현율/민감도(Recall): 0.8964172556665855\n",
      "정밀도(Precision): 0.9034635224760501\n",
      "F1 점수(F1 Score): 0.899926596525569\n",
      "==================================================\n",
      "==================================================\n",
      "XGB Val set에 대한 검증결과\n",
      "--------------------------------------------------\n",
      "정확도(Accuracy): 0.747643415028279\n",
      "재현율/민감도(Recall): 0.6841976516634051\n",
      "정밀도(Precision): 0.6479036367848042\n",
      "F1 점수(F1 Score): 0.6655562165377751\n",
      "==================================================\n"
     ]
    }
   ],
   "source": [
    "#max_depth = 15\n",
    "print_classification_metrics(y_train, xgb_pred_train, \"XGB Train set에 대한 검증결과\")\n",
    "print_classification_metrics(y_test, xgb_pred_test, 'XGB Test set에 대한 검증결과')\n",
    "print_classification_metrics(y_val, xgb_pred_val, 'XGB Val set에 대한 검증결과')"
   ]
  },
  {
   "cell_type": "code",
   "execution_count": 45,
   "id": "063bcf09",
   "metadata": {
    "ExecuteTime": {
     "end_time": "2022-07-21T01:11:52.480663Z",
     "start_time": "2022-07-21T01:11:52.323078Z"
    },
    "collapsed": true
   },
   "outputs": [
    {
     "name": "stdout",
     "output_type": "stream",
     "text": [
      "==================================================\n",
      "XGB Train set에 대한 검증결과\n",
      "--------------------------------------------------\n",
      "정확도(Accuracy): 0.7739927491620494\n",
      "재현율/민감도(Recall): 0.7415029332340068\n",
      "정밀도(Precision): 0.6751165748198389\n",
      "F1 점수(F1 Score): 0.7067542380402946\n",
      "==================================================\n",
      "==================================================\n",
      "XGB Test set에 대한 검증결과\n",
      "--------------------------------------------------\n",
      "정확도(Accuracy): 0.7623357035121741\n",
      "재현율/민감도(Recall): 0.7258506061791161\n",
      "정밀도(Precision): 0.6606157679302367\n",
      "F1 점수(F1 Score): 0.6916984999534147\n",
      "==================================================\n",
      "==================================================\n",
      "XGB Val set에 대한 검증결과\n",
      "--------------------------------------------------\n",
      "정확도(Accuracy): 0.7625887798260315\n",
      "재현율/민감도(Recall): 0.7299000434593655\n",
      "정밀도(Precision): 0.6597917894323315\n",
      "F1 점수(F1 Score): 0.693077478592799\n",
      "==================================================\n"
     ]
    }
   ],
   "source": [
    "#max_depth = 3 , 다른 데이터 분리\n",
    "print_classification_metrics(y_train, xgb_pred_train, \"XGB Train set에 대한 검증결과\")\n",
    "print_classification_metrics(y_test, xgb_pred_test, 'XGB Test set에 대한 검증결과')\n",
    "print_classification_metrics(y_val, xgb_pred_val, 'XGB Val set에 대한 검증결과')"
   ]
  },
  {
   "cell_type": "code",
   "execution_count": 48,
   "id": "c003262c",
   "metadata": {
    "ExecuteTime": {
     "end_time": "2022-07-21T01:12:33.919404Z",
     "start_time": "2022-07-21T01:12:33.765100Z"
    },
    "collapsed": true
   },
   "outputs": [
    {
     "name": "stdout",
     "output_type": "stream",
     "text": [
      "==================================================\n",
      "XGB Train set에 대한 검증결과\n",
      "--------------------------------------------------\n",
      "정확도(Accuracy): 0.9998973938025857\n",
      "재현율/민감도(Recall): 0.9999068814600987\n",
      "정밀도(Precision): 0.9998137802607077\n",
      "F1 점수(F1 Score): 0.9998603286931421\n",
      "==================================================\n",
      "==================================================\n",
      "XGB Test set에 대한 검증결과\n",
      "--------------------------------------------------\n",
      "정확도(Accuracy): 0.7982475041298571\n",
      "재현율/민감도(Recall): 0.7430582714118107\n",
      "정밀도(Precision): 0.7176581680830972\n",
      "F1 점수(F1 Score): 0.7301373811124988\n",
      "==================================================\n",
      "==================================================\n",
      "XGB Val set에 대한 검증결과\n",
      "--------------------------------------------------\n",
      "정확도(Accuracy): 0.7995371478732742\n",
      "재현율/민감도(Recall): 0.7507605388961321\n",
      "정밀도(Precision): 0.716804979253112\n",
      "F1 점수(F1 Score): 0.7333899384419443\n",
      "==================================================\n"
     ]
    }
   ],
   "source": [
    "#max_depth = 15 , 다른 데이터 분리\n",
    "print_classification_metrics(y_train, xgb_pred_train, \"XGB Train set에 대한 검증결과\")\n",
    "print_classification_metrics(y_test, xgb_pred_test, 'XGB Test set에 대한 검증결과')\n",
    "print_classification_metrics(y_val, xgb_pred_val, 'XGB Val set에 대한 검증결과')"
   ]
  },
  {
   "cell_type": "code",
   "execution_count": 55,
   "id": "d9d3f9d0",
   "metadata": {
    "ExecuteTime": {
     "end_time": "2022-07-21T01:15:17.177386Z",
     "start_time": "2022-07-21T01:15:17.027509Z"
    }
   },
   "outputs": [
    {
     "name": "stdout",
     "output_type": "stream",
     "text": [
      "==================================================\n",
      "XGB Train set에 대한 검증결과\n",
      "--------------------------------------------------\n",
      "정확도(Accuracy): 1.0\n",
      "재현율/민감도(Recall): 1.0\n",
      "정밀도(Precision): 1.0\n",
      "F1 점수(F1 Score): 1.0\n",
      "==================================================\n",
      "==================================================\n",
      "XGB Test set에 대한 검증결과\n",
      "--------------------------------------------------\n",
      "정확도(Accuracy): 0.8004740357681535\n",
      "재현율/민감도(Recall): 0.748337895971842\n",
      "정밀도(Precision): 0.7196314403911245\n",
      "F1 점수(F1 Score): 0.7337039877300614\n",
      "==================================================\n",
      "==================================================\n",
      "XGB Val set에 대한 검증결과\n",
      "--------------------------------------------------\n",
      "정확도(Accuracy): 0.800734179235496\n",
      "재현율/민감도(Recall): 0.7538026944806606\n",
      "정밀도(Precision): 0.7177736395613491\n",
      "F1 점수(F1 Score): 0.7353471118177001\n",
      "==================================================\n"
     ]
    }
   ],
   "source": [
    "#max_depth = 15 , 다른 데이터 분리, n_estimators=500, learning_rate=0.05\n",
    "print_classification_metrics(y_train, xgb_pred_train, \"XGB Train set에 대한 검증결과\")\n",
    "print_classification_metrics(y_test, xgb_pred_test, 'XGB Test set에 대한 검증결과')\n",
    "print_classification_metrics(y_val, xgb_pred_val, 'XGB Val set에 대한 검증결과')"
   ]
  },
  {
   "cell_type": "markdown",
   "id": "21e56943",
   "metadata": {},
   "source": [
    "### Scaled XGB"
   ]
  },
  {
   "cell_type": "code",
   "execution_count": 114,
   "id": "08e57942",
   "metadata": {
    "ExecuteTime": {
     "end_time": "2022-07-19T11:55:44.167263Z",
     "start_time": "2022-07-19T11:55:44.109676Z"
    }
   },
   "outputs": [],
   "source": [
    "from sklearn.preprocessing import StandardScaler\n",
    "s_scaler = StandardScaler()\n",
    "X_train_scaled1 = s_scaler.fit_transform(X_train)\n",
    "X_val_scaled1 = s_scaler.transform(X_val)\n",
    "X_test_scaled1 = s_scaler.transform(X_test)"
   ]
  },
  {
   "cell_type": "code",
   "execution_count": 121,
   "id": "9baf70da",
   "metadata": {
    "ExecuteTime": {
     "end_time": "2022-07-19T11:58:08.639198Z",
     "start_time": "2022-07-19T11:57:41.701421Z"
    },
    "collapsed": true
   },
   "outputs": [
    {
     "data": {
      "text/html": [
       "<style>#sk-container-id-29 {color: black;background-color: white;}#sk-container-id-29 pre{padding: 0;}#sk-container-id-29 div.sk-toggleable {background-color: white;}#sk-container-id-29 label.sk-toggleable__label {cursor: pointer;display: block;width: 100%;margin-bottom: 0;padding: 0.3em;box-sizing: border-box;text-align: center;}#sk-container-id-29 label.sk-toggleable__label-arrow:before {content: \"▸\";float: left;margin-right: 0.25em;color: #696969;}#sk-container-id-29 label.sk-toggleable__label-arrow:hover:before {color: black;}#sk-container-id-29 div.sk-estimator:hover label.sk-toggleable__label-arrow:before {color: black;}#sk-container-id-29 div.sk-toggleable__content {max-height: 0;max-width: 0;overflow: hidden;text-align: left;background-color: #f0f8ff;}#sk-container-id-29 div.sk-toggleable__content pre {margin: 0.2em;color: black;border-radius: 0.25em;background-color: #f0f8ff;}#sk-container-id-29 input.sk-toggleable__control:checked~div.sk-toggleable__content {max-height: 200px;max-width: 100%;overflow: auto;}#sk-container-id-29 input.sk-toggleable__control:checked~label.sk-toggleable__label-arrow:before {content: \"▾\";}#sk-container-id-29 div.sk-estimator input.sk-toggleable__control:checked~label.sk-toggleable__label {background-color: #d4ebff;}#sk-container-id-29 div.sk-label input.sk-toggleable__control:checked~label.sk-toggleable__label {background-color: #d4ebff;}#sk-container-id-29 input.sk-hidden--visually {border: 0;clip: rect(1px 1px 1px 1px);clip: rect(1px, 1px, 1px, 1px);height: 1px;margin: -1px;overflow: hidden;padding: 0;position: absolute;width: 1px;}#sk-container-id-29 div.sk-estimator {font-family: monospace;background-color: #f0f8ff;border: 1px dotted black;border-radius: 0.25em;box-sizing: border-box;margin-bottom: 0.5em;}#sk-container-id-29 div.sk-estimator:hover {background-color: #d4ebff;}#sk-container-id-29 div.sk-parallel-item::after {content: \"\";width: 100%;border-bottom: 1px solid gray;flex-grow: 1;}#sk-container-id-29 div.sk-label:hover label.sk-toggleable__label {background-color: #d4ebff;}#sk-container-id-29 div.sk-serial::before {content: \"\";position: absolute;border-left: 1px solid gray;box-sizing: border-box;top: 0;bottom: 0;left: 50%;z-index: 0;}#sk-container-id-29 div.sk-serial {display: flex;flex-direction: column;align-items: center;background-color: white;padding-right: 0.2em;padding-left: 0.2em;position: relative;}#sk-container-id-29 div.sk-item {position: relative;z-index: 1;}#sk-container-id-29 div.sk-parallel {display: flex;align-items: stretch;justify-content: center;background-color: white;position: relative;}#sk-container-id-29 div.sk-item::before, #sk-container-id-29 div.sk-parallel-item::before {content: \"\";position: absolute;border-left: 1px solid gray;box-sizing: border-box;top: 0;bottom: 0;left: 50%;z-index: -1;}#sk-container-id-29 div.sk-parallel-item {display: flex;flex-direction: column;z-index: 1;position: relative;background-color: white;}#sk-container-id-29 div.sk-parallel-item:first-child::after {align-self: flex-end;width: 50%;}#sk-container-id-29 div.sk-parallel-item:last-child::after {align-self: flex-start;width: 50%;}#sk-container-id-29 div.sk-parallel-item:only-child::after {width: 0;}#sk-container-id-29 div.sk-dashed-wrapped {border: 1px dashed gray;margin: 0 0.4em 0.5em 0.4em;box-sizing: border-box;padding-bottom: 0.4em;background-color: white;}#sk-container-id-29 div.sk-label label {font-family: monospace;font-weight: bold;display: inline-block;line-height: 1.2em;}#sk-container-id-29 div.sk-label-container {text-align: center;}#sk-container-id-29 div.sk-container {/* jupyter's `normalize.less` sets `[hidden] { display: none; }` but bootstrap.min.css set `[hidden] { display: none !important; }` so we also need the `!important` here to be able to override the default hidden behavior on the sphinx rendered scikit-learn.org. See: https://github.com/scikit-learn/scikit-learn/issues/21755 */display: inline-block !important;position: relative;}#sk-container-id-29 div.sk-text-repr-fallback {display: none;}</style><div id=\"sk-container-id-29\" class=\"sk-top-container\"><div class=\"sk-text-repr-fallback\"><pre>XGBClassifier(base_score=0.5, booster=&#x27;gbtree&#x27;, callbacks=None,\n",
       "              colsample_bylevel=1, colsample_bynode=1, colsample_bytree=1,\n",
       "              early_stopping_rounds=None, enable_categorical=False,\n",
       "              eval_metric=None, gamma=0, gpu_id=-1, grow_policy=&#x27;depthwise&#x27;,\n",
       "              importance_type=None, interaction_constraints=&#x27;&#x27;,\n",
       "              learning_rate=0.1, max_bin=256, max_cat_to_onehot=4,\n",
       "              max_delta_step=0, max_depth=15, max_leaves=0, min_child_weight=1,\n",
       "              missing=nan, monotone_constraints=&#x27;()&#x27;, n_estimators=300,\n",
       "              n_jobs=0, num_parallel_tree=1, predictor=&#x27;auto&#x27;, random_state=0,\n",
       "              reg_alpha=0, reg_lambda=1, ...)</pre><b>In a Jupyter environment, please rerun this cell to show the HTML representation or trust the notebook. <br />On GitHub, the HTML representation is unable to render, please try loading this page with nbviewer.org.</b></div><div class=\"sk-container\" hidden><div class=\"sk-item\"><div class=\"sk-estimator sk-toggleable\"><input class=\"sk-toggleable__control sk-hidden--visually\" id=\"sk-estimator-id-29\" type=\"checkbox\" checked><label for=\"sk-estimator-id-29\" class=\"sk-toggleable__label sk-toggleable__label-arrow\">XGBClassifier</label><div class=\"sk-toggleable__content\"><pre>XGBClassifier(base_score=0.5, booster=&#x27;gbtree&#x27;, callbacks=None,\n",
       "              colsample_bylevel=1, colsample_bynode=1, colsample_bytree=1,\n",
       "              early_stopping_rounds=None, enable_categorical=False,\n",
       "              eval_metric=None, gamma=0, gpu_id=-1, grow_policy=&#x27;depthwise&#x27;,\n",
       "              importance_type=None, interaction_constraints=&#x27;&#x27;,\n",
       "              learning_rate=0.1, max_bin=256, max_cat_to_onehot=4,\n",
       "              max_delta_step=0, max_depth=15, max_leaves=0, min_child_weight=1,\n",
       "              missing=nan, monotone_constraints=&#x27;()&#x27;, n_estimators=300,\n",
       "              n_jobs=0, num_parallel_tree=1, predictor=&#x27;auto&#x27;, random_state=0,\n",
       "              reg_alpha=0, reg_lambda=1, ...)</pre></div></div></div></div></div>"
      ],
      "text/plain": [
       "XGBClassifier(base_score=0.5, booster='gbtree', callbacks=None,\n",
       "              colsample_bylevel=1, colsample_bynode=1, colsample_bytree=1,\n",
       "              early_stopping_rounds=None, enable_categorical=False,\n",
       "              eval_metric=None, gamma=0, gpu_id=-1, grow_policy='depthwise',\n",
       "              importance_type=None, interaction_constraints='',\n",
       "              learning_rate=0.1, max_bin=256, max_cat_to_onehot=4,\n",
       "              max_delta_step=0, max_depth=15, max_leaves=0, min_child_weight=1,\n",
       "              missing=nan, monotone_constraints='()', n_estimators=300,\n",
       "              n_jobs=0, num_parallel_tree=1, predictor='auto', random_state=0,\n",
       "              reg_alpha=0, reg_lambda=1, ...)"
      ]
     },
     "execution_count": 121,
     "metadata": {},
     "output_type": "execute_result"
    }
   ],
   "source": [
    "xgb = XGBClassifier(n_estimators=300, learning_rate=0.1, max_depth=15, random_state=0)\n",
    "\n",
    "xgb.fit(X_train_scaled1, y_train)"
   ]
  },
  {
   "cell_type": "code",
   "execution_count": 122,
   "id": "3e939549",
   "metadata": {
    "ExecuteTime": {
     "end_time": "2022-07-19T11:58:12.815839Z",
     "start_time": "2022-07-19T11:58:11.717220Z"
    }
   },
   "outputs": [],
   "source": [
    "s_xgb_pred_train = xgb.predict(X_train_scaled1)\n",
    "s_xgb_pred_test = xgb.predict(X_test_scaled1)\n",
    "s_xgb_pred_val = xgb.predict(X_val_scaled1)"
   ]
  },
  {
   "cell_type": "code",
   "execution_count": 117,
   "id": "a562b304",
   "metadata": {
    "ExecuteTime": {
     "end_time": "2022-07-19T11:56:53.832077Z",
     "start_time": "2022-07-19T11:56:53.733344Z"
    },
    "collapsed": true
   },
   "outputs": [
    {
     "name": "stdout",
     "output_type": "stream",
     "text": [
      "==================================================\n",
      "Scaled XGB Train set에 대한 검증결과\n",
      "--------------------------------------------------\n",
      "정확도(Accuracy): 0.7851798647273598\n",
      "재현율/민감도(Recall): 0.7429876060013046\n",
      "정밀도(Precision): 0.69356066372355\n",
      "F1 점수(F1 Score): 0.7174238248956776\n",
      "==================================================\n",
      "==================================================\n",
      "Scaled XGB Test set에 대한 검증결과\n",
      "--------------------------------------------------\n",
      "정확도(Accuracy): 0.7763713080168776\n",
      "재현율/민감도(Recall): 0.7058250060931026\n",
      "정밀도(Precision): 0.692822966507177\n",
      "F1 점수(F1 Score): 0.6992635518531932\n",
      "==================================================\n",
      "==================================================\n",
      "Scaled XGB Val set에 대한 검증결과\n",
      "--------------------------------------------------\n",
      "정확도(Accuracy): 0.7635335308375977\n",
      "재현율/민감도(Recall): 0.7186888454011742\n",
      "정밀도(Precision): 0.6644052464947987\n",
      "F1 점수(F1 Score): 0.69048178613396\n",
      "==================================================\n"
     ]
    }
   ],
   "source": [
    "#max_depth = 3\n",
    "print_classification_metrics(y_train, s_xgb_pred_train, \"Scaled XGB Train set에 대한 검증결과\")\n",
    "print_classification_metrics(y_test, s_xgb_pred_test, 'Scaled XGB Test set에 대한 검증결과')\n",
    "print_classification_metrics(y_val, s_xgb_pred_val, 'Scaled XGB Val set에 대한 검증결과')"
   ]
  },
  {
   "cell_type": "code",
   "execution_count": 120,
   "id": "c0f8ab41",
   "metadata": {
    "ExecuteTime": {
     "end_time": "2022-07-19T11:57:34.606715Z",
     "start_time": "2022-07-19T11:57:34.509759Z"
    },
    "collapsed": true
   },
   "outputs": [
    {
     "name": "stdout",
     "output_type": "stream",
     "text": [
      "==================================================\n",
      "Scaled XGB Train set에 대한 검증결과\n",
      "--------------------------------------------------\n",
      "정확도(Accuracy): 0.9047405279224278\n",
      "재현율/민감도(Recall): 0.8858447488584474\n",
      "정밀도(Precision): 0.8590179489206926\n",
      "F1 점수(F1 Score): 0.8722251214322989\n",
      "==================================================\n",
      "==================================================\n",
      "Scaled XGB Test set에 대한 검증결과\n",
      "--------------------------------------------------\n",
      "정확도(Accuracy): 0.8610288176676542\n",
      "재현율/민감도(Recall): 0.806726785279064\n",
      "정밀도(Precision): 0.8142681426814268\n",
      "F1 점수(F1 Score): 0.8104799216454456\n",
      "==================================================\n",
      "==================================================\n",
      "Scaled XGB Val set에 대한 검증결과\n",
      "--------------------------------------------------\n",
      "정확도(Accuracy): 0.7586856988957716\n",
      "재현율/민감도(Recall): 0.7015655577299413\n",
      "정밀도(Precision): 0.6614391143911439\n",
      "F1 점수(F1 Score): 0.680911680911681\n",
      "==================================================\n"
     ]
    }
   ],
   "source": [
    "#max_depth = 7\n",
    "print_classification_metrics(y_train, s_xgb_pred_train, \"Scaled XGB Train set에 대한 검증결과\")\n",
    "print_classification_metrics(y_test, s_xgb_pred_test, 'Scaled XGB Test set에 대한 검증결과')\n",
    "print_classification_metrics(y_val, s_xgb_pred_val, 'Scaled XGB Val set에 대한 검증결과')"
   ]
  },
  {
   "cell_type": "code",
   "execution_count": 123,
   "id": "9677b006",
   "metadata": {
    "ExecuteTime": {
     "end_time": "2022-07-19T11:58:15.856157Z",
     "start_time": "2022-07-19T11:58:15.757286Z"
    },
    "collapsed": true
   },
   "outputs": [
    {
     "name": "stdout",
     "output_type": "stream",
     "text": [
      "==================================================\n",
      "Scaled XGB Train set에 대한 검증결과\n",
      "--------------------------------------------------\n",
      "정확도(Accuracy): 1.0\n",
      "재현율/민감도(Recall): 1.0\n",
      "정밀도(Precision): 1.0\n",
      "F1 점수(F1 Score): 1.0\n",
      "==================================================\n",
      "==================================================\n",
      "Scaled XGB Test set에 대한 검증결과\n",
      "--------------------------------------------------\n",
      "정확도(Accuracy): 0.9308735074961846\n",
      "재현율/민감도(Recall): 0.9059224957348282\n",
      "정밀도(Precision): 0.9063643013899049\n",
      "F1 점수(F1 Score): 0.9061433447098977\n",
      "==================================================\n",
      "==================================================\n",
      "Scaled XGB Val set에 대한 검증결과\n",
      "--------------------------------------------------\n",
      "정확도(Accuracy): 0.7512344016518538\n",
      "재현율/민감도(Recall): 0.6866438356164384\n",
      "정밀도(Precision): 0.6532464510123341\n",
      "F1 점수(F1 Score): 0.6695289206917114\n",
      "==================================================\n"
     ]
    }
   ],
   "source": [
    "#max_depth = 15\n",
    "print_classification_metrics(y_train, s_xgb_pred_train, \"Scaled XGB Train set에 대한 검증결과\")\n",
    "print_classification_metrics(y_test, s_xgb_pred_test, 'Scaled XGB Test set에 대한 검증결과')\n",
    "print_classification_metrics(y_val, s_xgb_pred_val, 'Scaled XGB Val set에 대한 검증결과')"
   ]
  },
  {
   "cell_type": "markdown",
   "id": "4c3b2898",
   "metadata": {},
   "source": [
    "## Voting"
   ]
  },
  {
   "cell_type": "code",
   "execution_count": 126,
   "id": "fd682a10",
   "metadata": {
    "ExecuteTime": {
     "end_time": "2022-07-19T12:06:50.177204Z",
     "start_time": "2022-07-19T12:06:50.156261Z"
    }
   },
   "outputs": [],
   "source": [
    "from sklearn.ensemble import VotingClassifier\n",
    "from sklearn.svm import SVC\n",
    "from sklearn.neighbors import KNeighborsClassifier\n",
    "from sklearn.ensemble import VotingClassifier\n",
    "from sklearn.linear_model import LogisticRegression\n",
    "from xgboost import XGBClassifier"
   ]
  },
  {
   "cell_type": "code",
   "execution_count": 128,
   "id": "2b8665be",
   "metadata": {
    "ExecuteTime": {
     "end_time": "2022-07-19T12:07:50.226912Z",
     "start_time": "2022-07-19T12:07:50.211290Z"
    }
   },
   "outputs": [],
   "source": [
    "svc = SVC(random_state=0, probability=True) \n",
    "knn = KNeighborsClassifier(n_neighbors=5)\n",
    "rf = RandomForestClassifier(n_estimators=200, max_depth=15, random_state=0)\n",
    "lr = LogisticRegression(max_iter=1000, random_state=0)\n",
    "xgb = XGBClassifier(max_depth=2, random_state=0)"
   ]
  },
  {
   "cell_type": "code",
   "execution_count": 129,
   "id": "49e9c5ad",
   "metadata": {
    "ExecuteTime": {
     "end_time": "2022-07-19T12:07:51.804120Z",
     "start_time": "2022-07-19T12:07:51.796141Z"
    }
   },
   "outputs": [],
   "source": [
    "estimators = [\n",
    "    ('knn', knn),\n",
    "    ('xgb', xgb), \n",
    "    ('random forest', rf), \n",
    "    ('svc', svc)\n",
    "]"
   ]
  },
  {
   "cell_type": "code",
   "execution_count": 130,
   "id": "99a0f836",
   "metadata": {
    "ExecuteTime": {
     "end_time": "2022-07-19T12:17:27.346505Z",
     "start_time": "2022-07-19T12:08:02.476270Z"
    }
   },
   "outputs": [
    {
     "name": "stderr",
     "output_type": "stream",
     "text": [
      "C:\\Users\\Playdata\\anaconda3\\envs\\tf\\lib\\site-packages\\sklearn\\preprocessing\\_label.py:98: DataConversionWarning: A column-vector y was passed when a 1d array was expected. Please change the shape of y to (n_samples, ), for example using ravel().\n",
      "  y = column_or_1d(y, warn=True)\n",
      "C:\\Users\\Playdata\\anaconda3\\envs\\tf\\lib\\site-packages\\sklearn\\preprocessing\\_label.py:133: DataConversionWarning: A column-vector y was passed when a 1d array was expected. Please change the shape of y to (n_samples, ), for example using ravel().\n",
      "  y = column_or_1d(y, warn=True)\n"
     ]
    },
    {
     "data": {
      "text/html": [
       "<style>#sk-container-id-30 {color: black;background-color: white;}#sk-container-id-30 pre{padding: 0;}#sk-container-id-30 div.sk-toggleable {background-color: white;}#sk-container-id-30 label.sk-toggleable__label {cursor: pointer;display: block;width: 100%;margin-bottom: 0;padding: 0.3em;box-sizing: border-box;text-align: center;}#sk-container-id-30 label.sk-toggleable__label-arrow:before {content: \"▸\";float: left;margin-right: 0.25em;color: #696969;}#sk-container-id-30 label.sk-toggleable__label-arrow:hover:before {color: black;}#sk-container-id-30 div.sk-estimator:hover label.sk-toggleable__label-arrow:before {color: black;}#sk-container-id-30 div.sk-toggleable__content {max-height: 0;max-width: 0;overflow: hidden;text-align: left;background-color: #f0f8ff;}#sk-container-id-30 div.sk-toggleable__content pre {margin: 0.2em;color: black;border-radius: 0.25em;background-color: #f0f8ff;}#sk-container-id-30 input.sk-toggleable__control:checked~div.sk-toggleable__content {max-height: 200px;max-width: 100%;overflow: auto;}#sk-container-id-30 input.sk-toggleable__control:checked~label.sk-toggleable__label-arrow:before {content: \"▾\";}#sk-container-id-30 div.sk-estimator input.sk-toggleable__control:checked~label.sk-toggleable__label {background-color: #d4ebff;}#sk-container-id-30 div.sk-label input.sk-toggleable__control:checked~label.sk-toggleable__label {background-color: #d4ebff;}#sk-container-id-30 input.sk-hidden--visually {border: 0;clip: rect(1px 1px 1px 1px);clip: rect(1px, 1px, 1px, 1px);height: 1px;margin: -1px;overflow: hidden;padding: 0;position: absolute;width: 1px;}#sk-container-id-30 div.sk-estimator {font-family: monospace;background-color: #f0f8ff;border: 1px dotted black;border-radius: 0.25em;box-sizing: border-box;margin-bottom: 0.5em;}#sk-container-id-30 div.sk-estimator:hover {background-color: #d4ebff;}#sk-container-id-30 div.sk-parallel-item::after {content: \"\";width: 100%;border-bottom: 1px solid gray;flex-grow: 1;}#sk-container-id-30 div.sk-label:hover label.sk-toggleable__label {background-color: #d4ebff;}#sk-container-id-30 div.sk-serial::before {content: \"\";position: absolute;border-left: 1px solid gray;box-sizing: border-box;top: 0;bottom: 0;left: 50%;z-index: 0;}#sk-container-id-30 div.sk-serial {display: flex;flex-direction: column;align-items: center;background-color: white;padding-right: 0.2em;padding-left: 0.2em;position: relative;}#sk-container-id-30 div.sk-item {position: relative;z-index: 1;}#sk-container-id-30 div.sk-parallel {display: flex;align-items: stretch;justify-content: center;background-color: white;position: relative;}#sk-container-id-30 div.sk-item::before, #sk-container-id-30 div.sk-parallel-item::before {content: \"\";position: absolute;border-left: 1px solid gray;box-sizing: border-box;top: 0;bottom: 0;left: 50%;z-index: -1;}#sk-container-id-30 div.sk-parallel-item {display: flex;flex-direction: column;z-index: 1;position: relative;background-color: white;}#sk-container-id-30 div.sk-parallel-item:first-child::after {align-self: flex-end;width: 50%;}#sk-container-id-30 div.sk-parallel-item:last-child::after {align-self: flex-start;width: 50%;}#sk-container-id-30 div.sk-parallel-item:only-child::after {width: 0;}#sk-container-id-30 div.sk-dashed-wrapped {border: 1px dashed gray;margin: 0 0.4em 0.5em 0.4em;box-sizing: border-box;padding-bottom: 0.4em;background-color: white;}#sk-container-id-30 div.sk-label label {font-family: monospace;font-weight: bold;display: inline-block;line-height: 1.2em;}#sk-container-id-30 div.sk-label-container {text-align: center;}#sk-container-id-30 div.sk-container {/* jupyter's `normalize.less` sets `[hidden] { display: none; }` but bootstrap.min.css set `[hidden] { display: none !important; }` so we also need the `!important` here to be able to override the default hidden behavior on the sphinx rendered scikit-learn.org. See: https://github.com/scikit-learn/scikit-learn/issues/21755 */display: inline-block !important;position: relative;}#sk-container-id-30 div.sk-text-repr-fallback {display: none;}</style><div id=\"sk-container-id-30\" class=\"sk-top-container\"><div class=\"sk-text-repr-fallback\"><pre>VotingClassifier(estimators=[(&#x27;knn&#x27;, KNeighborsClassifier()),\n",
       "                             (&#x27;xgb&#x27;,\n",
       "                              XGBClassifier(base_score=None, booster=None,\n",
       "                                            callbacks=None,\n",
       "                                            colsample_bylevel=None,\n",
       "                                            colsample_bynode=None,\n",
       "                                            colsample_bytree=None,\n",
       "                                            early_stopping_rounds=None,\n",
       "                                            enable_categorical=False,\n",
       "                                            eval_metric=None, gamma=None,\n",
       "                                            gpu_id=None, grow_policy=None,\n",
       "                                            importance_type=None,\n",
       "                                            interaction_constraints=None...\n",
       "                                            max_delta_step=None, max_depth=2,\n",
       "                                            max_leaves=None,\n",
       "                                            min_child_weight=None, missing=nan,\n",
       "                                            monotone_constraints=None,\n",
       "                                            n_estimators=100, n_jobs=None,\n",
       "                                            num_parallel_tree=None,\n",
       "                                            predictor=None, random_state=0,\n",
       "                                            reg_alpha=None, reg_lambda=None, ...)),\n",
       "                             (&#x27;random forest&#x27;,\n",
       "                              RandomForestClassifier(max_depth=15,\n",
       "                                                     n_estimators=200,\n",
       "                                                     random_state=0)),\n",
       "                             (&#x27;svc&#x27;, SVC(probability=True, random_state=0))],\n",
       "                 voting=&#x27;soft&#x27;)</pre><b>In a Jupyter environment, please rerun this cell to show the HTML representation or trust the notebook. <br />On GitHub, the HTML representation is unable to render, please try loading this page with nbviewer.org.</b></div><div class=\"sk-container\" hidden><div class=\"sk-item sk-dashed-wrapped\"><div class=\"sk-label-container\"><div class=\"sk-label sk-toggleable\"><input class=\"sk-toggleable__control sk-hidden--visually\" id=\"sk-estimator-id-30\" type=\"checkbox\" ><label for=\"sk-estimator-id-30\" class=\"sk-toggleable__label sk-toggleable__label-arrow\">VotingClassifier</label><div class=\"sk-toggleable__content\"><pre>VotingClassifier(estimators=[(&#x27;knn&#x27;, KNeighborsClassifier()),\n",
       "                             (&#x27;xgb&#x27;,\n",
       "                              XGBClassifier(base_score=None, booster=None,\n",
       "                                            callbacks=None,\n",
       "                                            colsample_bylevel=None,\n",
       "                                            colsample_bynode=None,\n",
       "                                            colsample_bytree=None,\n",
       "                                            early_stopping_rounds=None,\n",
       "                                            enable_categorical=False,\n",
       "                                            eval_metric=None, gamma=None,\n",
       "                                            gpu_id=None, grow_policy=None,\n",
       "                                            importance_type=None,\n",
       "                                            interaction_constraints=None...\n",
       "                                            max_delta_step=None, max_depth=2,\n",
       "                                            max_leaves=None,\n",
       "                                            min_child_weight=None, missing=nan,\n",
       "                                            monotone_constraints=None,\n",
       "                                            n_estimators=100, n_jobs=None,\n",
       "                                            num_parallel_tree=None,\n",
       "                                            predictor=None, random_state=0,\n",
       "                                            reg_alpha=None, reg_lambda=None, ...)),\n",
       "                             (&#x27;random forest&#x27;,\n",
       "                              RandomForestClassifier(max_depth=15,\n",
       "                                                     n_estimators=200,\n",
       "                                                     random_state=0)),\n",
       "                             (&#x27;svc&#x27;, SVC(probability=True, random_state=0))],\n",
       "                 voting=&#x27;soft&#x27;)</pre></div></div></div><div class=\"sk-parallel\"><div class=\"sk-parallel-item\"><div class=\"sk-item\"><div class=\"sk-label-container\"><div class=\"sk-label sk-toggleable\"><label>knn</label></div></div><div class=\"sk-serial\"><div class=\"sk-item\"><div class=\"sk-estimator sk-toggleable\"><input class=\"sk-toggleable__control sk-hidden--visually\" id=\"sk-estimator-id-31\" type=\"checkbox\" ><label for=\"sk-estimator-id-31\" class=\"sk-toggleable__label sk-toggleable__label-arrow\">KNeighborsClassifier</label><div class=\"sk-toggleable__content\"><pre>KNeighborsClassifier()</pre></div></div></div></div></div></div><div class=\"sk-parallel-item\"><div class=\"sk-item\"><div class=\"sk-label-container\"><div class=\"sk-label sk-toggleable\"><label>xgb</label></div></div><div class=\"sk-serial\"><div class=\"sk-item\"><div class=\"sk-estimator sk-toggleable\"><input class=\"sk-toggleable__control sk-hidden--visually\" id=\"sk-estimator-id-32\" type=\"checkbox\" ><label for=\"sk-estimator-id-32\" class=\"sk-toggleable__label sk-toggleable__label-arrow\">XGBClassifier</label><div class=\"sk-toggleable__content\"><pre>XGBClassifier(base_score=None, booster=None, callbacks=None,\n",
       "              colsample_bylevel=None, colsample_bynode=None,\n",
       "              colsample_bytree=None, early_stopping_rounds=None,\n",
       "              enable_categorical=False, eval_metric=None, gamma=None,\n",
       "              gpu_id=None, grow_policy=None, importance_type=None,\n",
       "              interaction_constraints=None, learning_rate=None, max_bin=None,\n",
       "              max_cat_to_onehot=None, max_delta_step=None, max_depth=2,\n",
       "              max_leaves=None, min_child_weight=None, missing=nan,\n",
       "              monotone_constraints=None, n_estimators=100, n_jobs=None,\n",
       "              num_parallel_tree=None, predictor=None, random_state=0,\n",
       "              reg_alpha=None, reg_lambda=None, ...)</pre></div></div></div></div></div></div><div class=\"sk-parallel-item\"><div class=\"sk-item\"><div class=\"sk-label-container\"><div class=\"sk-label sk-toggleable\"><label>random forest</label></div></div><div class=\"sk-serial\"><div class=\"sk-item\"><div class=\"sk-estimator sk-toggleable\"><input class=\"sk-toggleable__control sk-hidden--visually\" id=\"sk-estimator-id-33\" type=\"checkbox\" ><label for=\"sk-estimator-id-33\" class=\"sk-toggleable__label sk-toggleable__label-arrow\">RandomForestClassifier</label><div class=\"sk-toggleable__content\"><pre>RandomForestClassifier(max_depth=15, n_estimators=200, random_state=0)</pre></div></div></div></div></div></div><div class=\"sk-parallel-item\"><div class=\"sk-item\"><div class=\"sk-label-container\"><div class=\"sk-label sk-toggleable\"><label>svc</label></div></div><div class=\"sk-serial\"><div class=\"sk-item\"><div class=\"sk-estimator sk-toggleable\"><input class=\"sk-toggleable__control sk-hidden--visually\" id=\"sk-estimator-id-34\" type=\"checkbox\" ><label for=\"sk-estimator-id-34\" class=\"sk-toggleable__label sk-toggleable__label-arrow\">SVC</label><div class=\"sk-toggleable__content\"><pre>SVC(probability=True, random_state=0)</pre></div></div></div></div></div></div></div></div></div></div>"
      ],
      "text/plain": [
       "VotingClassifier(estimators=[('knn', KNeighborsClassifier()),\n",
       "                             ('xgb',\n",
       "                              XGBClassifier(base_score=None, booster=None,\n",
       "                                            callbacks=None,\n",
       "                                            colsample_bylevel=None,\n",
       "                                            colsample_bynode=None,\n",
       "                                            colsample_bytree=None,\n",
       "                                            early_stopping_rounds=None,\n",
       "                                            enable_categorical=False,\n",
       "                                            eval_metric=None, gamma=None,\n",
       "                                            gpu_id=None, grow_policy=None,\n",
       "                                            importance_type=None,\n",
       "                                            interaction_constraints=None...\n",
       "                                            max_delta_step=None, max_depth=2,\n",
       "                                            max_leaves=None,\n",
       "                                            min_child_weight=None, missing=nan,\n",
       "                                            monotone_constraints=None,\n",
       "                                            n_estimators=100, n_jobs=None,\n",
       "                                            num_parallel_tree=None,\n",
       "                                            predictor=None, random_state=0,\n",
       "                                            reg_alpha=None, reg_lambda=None, ...)),\n",
       "                             ('random forest',\n",
       "                              RandomForestClassifier(max_depth=15,\n",
       "                                                     n_estimators=200,\n",
       "                                                     random_state=0)),\n",
       "                             ('svc', SVC(probability=True, random_state=0))],\n",
       "                 voting='soft')"
      ]
     },
     "execution_count": 130,
     "metadata": {},
     "output_type": "execute_result"
    }
   ],
   "source": [
    "voting = VotingClassifier(estimators, voting='soft')  \n",
    "voting.fit(X_train_scaled1, y_train)"
   ]
  },
  {
   "cell_type": "code",
   "execution_count": 132,
   "id": "909f3814",
   "metadata": {
    "ExecuteTime": {
     "end_time": "2022-07-19T12:20:45.185963Z",
     "start_time": "2022-07-19T12:18:18.369385Z"
    }
   },
   "outputs": [],
   "source": [
    "vt_pred_train = voting.predict(X_train_scaled1)\n",
    "vt_pred_test = voting.predict(X_test_scaled1)\n",
    "vt_pred_val = voting.predict(X_val_scaled1)"
   ]
  },
  {
   "cell_type": "code",
   "execution_count": 133,
   "id": "5b0eabd3",
   "metadata": {
    "ExecuteTime": {
     "end_time": "2022-07-19T12:20:55.279744Z",
     "start_time": "2022-07-19T12:20:55.179225Z"
    }
   },
   "outputs": [
    {
     "name": "stdout",
     "output_type": "stream",
     "text": [
      "==================================================\n",
      "Soft Voting Train set에 대한 검증결과\n",
      "--------------------------------------------------\n",
      "정확도(Accuracy): 0.8407553719997606\n",
      "재현율/민감도(Recall): 0.8011252446183953\n",
      "정밀도(Precision): 0.7731958762886598\n",
      "F1 점수(F1 Score): 0.7869128188698891\n",
      "==================================================\n",
      "==================================================\n",
      "Soft Voting Test set에 대한 검증결과\n",
      "--------------------------------------------------\n",
      "정확도(Accuracy): 0.8203608941556693\n",
      "재현율/민감도(Recall): 0.7704118937362905\n",
      "정밀도(Precision): 0.7490521327014218\n",
      "F1 점수(F1 Score): 0.759581881533101\n",
      "==================================================\n",
      "==================================================\n",
      "Soft Voting Val set에 대한 검증결과\n",
      "--------------------------------------------------\n",
      "정확도(Accuracy): 0.7569799802495736\n",
      "재현율/민감도(Recall): 0.6976516634050881\n",
      "정밀도(Precision): 0.6597270414064307\n",
      "F1 점수(F1 Score): 0.6781595529663537\n",
      "==================================================\n"
     ]
    }
   ],
   "source": [
    "print_classification_metrics(y_train, vt_pred_train, \"Soft Voting Train set에 대한 검증결과\")\n",
    "print_classification_metrics(y_test, vt_pred_test, 'Soft Voting Test set에 대한 검증결과')\n",
    "print_classification_metrics(y_val, vt_pred_val, 'Soft Voting Val set에 대한 검증결과')"
   ]
  },
  {
   "cell_type": "code",
   "execution_count": null,
   "id": "a2753bdb",
   "metadata": {},
   "outputs": [],
   "source": []
  },
  {
   "cell_type": "markdown",
   "id": "9885155d",
   "metadata": {},
   "source": [
    "## 여러가지"
   ]
  },
  {
   "cell_type": "code",
   "execution_count": 134,
   "id": "e859d1dd",
   "metadata": {
    "ExecuteTime": {
     "end_time": "2022-07-19T12:32:16.650574Z",
     "start_time": "2022-07-19T12:21:04.627821Z"
    },
    "scrolled": true
   },
   "outputs": [
    {
     "name": "stderr",
     "output_type": "stream",
     "text": [
      "C:\\Users\\Playdata\\anaconda3\\envs\\tf\\lib\\site-packages\\sklearn\\utils\\validation.py:1111: DataConversionWarning: A column-vector y was passed when a 1d array was expected. Please change the shape of y to (n_samples, ), for example using ravel().\n",
      "  y = column_or_1d(y, warn=True)\n",
      "C:\\Users\\Playdata\\anaconda3\\envs\\tf\\lib\\site-packages\\sklearn\\neighbors\\_classification.py:200: DataConversionWarning: A column-vector y was passed when a 1d array was expected. Please change the shape of y to (n_samples,), for example using ravel().\n",
      "  return self._fit(X, y)\n",
      "C:\\Users\\Playdata\\AppData\\Local\\Temp\\ipykernel_7284\\1907882799.py:10: DataConversionWarning: A column-vector y was passed when a 1d array was expected. Please change the shape of y to (n_samples,), for example using ravel().\n",
      "  rf.fit(X_train, y_train)\n",
      "C:\\Users\\Playdata\\anaconda3\\envs\\tf\\lib\\site-packages\\sklearn\\utils\\validation.py:1111: DataConversionWarning: A column-vector y was passed when a 1d array was expected. Please change the shape of y to (n_samples, ), for example using ravel().\n",
      "  y = column_or_1d(y, warn=True)\n"
     ]
    }
   ],
   "source": [
    "svc = SVC(random_state=0, probability=True) \n",
    "knn = KNeighborsClassifier(n_neighbors=5)\n",
    "rf = RandomForestClassifier(n_estimators=200, max_depth=5, random_state=0)\n",
    "lr = LogisticRegression(max_iter=1000, random_state=0)\n",
    "xgb = XGBClassifier(max_depth=2, random_state=0)\n",
    "\n",
    "# 각 모델들을 학습\n",
    "svc.fit(X_train_scaled1, y_train) # Feature Scaling 된 X_train\n",
    "knn.fit(X_train_scaled1, y_train) # Feature Scaling 된 X_train\n",
    "rf.fit(X_train, y_train)\n",
    "lr.fit(X_train_scaled1, y_train) # Feature Scaling 된 X_train\n",
    "xgb.fit(X_train, y_train)\n",
    "\n",
    "# 추론\n",
    "pred_train_svc = svc.predict(X_train_scaled1)\n",
    "pred_train_knn = knn.predict(X_train_scaled1)\n",
    "pred_train_rf = rf.predict(X_train)\n",
    "pred_train_lr = lr.predict(X_train_scaled1)\n",
    "pred_train_xgb = xgb.predict(X_train)\n",
    "\n",
    "pred_test_svc = svc.predict(X_test_scaled1)\n",
    "pred_test_knn = knn.predict(X_test_scaled1)\n",
    "pred_test_rf = rf.predict(X_test)\n",
    "pred_test_lr = lr.predict(X_test_scaled1)\n",
    "pred_test_xgb = xgb.predict(X_test)\n",
    "\n",
    "pred_val_svc = svc.predict(X_val_scaled1)\n",
    "pred_val_knn = knn.predict(X_val_scaled1)\n",
    "pred_val_rf = rf.predict(X_val)\n",
    "pred_val_lr = lr.predict(X_val_scaled1)\n",
    "pred_val_xgb = xgb.predict(X_val)"
   ]
  },
  {
   "cell_type": "code",
   "execution_count": 144,
   "id": "76f3bd4f",
   "metadata": {
    "ExecuteTime": {
     "end_time": "2022-07-19T13:40:50.073133Z",
     "start_time": "2022-07-19T13:40:49.868169Z"
    },
    "collapsed": true
   },
   "outputs": [
    {
     "name": "stdout",
     "output_type": "stream",
     "text": [
      "==================================================\n",
      "svc Train set\n",
      "--------------------------------------------------\n",
      "정확도(Accuracy): 0.7838331238403065\n",
      "재현율/민감도(Recall): 0.7675309849967384\n",
      "정밀도(Precision): 0.6828436706565107\n",
      "F1 점수(F1 Score): 0.7227148834888096\n",
      "==================================================\n",
      "==================================================\n",
      "knn Train set\n",
      "--------------------------------------------------\n",
      "정확도(Accuracy): 0.811575986113605\n",
      "재현율/민감도(Recall): 0.7516307893020222\n",
      "정밀도(Precision): 0.7393326916907282\n",
      "F1 점수(F1 Score): 0.745431020540191\n",
      "==================================================\n",
      "==================================================\n",
      "rf Train set\n",
      "--------------------------------------------------\n",
      "정확도(Accuracy): 0.7454659723469205\n",
      "재현율/민감도(Recall): 0.6970808871493803\n",
      "정밀도(Precision): 0.6409026163880351\n",
      "F1 점수(F1 Score): 0.6678123657383901\n",
      "==================================================\n",
      "==================================================\n",
      "lr Train set\n",
      "--------------------------------------------------\n",
      "정확도(Accuracy): 0.7486981504758484\n",
      "재현율/민감도(Recall): 0.7001793868232224\n",
      "정밀도(Precision): 0.6452994664462313\n",
      "F1 점수(F1 Score): 0.6716201947518674\n",
      "==================================================\n",
      "==================================================\n",
      "xgb Train set\n",
      "--------------------------------------------------\n",
      "정확도(Accuracy): 0.7719818040342371\n",
      "재현율/민감도(Recall): 0.728310502283105\n",
      "정밀도(Precision): 0.6756940767077692\n",
      "F1 점수(F1 Score): 0.7010163638504101\n",
      "==================================================\n"
     ]
    }
   ],
   "source": [
    "print_classification_metrics(y_train, pred_train_svc, 'svc Train set')\n",
    "print_classification_metrics(y_train, pred_train_knn, 'knn Train set')\n",
    "print_classification_metrics(y_train, pred_train_rf, 'rf Train set')\n",
    "print_classification_metrics(y_train, pred_train_lr, 'lr Train set')\n",
    "print_classification_metrics(y_train, pred_train_xgb, 'xgb Train set')"
   ]
  },
  {
   "cell_type": "code",
   "execution_count": 145,
   "id": "f4f39647",
   "metadata": {
    "ExecuteTime": {
     "end_time": "2022-07-19T13:41:15.896207Z",
     "start_time": "2022-07-19T13:41:15.795886Z"
    },
    "collapsed": true
   },
   "outputs": [
    {
     "name": "stdout",
     "output_type": "stream",
     "text": [
      "==================================================\n",
      "svc Test set\n",
      "--------------------------------------------------\n",
      "정확도(Accuracy): 0.7733189693868391\n",
      "재현율/민감도(Recall): 0.7553009992688277\n",
      "정밀도(Precision): 0.6707792207792208\n",
      "F1 점수(F1 Score): 0.7105353662730712\n",
      "==================================================\n",
      "==================================================\n",
      "knn Test set\n",
      "--------------------------------------------------\n",
      "정확도(Accuracy): 0.7910943531735344\n",
      "재현율/민감도(Recall): 0.7214233487691932\n",
      "정밀도(Precision): 0.7142857142857143\n",
      "F1 점수(F1 Score): 0.7178367891354431\n",
      "==================================================\n",
      "==================================================\n",
      "rf Test set\n",
      "--------------------------------------------------\n",
      "정확도(Accuracy): 0.7463865697100278\n",
      "재현율/민감도(Recall): 0.689982939312698\n",
      "정밀도(Precision): 0.645757299270073\n",
      "F1 점수(F1 Score): 0.6671379757275834\n",
      "==================================================\n",
      "==================================================\n",
      "lr Test set\n",
      "--------------------------------------------------\n",
      "정확도(Accuracy): 0.7490798096777089\n",
      "재현율/민감도(Recall): 0.6938825249817206\n",
      "정밀도(Precision): 0.6491108071135431\n",
      "F1 점수(F1 Score): 0.6707503828483921\n",
      "==================================================\n",
      "==================================================\n",
      "xgb Test set\n",
      "--------------------------------------------------\n",
      "정확도(Accuracy): 0.7671245174611725\n",
      "재현율/민감도(Recall): 0.6975383865464294\n",
      "정밀도(Precision): 0.6790035587188612\n",
      "F1 점수(F1 Score): 0.6881461889877375\n",
      "==================================================\n"
     ]
    }
   ],
   "source": [
    "print_classification_metrics(y_test, pred_test_svc, 'svc Test set')\n",
    "print_classification_metrics(y_test, pred_test_knn, 'knn Test set')\n",
    "print_classification_metrics(y_test, pred_test_rf, 'rf Test set')\n",
    "print_classification_metrics(y_test, pred_test_lr, 'lr Test set')\n",
    "print_classification_metrics(y_test, pred_test_xgb, 'xgb Test set')"
   ]
  },
  {
   "cell_type": "code",
   "execution_count": 146,
   "id": "486ea970",
   "metadata": {
    "ExecuteTime": {
     "end_time": "2022-07-19T13:41:18.281152Z",
     "start_time": "2022-07-19T13:41:18.171883Z"
    }
   },
   "outputs": [
    {
     "name": "stdout",
     "output_type": "stream",
     "text": [
      "==================================================\n",
      "svc Val set\n",
      "--------------------------------------------------\n",
      "정확도(Accuracy): 0.7544662896130712\n",
      "재현율/민감도(Recall): 0.7348336594911937\n",
      "정밀도(Precision): 0.645327604726101\n",
      "F1 점수(F1 Score): 0.6871783140798352\n",
      "==================================================\n",
      "==================================================\n",
      "knn Val set\n",
      "--------------------------------------------------\n",
      "정확도(Accuracy): 0.7137983661010863\n",
      "재현율/민감도(Recall): 0.6218199608610567\n",
      "정밀도(Precision): 0.6075525812619503\n",
      "F1 점수(F1 Score): 0.6146034816247583\n",
      "==================================================\n",
      "==================================================\n",
      "rf Val set\n",
      "--------------------------------------------------\n",
      "정확도(Accuracy): 0.7426160337552743\n",
      "재현율/민감도(Recall): 0.6954500978473581\n",
      "정밀도(Precision): 0.6367301231802912\n",
      "F1 점수(F1 Score): 0.6647959780194085\n",
      "==================================================\n",
      "==================================================\n",
      "lr Val set\n",
      "--------------------------------------------------\n",
      "정확도(Accuracy): 0.7480922883562259\n",
      "재현율/민감도(Recall): 0.7037671232876712\n",
      "정밀도(Precision): 0.6433363148479427\n",
      "F1 점수(F1 Score): 0.672196261682243\n",
      "==================================================\n",
      "==================================================\n",
      "xgb Val set\n",
      "--------------------------------------------------\n",
      "정확도(Accuracy): 0.7634437561720082\n",
      "재현율/민감도(Recall): 0.7152641878669276\n",
      "정밀도(Precision): 0.6653014789533561\n",
      "F1 점수(F1 Score): 0.6893787575150301\n",
      "==================================================\n"
     ]
    }
   ],
   "source": [
    "print_classification_metrics(y_val, pred_val_svc, 'svc Val set')\n",
    "print_classification_metrics(y_val, pred_val_knn, 'knn Val set')\n",
    "print_classification_metrics(y_val, pred_val_rf, 'rf Val set')\n",
    "print_classification_metrics(y_val, pred_val_lr, 'lr Val set')\n",
    "print_classification_metrics(y_val, pred_val_xgb, 'xgb Val set')"
   ]
  },
  {
   "cell_type": "markdown",
   "id": "5e2ef165",
   "metadata": {},
   "source": [
    "## Pipeline 통해 처리"
   ]
  },
  {
   "cell_type": "code",
   "execution_count": null,
   "id": "0d23bae1",
   "metadata": {},
   "outputs": [],
   "source": [
    "from sklearn.pipeline import Pipeline\n",
    "from sklearn.pipeline import make_pipeline\n",
    "from xgboost import XGBClassifier\n",
    "from sklearn.ensemble import RandomForestClassifier \n",
    "from sklearn.metrics import accuracy_score, roc_auc_score, recall_score, f1_score, precision_score\n",
    "from metrics import print_classification_metrics"
   ]
  },
  {
   "cell_type": "markdown",
   "id": "97518266",
   "metadata": {},
   "source": [
    "## Grid Search Random Forest"
   ]
  },
  {
   "cell_type": "code",
   "execution_count": 28,
   "id": "7c1d5949",
   "metadata": {
    "ExecuteTime": {
     "end_time": "2022-07-21T00:55:22.752607Z",
     "start_time": "2022-07-21T00:55:22.416991Z"
    }
   },
   "outputs": [],
   "source": [
    "from sklearn.ensemble import RandomForestClassifier\n",
    "from sklearn.model_selection import train_test_split, GridSearchCV, RandomizedSearchCV\n",
    "from sklearn.metrics import accuracy_score, recall_score\n",
    "from metrics import  print_classification_metrics"
   ]
  },
  {
   "cell_type": "code",
   "execution_count": 249,
   "id": "f1262b6f",
   "metadata": {
    "ExecuteTime": {
     "end_time": "2022-07-20T10:58:05.508287Z",
     "start_time": "2022-07-20T10:58:05.491332Z"
    }
   },
   "outputs": [],
   "source": [
    "params = {\n",
    "    \"n_estimators\":range(100,701,100), # 100 ~ 1000 100\n",
    "    'max_depth':range(1,31) \n",
    "} # 나머지 하이퍼 파라미터는 default\n",
    "\n",
    "rf_grid_search = GridSearchCV(RandomForestClassifier(random_state=0), #모델\n",
    "                           param_grid=params, #하이퍼 파라미터\n",
    "                           scoring='accuracy', #평가지표\n",
    "                           cv=5,               # cross validation 의 fold 개수\n",
    "                           n_jobs=8)"
   ]
  },
  {
   "cell_type": "code",
   "execution_count": 252,
   "id": "27e569e0",
   "metadata": {
    "ExecuteTime": {
     "end_time": "2022-07-20T13:09:08.946174Z",
     "start_time": "2022-07-20T11:11:52.667123Z"
    }
   },
   "outputs": [
    {
     "name": "stderr",
     "output_type": "stream",
     "text": [
      "C:\\Users\\Playdata\\anaconda3\\envs\\tf\\lib\\site-packages\\sklearn\\model_selection\\_search.py:910: DataConversionWarning: A column-vector y was passed when a 1d array was expected. Please change the shape of y to (n_samples,), for example using ravel().\n",
      "  self.best_estimator_.fit(X, y, **fit_params)\n"
     ]
    },
    {
     "data": {
      "text/html": [
       "<style>#sk-container-id-44 {color: black;background-color: white;}#sk-container-id-44 pre{padding: 0;}#sk-container-id-44 div.sk-toggleable {background-color: white;}#sk-container-id-44 label.sk-toggleable__label {cursor: pointer;display: block;width: 100%;margin-bottom: 0;padding: 0.3em;box-sizing: border-box;text-align: center;}#sk-container-id-44 label.sk-toggleable__label-arrow:before {content: \"▸\";float: left;margin-right: 0.25em;color: #696969;}#sk-container-id-44 label.sk-toggleable__label-arrow:hover:before {color: black;}#sk-container-id-44 div.sk-estimator:hover label.sk-toggleable__label-arrow:before {color: black;}#sk-container-id-44 div.sk-toggleable__content {max-height: 0;max-width: 0;overflow: hidden;text-align: left;background-color: #f0f8ff;}#sk-container-id-44 div.sk-toggleable__content pre {margin: 0.2em;color: black;border-radius: 0.25em;background-color: #f0f8ff;}#sk-container-id-44 input.sk-toggleable__control:checked~div.sk-toggleable__content {max-height: 200px;max-width: 100%;overflow: auto;}#sk-container-id-44 input.sk-toggleable__control:checked~label.sk-toggleable__label-arrow:before {content: \"▾\";}#sk-container-id-44 div.sk-estimator input.sk-toggleable__control:checked~label.sk-toggleable__label {background-color: #d4ebff;}#sk-container-id-44 div.sk-label input.sk-toggleable__control:checked~label.sk-toggleable__label {background-color: #d4ebff;}#sk-container-id-44 input.sk-hidden--visually {border: 0;clip: rect(1px 1px 1px 1px);clip: rect(1px, 1px, 1px, 1px);height: 1px;margin: -1px;overflow: hidden;padding: 0;position: absolute;width: 1px;}#sk-container-id-44 div.sk-estimator {font-family: monospace;background-color: #f0f8ff;border: 1px dotted black;border-radius: 0.25em;box-sizing: border-box;margin-bottom: 0.5em;}#sk-container-id-44 div.sk-estimator:hover {background-color: #d4ebff;}#sk-container-id-44 div.sk-parallel-item::after {content: \"\";width: 100%;border-bottom: 1px solid gray;flex-grow: 1;}#sk-container-id-44 div.sk-label:hover label.sk-toggleable__label {background-color: #d4ebff;}#sk-container-id-44 div.sk-serial::before {content: \"\";position: absolute;border-left: 1px solid gray;box-sizing: border-box;top: 0;bottom: 0;left: 50%;z-index: 0;}#sk-container-id-44 div.sk-serial {display: flex;flex-direction: column;align-items: center;background-color: white;padding-right: 0.2em;padding-left: 0.2em;position: relative;}#sk-container-id-44 div.sk-item {position: relative;z-index: 1;}#sk-container-id-44 div.sk-parallel {display: flex;align-items: stretch;justify-content: center;background-color: white;position: relative;}#sk-container-id-44 div.sk-item::before, #sk-container-id-44 div.sk-parallel-item::before {content: \"\";position: absolute;border-left: 1px solid gray;box-sizing: border-box;top: 0;bottom: 0;left: 50%;z-index: -1;}#sk-container-id-44 div.sk-parallel-item {display: flex;flex-direction: column;z-index: 1;position: relative;background-color: white;}#sk-container-id-44 div.sk-parallel-item:first-child::after {align-self: flex-end;width: 50%;}#sk-container-id-44 div.sk-parallel-item:last-child::after {align-self: flex-start;width: 50%;}#sk-container-id-44 div.sk-parallel-item:only-child::after {width: 0;}#sk-container-id-44 div.sk-dashed-wrapped {border: 1px dashed gray;margin: 0 0.4em 0.5em 0.4em;box-sizing: border-box;padding-bottom: 0.4em;background-color: white;}#sk-container-id-44 div.sk-label label {font-family: monospace;font-weight: bold;display: inline-block;line-height: 1.2em;}#sk-container-id-44 div.sk-label-container {text-align: center;}#sk-container-id-44 div.sk-container {/* jupyter's `normalize.less` sets `[hidden] { display: none; }` but bootstrap.min.css set `[hidden] { display: none !important; }` so we also need the `!important` here to be able to override the default hidden behavior on the sphinx rendered scikit-learn.org. See: https://github.com/scikit-learn/scikit-learn/issues/21755 */display: inline-block !important;position: relative;}#sk-container-id-44 div.sk-text-repr-fallback {display: none;}</style><div id=\"sk-container-id-44\" class=\"sk-top-container\"><div class=\"sk-text-repr-fallback\"><pre>GridSearchCV(cv=5, estimator=RandomForestClassifier(random_state=0), n_jobs=8,\n",
       "             param_grid={&#x27;max_depth&#x27;: range(1, 31),\n",
       "                         &#x27;n_estimators&#x27;: range(100, 701, 100)},\n",
       "             scoring=&#x27;accuracy&#x27;)</pre><b>In a Jupyter environment, please rerun this cell to show the HTML representation or trust the notebook. <br />On GitHub, the HTML representation is unable to render, please try loading this page with nbviewer.org.</b></div><div class=\"sk-container\" hidden><div class=\"sk-item sk-dashed-wrapped\"><div class=\"sk-label-container\"><div class=\"sk-label sk-toggleable\"><input class=\"sk-toggleable__control sk-hidden--visually\" id=\"sk-estimator-id-44\" type=\"checkbox\" ><label for=\"sk-estimator-id-44\" class=\"sk-toggleable__label sk-toggleable__label-arrow\">GridSearchCV</label><div class=\"sk-toggleable__content\"><pre>GridSearchCV(cv=5, estimator=RandomForestClassifier(random_state=0), n_jobs=8,\n",
       "             param_grid={&#x27;max_depth&#x27;: range(1, 31),\n",
       "                         &#x27;n_estimators&#x27;: range(100, 701, 100)},\n",
       "             scoring=&#x27;accuracy&#x27;)</pre></div></div></div><div class=\"sk-parallel\"><div class=\"sk-parallel-item\"><div class=\"sk-item\"><div class=\"sk-label-container\"><div class=\"sk-label sk-toggleable\"><input class=\"sk-toggleable__control sk-hidden--visually\" id=\"sk-estimator-id-45\" type=\"checkbox\" ><label for=\"sk-estimator-id-45\" class=\"sk-toggleable__label sk-toggleable__label-arrow\">estimator: RandomForestClassifier</label><div class=\"sk-toggleable__content\"><pre>RandomForestClassifier(random_state=0)</pre></div></div></div><div class=\"sk-serial\"><div class=\"sk-item\"><div class=\"sk-estimator sk-toggleable\"><input class=\"sk-toggleable__control sk-hidden--visually\" id=\"sk-estimator-id-46\" type=\"checkbox\" ><label for=\"sk-estimator-id-46\" class=\"sk-toggleable__label sk-toggleable__label-arrow\">RandomForestClassifier</label><div class=\"sk-toggleable__content\"><pre>RandomForestClassifier(random_state=0)</pre></div></div></div></div></div></div></div></div></div></div>"
      ],
      "text/plain": [
       "GridSearchCV(cv=5, estimator=RandomForestClassifier(random_state=0), n_jobs=8,\n",
       "             param_grid={'max_depth': range(1, 31),\n",
       "                         'n_estimators': range(100, 701, 100)},\n",
       "             scoring='accuracy')"
      ]
     },
     "execution_count": 252,
     "metadata": {},
     "output_type": "execute_result"
    }
   ],
   "source": [
    "rf_grid_search.fit(X_train, y_train)"
   ]
  },
  {
   "cell_type": "code",
   "execution_count": 253,
   "id": "195946ff",
   "metadata": {
    "ExecuteTime": {
     "end_time": "2022-07-20T13:21:16.133876Z",
     "start_time": "2022-07-20T13:21:04.783078Z"
    }
   },
   "outputs": [],
   "source": [
    "rf_grid_pred_train = rf_grid_search.predict(X_train)\n",
    "rf_grid_pred_test = rf_grid_search.predict(X_test)\n",
    "rf_grid_pred_val = rf_grid_search.predict(X_val)"
   ]
  },
  {
   "cell_type": "code",
   "execution_count": 255,
   "id": "77d42e26",
   "metadata": {
    "ExecuteTime": {
     "end_time": "2022-07-20T13:21:34.630521Z",
     "start_time": "2022-07-20T13:21:34.621541Z"
    }
   },
   "outputs": [
    {
     "data": {
      "text/plain": [
       "{'max_depth': 27, 'n_estimators': 600}"
      ]
     },
     "execution_count": 255,
     "metadata": {},
     "output_type": "execute_result"
    }
   ],
   "source": [
    "rf_grid_search.best_params_"
   ]
  },
  {
   "cell_type": "code",
   "execution_count": 254,
   "id": "ccf4b3ff",
   "metadata": {
    "ExecuteTime": {
     "end_time": "2022-07-20T13:21:19.892426Z",
     "start_time": "2022-07-20T13:21:19.774739Z"
    },
    "collapsed": true
   },
   "outputs": [
    {
     "name": "stdout",
     "output_type": "stream",
     "text": [
      "==================================================\n",
      "RF_Train set에 대한 검증결과\n",
      "--------------------------------------------------\n",
      "정확도(Accuracy): 1.0\n",
      "재현율/민감도(Recall): 1.0\n",
      "정밀도(Precision): 1.0\n",
      "F1 점수(F1 Score): 1.0\n",
      "==================================================\n",
      "==================================================\n",
      "RF_Test set에 대한 검증결과\n",
      "--------------------------------------------------\n",
      "정확도(Accuracy): 0.9357213394380106\n",
      "재현율/민감도(Recall): 0.9222520107238605\n",
      "정밀도(Precision): 0.9050466395599139\n",
      "F1 점수(F1 Score): 0.9135683244809271\n",
      "==================================================\n",
      "==================================================\n",
      "RF_Validation set에 대한 검증결과\n",
      "--------------------------------------------------\n",
      "정확도(Accuracy): 0.7593141215548972\n",
      "재현율/민감도(Recall): 0.7167318982387475\n",
      "정밀도(Precision): 0.6579833819896699\n",
      "F1 점수(F1 Score): 0.6861023299379463\n",
      "==================================================\n"
     ]
    }
   ],
   "source": [
    "print_classification_metrics(y_train, rf_grid_pred_train, title='RF_Train set에 대한 검증결과')\n",
    "print_classification_metrics(y_test, rf_grid_pred_test, title='RF_Test set에 대한 검증결과')\n",
    "print_classification_metrics(y_val, rf_grid_pred_val, title='RF_Validation set에 대한 검증결과')"
   ]
  },
  {
   "cell_type": "code",
   "execution_count": 60,
   "id": "acb759dc",
   "metadata": {
    "ExecuteTime": {
     "end_time": "2022-07-21T01:19:22.547798Z",
     "start_time": "2022-07-21T01:18:51.906860Z"
    }
   },
   "outputs": [
    {
     "data": {
      "text/html": [
       "<style>#sk-container-id-11 {color: black;background-color: white;}#sk-container-id-11 pre{padding: 0;}#sk-container-id-11 div.sk-toggleable {background-color: white;}#sk-container-id-11 label.sk-toggleable__label {cursor: pointer;display: block;width: 100%;margin-bottom: 0;padding: 0.3em;box-sizing: border-box;text-align: center;}#sk-container-id-11 label.sk-toggleable__label-arrow:before {content: \"▸\";float: left;margin-right: 0.25em;color: #696969;}#sk-container-id-11 label.sk-toggleable__label-arrow:hover:before {color: black;}#sk-container-id-11 div.sk-estimator:hover label.sk-toggleable__label-arrow:before {color: black;}#sk-container-id-11 div.sk-toggleable__content {max-height: 0;max-width: 0;overflow: hidden;text-align: left;background-color: #f0f8ff;}#sk-container-id-11 div.sk-toggleable__content pre {margin: 0.2em;color: black;border-radius: 0.25em;background-color: #f0f8ff;}#sk-container-id-11 input.sk-toggleable__control:checked~div.sk-toggleable__content {max-height: 200px;max-width: 100%;overflow: auto;}#sk-container-id-11 input.sk-toggleable__control:checked~label.sk-toggleable__label-arrow:before {content: \"▾\";}#sk-container-id-11 div.sk-estimator input.sk-toggleable__control:checked~label.sk-toggleable__label {background-color: #d4ebff;}#sk-container-id-11 div.sk-label input.sk-toggleable__control:checked~label.sk-toggleable__label {background-color: #d4ebff;}#sk-container-id-11 input.sk-hidden--visually {border: 0;clip: rect(1px 1px 1px 1px);clip: rect(1px, 1px, 1px, 1px);height: 1px;margin: -1px;overflow: hidden;padding: 0;position: absolute;width: 1px;}#sk-container-id-11 div.sk-estimator {font-family: monospace;background-color: #f0f8ff;border: 1px dotted black;border-radius: 0.25em;box-sizing: border-box;margin-bottom: 0.5em;}#sk-container-id-11 div.sk-estimator:hover {background-color: #d4ebff;}#sk-container-id-11 div.sk-parallel-item::after {content: \"\";width: 100%;border-bottom: 1px solid gray;flex-grow: 1;}#sk-container-id-11 div.sk-label:hover label.sk-toggleable__label {background-color: #d4ebff;}#sk-container-id-11 div.sk-serial::before {content: \"\";position: absolute;border-left: 1px solid gray;box-sizing: border-box;top: 0;bottom: 0;left: 50%;z-index: 0;}#sk-container-id-11 div.sk-serial {display: flex;flex-direction: column;align-items: center;background-color: white;padding-right: 0.2em;padding-left: 0.2em;position: relative;}#sk-container-id-11 div.sk-item {position: relative;z-index: 1;}#sk-container-id-11 div.sk-parallel {display: flex;align-items: stretch;justify-content: center;background-color: white;position: relative;}#sk-container-id-11 div.sk-item::before, #sk-container-id-11 div.sk-parallel-item::before {content: \"\";position: absolute;border-left: 1px solid gray;box-sizing: border-box;top: 0;bottom: 0;left: 50%;z-index: -1;}#sk-container-id-11 div.sk-parallel-item {display: flex;flex-direction: column;z-index: 1;position: relative;background-color: white;}#sk-container-id-11 div.sk-parallel-item:first-child::after {align-self: flex-end;width: 50%;}#sk-container-id-11 div.sk-parallel-item:last-child::after {align-self: flex-start;width: 50%;}#sk-container-id-11 div.sk-parallel-item:only-child::after {width: 0;}#sk-container-id-11 div.sk-dashed-wrapped {border: 1px dashed gray;margin: 0 0.4em 0.5em 0.4em;box-sizing: border-box;padding-bottom: 0.4em;background-color: white;}#sk-container-id-11 div.sk-label label {font-family: monospace;font-weight: bold;display: inline-block;line-height: 1.2em;}#sk-container-id-11 div.sk-label-container {text-align: center;}#sk-container-id-11 div.sk-container {/* jupyter's `normalize.less` sets `[hidden] { display: none; }` but bootstrap.min.css set `[hidden] { display: none !important; }` so we also need the `!important` here to be able to override the default hidden behavior on the sphinx rendered scikit-learn.org. See: https://github.com/scikit-learn/scikit-learn/issues/21755 */display: inline-block !important;position: relative;}#sk-container-id-11 div.sk-text-repr-fallback {display: none;}</style><div id=\"sk-container-id-11\" class=\"sk-top-container\"><div class=\"sk-text-repr-fallback\"><pre>RandomForestClassifier(max_depth=15, n_estimators=600, random_state=0)</pre><b>In a Jupyter environment, please rerun this cell to show the HTML representation or trust the notebook. <br />On GitHub, the HTML representation is unable to render, please try loading this page with nbviewer.org.</b></div><div class=\"sk-container\" hidden><div class=\"sk-item\"><div class=\"sk-estimator sk-toggleable\"><input class=\"sk-toggleable__control sk-hidden--visually\" id=\"sk-estimator-id-11\" type=\"checkbox\" checked><label for=\"sk-estimator-id-11\" class=\"sk-toggleable__label sk-toggleable__label-arrow\">RandomForestClassifier</label><div class=\"sk-toggleable__content\"><pre>RandomForestClassifier(max_depth=15, n_estimators=600, random_state=0)</pre></div></div></div></div></div>"
      ],
      "text/plain": [
       "RandomForestClassifier(max_depth=15, n_estimators=600, random_state=0)"
      ]
     },
     "execution_count": 60,
     "metadata": {},
     "output_type": "execute_result"
    }
   ],
   "source": [
    "rf = RandomForestClassifier(n_estimators=600, max_depth= 15, random_state=0) #모델\n",
    "\n",
    "rf.fit(X_train, y_train)"
   ]
  },
  {
   "cell_type": "code",
   "execution_count": 61,
   "id": "d5fbd480",
   "metadata": {
    "ExecuteTime": {
     "end_time": "2022-07-21T01:19:43.390513Z",
     "start_time": "2022-07-21T01:19:32.810533Z"
    }
   },
   "outputs": [],
   "source": [
    "rf_pred_train = rf.predict(X_train)\n",
    "rf_pred_test = rf.predict(X_test)\n",
    "rf_pred_val = rf.predict(X_val)"
   ]
  },
  {
   "cell_type": "code",
   "execution_count": 258,
   "id": "ab36daf6",
   "metadata": {
    "ExecuteTime": {
     "end_time": "2022-07-20T13:23:33.083014Z",
     "start_time": "2022-07-20T13:23:32.966350Z"
    },
    "collapsed": true
   },
   "outputs": [
    {
     "name": "stdout",
     "output_type": "stream",
     "text": [
      "==================================================\n",
      "RF_Train set에 대한 검증결과\n",
      "--------------------------------------------------\n",
      "정확도(Accuracy): 1.0\n",
      "재현율/민감도(Recall): 1.0\n",
      "정밀도(Precision): 1.0\n",
      "F1 점수(F1 Score): 1.0\n",
      "==================================================\n",
      "==================================================\n",
      "RF_S_Test set에 대한 검증결과\n",
      "--------------------------------------------------\n",
      "정확도(Accuracy): 0.9357213394380106\n",
      "재현율/민감도(Recall): 0.9222520107238605\n",
      "정밀도(Precision): 0.9050466395599139\n",
      "F1 점수(F1 Score): 0.9135683244809271\n",
      "==================================================\n",
      "==================================================\n",
      "RF_Validation set에 대한 검증결과\n",
      "--------------------------------------------------\n",
      "정확도(Accuracy): 0.7593141215548972\n",
      "재현율/민감도(Recall): 0.7167318982387475\n",
      "정밀도(Precision): 0.6579833819896699\n",
      "F1 점수(F1 Score): 0.6861023299379463\n",
      "==================================================\n"
     ]
    }
   ],
   "source": [
    "print_classification_metrics(y_train, rf_pred_train, title='RF_Train set에 대한 검증결과')\n",
    "print_classification_metrics(y_test, rf_pred_test, title='RF_S_Test set에 대한 검증결과')\n",
    "print_classification_metrics(y_val, rf_pred_val, title='RF_Validation set에 대한 검증결과')"
   ]
  },
  {
   "cell_type": "code",
   "execution_count": 268,
   "id": "79ac401d",
   "metadata": {
    "ExecuteTime": {
     "end_time": "2022-07-20T13:29:12.049215Z",
     "start_time": "2022-07-20T13:29:11.925172Z"
    },
    "collapsed": true
   },
   "outputs": [
    {
     "name": "stdout",
     "output_type": "stream",
     "text": [
      "==================================================\n",
      "RF_Train set에 대한 검증결과\n",
      "--------------------------------------------------\n",
      "정확도(Accuracy): 1.0\n",
      "재현율/민감도(Recall): 1.0\n",
      "정밀도(Precision): 1.0\n",
      "F1 점수(F1 Score): 1.0\n",
      "==================================================\n",
      "==================================================\n",
      "RF_S_Test set에 대한 검증결과\n",
      "--------------------------------------------------\n",
      "정확도(Accuracy): 0.9488284406140587\n",
      "재현율/민감도(Recall): 0.9432122836948574\n",
      "정밀도(Precision): 0.9198954124078916\n",
      "F1 점수(F1 Score): 0.9314079422382672\n",
      "==================================================\n",
      "==================================================\n",
      "RF_Validation set에 대한 검증결과\n",
      "--------------------------------------------------\n",
      "정확도(Accuracy): 0.7588373919874313\n",
      "재현율/민감도(Recall): 0.7205747477835525\n",
      "정밀도(Precision): 0.6561804008908686\n",
      "F1 점수(F1 Score): 0.6868716304822965\n",
      "==================================================\n"
     ]
    }
   ],
   "source": [
    "# 0.2\n",
    "print_classification_metrics(y_train, rf_pred_train, title='RF_Train set에 대한 검증결과')\n",
    "print_classification_metrics(y_test, rf_pred_test, title='RF_S_Test set에 대한 검증결과')\n",
    "print_classification_metrics(y_val, rf_pred_val, title='RF_Validation set에 대한 검증결과')"
   ]
  },
  {
   "cell_type": "code",
   "execution_count": 278,
   "id": "79e8d865",
   "metadata": {
    "ExecuteTime": {
     "end_time": "2022-07-20T13:31:00.976688Z",
     "start_time": "2022-07-20T13:31:00.852032Z"
    },
    "collapsed": true
   },
   "outputs": [
    {
     "name": "stdout",
     "output_type": "stream",
     "text": [
      "==================================================\n",
      "RF_Train set에 대한 검증결과\n",
      "--------------------------------------------------\n",
      "정확도(Accuracy): 1.0\n",
      "재현율/민감도(Recall): 1.0\n",
      "정밀도(Precision): 1.0\n",
      "F1 점수(F1 Score): 1.0\n",
      "==================================================\n",
      "==================================================\n",
      "RF_S_Test set에 대한 검증결과\n",
      "--------------------------------------------------\n",
      "정확도(Accuracy): 0.9247688302361073\n",
      "재현율/민감도(Recall): 0.9125030465513039\n",
      "정밀도(Precision): 0.8865735259294341\n",
      "F1 점수(F1 Score): 0.8993514292577469\n",
      "==================================================\n",
      "==================================================\n",
      "RF_Validation set에 대한 검증결과\n",
      "--------------------------------------------------\n",
      "정확도(Accuracy): 0.7586413287445758\n",
      "재현율/민감도(Recall): 0.7256420709335507\n",
      "정밀도(Precision): 0.6544117647058824\n",
      "F1 점수(F1 Score): 0.6881886719505123\n",
      "==================================================\n"
     ]
    }
   ],
   "source": [
    "# 0.3\n",
    "print_classification_metrics(y_train, rf_pred_train, title='RF_Train set에 대한 검증결과')\n",
    "print_classification_metrics(y_test, rf_pred_test, title='RF_S_Test set에 대한 검증결과')\n",
    "print_classification_metrics(y_val, rf_pred_val, title='RF_Validation set에 대한 검증결과')"
   ]
  },
  {
   "cell_type": "code",
   "execution_count": 31,
   "id": "df325033",
   "metadata": {
    "ExecuteTime": {
     "end_time": "2022-07-21T00:56:24.321042Z",
     "start_time": "2022-07-21T00:56:24.225252Z"
    },
    "collapsed": true
   },
   "outputs": [
    {
     "name": "stdout",
     "output_type": "stream",
     "text": [
      "==================================================\n",
      "RF_Train set에 대한 검증결과\n",
      "--------------------------------------------------\n",
      "정확도(Accuracy): 1.0\n",
      "재현율/민감도(Recall): 1.0\n",
      "정밀도(Precision): 1.0\n",
      "F1 점수(F1 Score): 1.0\n",
      "==================================================\n",
      "==================================================\n",
      "RF_S_Test set에 대한 검증결과\n",
      "--------------------------------------------------\n",
      "정확도(Accuracy): 0.80765639589169\n",
      "재현율/민감도(Recall): 0.7751271020727415\n",
      "정밀도(Precision): 0.7217771303714494\n",
      "F1 점수(F1 Score): 0.7475014142937961\n",
      "==================================================\n",
      "==================================================\n",
      "RF_Validation set에 대한 검증결과\n",
      "--------------------------------------------------\n",
      "정확도(Accuracy): 0.8075173569547522\n",
      "재현율/민감도(Recall): 0.7790091264667536\n",
      "정밀도(Precision): 0.7198795180722891\n",
      "F1 점수(F1 Score): 0.7482780212899186\n",
      "==================================================\n"
     ]
    }
   ],
   "source": [
    "#max_depth =27\n",
    "print_classification_metrics(y_train, rf_pred_train, title='RF_Train set에 대한 검증결과')\n",
    "print_classification_metrics(y_test, rf_pred_test, title='RF_S_Test set에 대한 검증결과')\n",
    "print_classification_metrics(y_val, rf_pred_val, title='RF_Validation set에 대한 검증결과')"
   ]
  },
  {
   "cell_type": "code",
   "execution_count": 34,
   "id": "53ad4124",
   "metadata": {
    "ExecuteTime": {
     "end_time": "2022-07-21T01:07:24.734956Z",
     "start_time": "2022-07-21T01:07:24.583795Z"
    },
    "collapsed": true
   },
   "outputs": [
    {
     "name": "stdout",
     "output_type": "stream",
     "text": [
      "==================================================\n",
      "RF_Train set에 대한 검증결과\n",
      "--------------------------------------------------\n",
      "정확도(Accuracy): 0.9995895752103428\n",
      "재현율/민감도(Recall): 0.9996275258403948\n",
      "정밀도(Precision): 0.9992553290514754\n",
      "F1 점수(F1 Score): 0.999441392793967\n",
      "==================================================\n",
      "==================================================\n",
      "RF_S_Test set에 대한 검증결과\n",
      "--------------------------------------------------\n",
      "정확도(Accuracy): 0.8081591611003376\n",
      "재현율/민감도(Recall): 0.7743449354712554\n",
      "정밀도(Precision): 0.7230235530399854\n",
      "F1 점수(F1 Score): 0.7478047398734776\n",
      "==================================================\n",
      "==================================================\n",
      "RF_Validation set에 대한 검증결과\n",
      "--------------------------------------------------\n",
      "정확도(Accuracy): 0.8051232942303088\n",
      "재현율/민감도(Recall): 0.7757496740547588\n",
      "정밀도(Precision): 0.7168674698795181\n",
      "F1 점수(F1 Score): 0.7451471509079525\n",
      "==================================================\n"
     ]
    }
   ],
   "source": [
    "#max_depth =22\n",
    "print_classification_metrics(y_train, rf_pred_train, title='RF_Train set에 대한 검증결과')\n",
    "print_classification_metrics(y_test, rf_pred_test, title='RF_S_Test set에 대한 검증결과')\n",
    "print_classification_metrics(y_val, rf_pred_val, title='RF_Validation set에 대한 검증결과')"
   ]
  },
  {
   "cell_type": "code",
   "execution_count": 40,
   "id": "495fb544",
   "metadata": {
    "ExecuteTime": {
     "end_time": "2022-07-21T01:10:14.981227Z",
     "start_time": "2022-07-21T01:10:14.812678Z"
    }
   },
   "outputs": [
    {
     "name": "stdout",
     "output_type": "stream",
     "text": [
      "==================================================\n",
      "RF_Train set에 대한 검증결과\n",
      "--------------------------------------------------\n",
      "정확도(Accuracy): 0.9534509884397018\n",
      "재현율/민감도(Recall): 0.958562249743924\n",
      "정밀도(Precision): 0.9182872435325602\n",
      "F1 점수(F1 Score): 0.9379926192537246\n",
      "==================================================\n",
      "==================================================\n",
      "RF_S_Test set에 대한 검증결과\n",
      "--------------------------------------------------\n",
      "정확도(Accuracy): 0.7963082668965021\n",
      "재현율/민감도(Recall): 0.771998435666797\n",
      "정밀도(Precision): 0.7027411890352439\n",
      "F1 점수(F1 Score): 0.735743570629892\n",
      "==================================================\n",
      "==================================================\n",
      "RF_Validation set에 대한 검증결과\n",
      "--------------------------------------------------\n",
      "정확도(Accuracy): 0.7955470433325353\n",
      "재현율/민감도(Recall): 0.772490221642764\n",
      "정밀도(Precision): 0.7011834319526628\n",
      "F1 점수(F1 Score): 0.7351116625310173\n",
      "==================================================\n"
     ]
    }
   ],
   "source": [
    "#max_depth = 15\n",
    "print_classification_metrics(y_train, rf_pred_train, title='RF_Train set에 대한 검증결과')\n",
    "print_classification_metrics(y_test, rf_pred_test, title='RF_S_Test set에 대한 검증결과')\n",
    "print_classification_metrics(y_val, rf_pred_val, title='RF_Validation set에 대한 검증결과')"
   ]
  },
  {
   "cell_type": "code",
   "execution_count": 62,
   "id": "a24fa648",
   "metadata": {
    "ExecuteTime": {
     "end_time": "2022-07-21T01:19:45.715349Z",
     "start_time": "2022-07-21T01:19:45.559765Z"
    }
   },
   "outputs": [
    {
     "name": "stdout",
     "output_type": "stream",
     "text": [
      "==================================================\n",
      "RF_Train set에 대한 검증결과\n",
      "--------------------------------------------------\n",
      "정확도(Accuracy): 0.9569395991517887\n",
      "재현율/민감도(Recall): 0.9685259335133625\n",
      "정밀도(Precision): 0.9186539480657128\n",
      "F1 점수(F1 Score): 0.9429309641448711\n",
      "==================================================\n",
      "==================================================\n",
      "RF_S_Test set에 대한 검증결과\n",
      "--------------------------------------------------\n",
      "정확도(Accuracy): 0.7942972060619119\n",
      "재현율/민감도(Recall): 0.7675009777082519\n",
      "정밀도(Precision): 0.7008928571428571\n",
      "F1 점수(F1 Score): 0.7326862049654658\n",
      "==================================================\n",
      "==================================================\n",
      "RF_Validation set에 대한 검증결과\n",
      "--------------------------------------------------\n",
      "정확도(Accuracy): 0.7925943659723885\n",
      "재현율/민감도(Recall): 0.7716210343328987\n",
      "정밀도(Precision): 0.6964110609923514\n",
      "F1 점수(F1 Score): 0.7320894753118236\n",
      "==================================================\n"
     ]
    }
   ],
   "source": [
    "#max_depth = 15, 전체 이상치 변환\n",
    "print_classification_metrics(y_train, rf_pred_train, title='RF_Train set에 대한 검증결과')\n",
    "print_classification_metrics(y_test, rf_pred_test, title='RF_S_Test set에 대한 검증결과')\n",
    "print_classification_metrics(y_val, rf_pred_val, title='RF_Validation set에 대한 검증결과')"
   ]
  },
  {
   "cell_type": "code",
   "execution_count": 13,
   "id": "8219cee6",
   "metadata": {
    "ExecuteTime": {
     "end_time": "2022-07-21T13:04:34.632010Z",
     "start_time": "2022-07-21T13:04:34.357624Z"
    }
   },
   "outputs": [
    {
     "data": {
      "image/png": "[encoded data removed]",
      "text/plain": [
       "<Figure size 720x360 with 1 Axes>"
      ]
     },
     "metadata": {
      "needs_background": "light"
     },
     "output_type": "display_data"
    }
   ],
   "source": [
    "total_accuracy = pd.Series([0.77, 0.74, 0.82, 0.75, 0.81, 0.79, 0.79]\n",
    "                  ,index=[\"SVM\", \"Tree\", 'RandomForest', 'LogisticRegression', 'XGBoost','Voting_Hard','Voting_Soft'])\n",
    "colors=['#E3F2FD', '#BBDEFB', '#90CAF9', '#64B5F6', '#42A5F5','#2196F3', '#1E88E5']\n",
    "total_accuracy.T.plot.bar(figsize=(10,5),rot=0, edgecolor = 'black',color=colors)\n",
    "for i, j in enumerate(total_accuracy):\n",
    "    plt.text(i-0.1, j+0.01, j)"
   ]
  }
 ],
 "metadata": {
  "kernelspec": {
   "display_name": "Python 3 (ipykernel)",
   "language": "python",
   "name": "python3"
  },
  "language_info": {
   "codemirror_mode": {
    "name": "ipython",
    "version": 3
   },
   "file_extension": ".py",
   "mimetype": "text/x-python",
   "name": "python",
   "nbconvert_exporter": "python",
   "pygments_lexer": "ipython3",
   "version": "3.10.2"
  }
 },
 "nbformat": 4,
 "nbformat_minor": 5
}
